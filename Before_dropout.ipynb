{
  "nbformat": 4,
  "nbformat_minor": 0,
  "metadata": {
    "colab": {
      "name": "Before_dropout.ipynb",
      "version": "0.3.2",
      "provenance": [],
      "collapsed_sections": []
    },
    "kernelspec": {
      "name": "python3",
      "display_name": "Python 3"
    }
  },
  "cells": [
    {
      "metadata": {
        "id": "96ALNiWdxhi3",
        "colab_type": "code",
        "outputId": "8296c2fb-6050-4e67-9788-b19ec0d15bcc",
        "colab": {
          "base_uri": "https://localhost:8080/",
          "height": 35
        }
      },
      "cell_type": "code",
      "source": [
        "from __future__ import print_function\n",
        "import numpy as np\n",
        "from keras.datasets import mnist\n",
        "from keras.models import Sequential\n",
        "from keras.layers.core import Dense,Activation\n",
        "from keras.optimizers import SGD\n",
        "from keras.utils import np_utils\n",
        "from keras.layers.core import Dense, Dropout, Activation"
      ],
      "execution_count": 0,
      "outputs": [
        {
          "output_type": "stream",
          "text": [
            "Using TensorFlow backend.\n"
          ],
          "name": "stderr"
        }
      ]
    },
    {
      "metadata": {
        "id": "T3GBhiUyyN_I",
        "colab_type": "code",
        "colab": {}
      },
      "cell_type": "code",
      "source": [
        "np.random.seed(1671) #for reproducibility"
      ],
      "execution_count": 0,
      "outputs": []
    },
    {
      "metadata": {
        "id": "XAhi9H570LhF",
        "colab_type": "code",
        "colab": {}
      },
      "cell_type": "code",
      "source": [
        "#network and training\n",
        "NB_EPOCH=200\n",
        "BATCH_SIZE=128\n",
        "VERBOSE=1\n",
        "NB_CLASSES=10 #number of outputs=number of digits\n",
        "OPTIMIZER=SGD() \n",
        "N_HIDDEN=128\n",
        "VALIDATION_SPLIT=0.2 #how much TRAIN is reserved for validation\n"
      ],
      "execution_count": 0,
      "outputs": []
    },
    {
      "metadata": {
        "id": "DM9HOKai0u_V",
        "colab_type": "code",
        "colab": {}
      },
      "cell_type": "code",
      "source": [
        "#data is shuffled and split between train and test sets\n",
        "(X_train,y_train),(X_test,y_test)=mnist.load_data()\n"
      ],
      "execution_count": 0,
      "outputs": []
    },
    {
      "metadata": {
        "id": "V2EXcl-Q1KDm",
        "colab_type": "code",
        "outputId": "c6ca9335-738e-4c46-f1d2-ce65a767349f",
        "colab": {
          "base_uri": "https://localhost:8080/",
          "height": 89
        }
      },
      "cell_type": "code",
      "source": [
        "print(\"Shape of X_train\"+str(X_train.shape))\n",
        "print(\"Shape of y_train\"+str(y_train.shape))\n",
        "print(\"Shape of X_test\"+str(X_test.shape))\n",
        "print(\"Shape of y_test\"+str(y_test.shape))"
      ],
      "execution_count": 0,
      "outputs": [
        {
          "output_type": "stream",
          "text": [
            "Shape of X_train(60000, 28, 28)\n",
            "Shape of y_train(60000,)\n",
            "Shape of X_test(10000, 28, 28)\n",
            "Shape of y_test(10000,)\n"
          ],
          "name": "stdout"
        }
      ]
    },
    {
      "metadata": {
        "id": "qn--qUTE1rEF",
        "colab_type": "code",
        "colab": {}
      },
      "cell_type": "code",
      "source": [
        "#X_train is 60000 rows of 28*28 values--> rshaped in 60000*784\n",
        "X_train=X_train.reshape(60000,784)\n",
        "X_test=X_test.reshape(10000,784)\n",
        "X_train=X_train.astype('float32')\n",
        "X_test=X_test.astype('float32')"
      ],
      "execution_count": 0,
      "outputs": []
    },
    {
      "metadata": {
        "id": "Emux6_a13Lnu",
        "colab_type": "code",
        "outputId": "e006bb1a-8d7e-45b0-c479-3971821fb475",
        "colab": {
          "base_uri": "https://localhost:8080/",
          "height": 53
        }
      },
      "cell_type": "code",
      "source": [
        "#normalize fixel with in 0/1 so divide by 255 and 10 classes each digit for one digit\n",
        "X_train/=255\n",
        "X_test/=255\n",
        "print(X_train.shape[0],'train samples')\n",
        "print(X_test.shape[0],'test samples')"
      ],
      "execution_count": 0,
      "outputs": [
        {
          "output_type": "stream",
          "text": [
            "60000 train samples\n",
            "10000 test samples\n"
          ],
          "name": "stdout"
        }
      ]
    },
    {
      "metadata": {
        "id": "dgnCIc5I34m-",
        "colab_type": "code",
        "colab": {}
      },
      "cell_type": "code",
      "source": [
        "#convert class vectors to binary class matrics\n",
        "y_train=np_utils.to_categorical(y_train,NB_CLASSES)\n",
        "y_test=np_utils.to_categorical(y_test,NB_CLASSES)"
      ],
      "execution_count": 0,
      "outputs": []
    },
    {
      "metadata": {
        "id": "PQCZcOgu4WmO",
        "colab_type": "code",
        "colab": {}
      },
      "cell_type": "code",
      "source": [
        "#10 outputs\n",
        "#final stage is softmax\n",
        "RESHAPED=784\n",
        "N_HIDDEN=128\n",
        "DROPOUT=0.3\n",
        "\n"
      ],
      "execution_count": 0,
      "outputs": []
    },
    {
      "metadata": {
        "id": "smdq76ZX7kf7",
        "colab_type": "code",
        "colab": {}
      },
      "cell_type": "code",
      "source": [
        "model=Sequential()\n",
        "model.add(Dense(N_HIDDEN,input_shape=(RESHAPED,)))\n",
        "model.add(Activation('relu'))\n",
        "\n",
        "model.add(Dense(N_HIDDEN))\n",
        "model.add(Activation('relu'))\n",
        "\n",
        "model.add(Dense(NB_CLASSES))\n",
        "model.add(Activation('softmax'))"
      ],
      "execution_count": 0,
      "outputs": []
    },
    {
      "metadata": {
        "id": "EXHKPf8m8Q7v",
        "colab_type": "code",
        "outputId": "37a89a71-6e75-4b31-b05a-0aa389b614db",
        "colab": {
          "base_uri": "https://localhost:8080/",
          "height": 359
        }
      },
      "cell_type": "code",
      "source": [
        "model.summary()"
      ],
      "execution_count": 0,
      "outputs": [
        {
          "output_type": "stream",
          "text": [
            "_________________________________________________________________\n",
            "Layer (type)                 Output Shape              Param #   \n",
            "=================================================================\n",
            "dense_7 (Dense)              (None, 128)               100480    \n",
            "_________________________________________________________________\n",
            "activation_7 (Activation)    (None, 128)               0         \n",
            "_________________________________________________________________\n",
            "dense_8 (Dense)              (None, 128)               16512     \n",
            "_________________________________________________________________\n",
            "activation_8 (Activation)    (None, 128)               0         \n",
            "_________________________________________________________________\n",
            "dense_9 (Dense)              (None, 10)                1290      \n",
            "_________________________________________________________________\n",
            "activation_9 (Activation)    (None, 10)                0         \n",
            "=================================================================\n",
            "Total params: 118,282\n",
            "Trainable params: 118,282\n",
            "Non-trainable params: 0\n",
            "_________________________________________________________________\n"
          ],
          "name": "stdout"
        }
      ]
    },
    {
      "metadata": {
        "id": "zwCif11N8Tod",
        "colab_type": "code",
        "colab": {}
      },
      "cell_type": "code",
      "source": [
        "model.compile(loss='categorical_crossentropy',optimizer=OPTIMIZER,metrics=['accuracy'])"
      ],
      "execution_count": 0,
      "outputs": []
    },
    {
      "metadata": {
        "id": "LRWDM5wd9vB6",
        "colab_type": "code",
        "outputId": "071a162f-dac5-4f65-835e-7c0046b2c8eb",
        "colab": {
          "base_uri": "https://localhost:8080/",
          "height": 7235
        }
      },
      "cell_type": "code",
      "source": [
        "history=model.fit(X_train,y_train,batch_size=BATCH_SIZE,epochs=NB_EPOCH,verbose=VERBOSE,validation_split=VALIDATION_SPLIT)"
      ],
      "execution_count": 0,
      "outputs": [
        {
          "output_type": "stream",
          "text": [
            "Train on 48000 samples, validate on 12000 samples\n",
            "Epoch 1/200\n",
            "48000/48000 [==============================] - 2s 51us/step - loss: 1.4366 - acc: 0.6428 - val_loss: 0.7225 - val_acc: 0.8389\n",
            "Epoch 2/200\n",
            "48000/48000 [==============================] - 2s 46us/step - loss: 0.5818 - acc: 0.8547 - val_loss: 0.4409 - val_acc: 0.8839\n",
            "Epoch 3/200\n",
            "48000/48000 [==============================] - 2s 46us/step - loss: 0.4278 - acc: 0.8840 - val_loss: 0.3646 - val_acc: 0.8977\n",
            "Epoch 4/200\n",
            "48000/48000 [==============================] - 2s 45us/step - loss: 0.3699 - acc: 0.8970 - val_loss: 0.3286 - val_acc: 0.9074\n",
            "Epoch 5/200\n",
            "48000/48000 [==============================] - 2s 47us/step - loss: 0.3371 - acc: 0.9044 - val_loss: 0.3039 - val_acc: 0.9127\n",
            "Epoch 6/200\n",
            "48000/48000 [==============================] - 2s 49us/step - loss: 0.3144 - acc: 0.9105 - val_loss: 0.2869 - val_acc: 0.9172\n",
            "Epoch 7/200\n",
            "48000/48000 [==============================] - 2s 50us/step - loss: 0.2970 - acc: 0.9152 - val_loss: 0.2729 - val_acc: 0.9231\n",
            "Epoch 8/200\n",
            "48000/48000 [==============================] - 2s 49us/step - loss: 0.2828 - acc: 0.9188 - val_loss: 0.2626 - val_acc: 0.9250\n",
            "Epoch 9/200\n",
            "48000/48000 [==============================] - 2s 49us/step - loss: 0.2705 - acc: 0.9227 - val_loss: 0.2514 - val_acc: 0.9278\n",
            "Epoch 10/200\n",
            "48000/48000 [==============================] - 2s 45us/step - loss: 0.2599 - acc: 0.9263 - val_loss: 0.2430 - val_acc: 0.9296\n",
            "Epoch 11/200\n",
            "48000/48000 [==============================] - 2s 46us/step - loss: 0.2503 - acc: 0.9291 - val_loss: 0.2352 - val_acc: 0.9307\n",
            "Epoch 12/200\n",
            "48000/48000 [==============================] - 2s 45us/step - loss: 0.2415 - acc: 0.9310 - val_loss: 0.2279 - val_acc: 0.9339\n",
            "Epoch 13/200\n",
            "48000/48000 [==============================] - 2s 44us/step - loss: 0.2334 - acc: 0.9336 - val_loss: 0.2218 - val_acc: 0.9359\n",
            "Epoch 14/200\n",
            "48000/48000 [==============================] - 2s 43us/step - loss: 0.2260 - acc: 0.9356 - val_loss: 0.2164 - val_acc: 0.9367\n",
            "Epoch 15/200\n",
            "48000/48000 [==============================] - 2s 43us/step - loss: 0.2193 - acc: 0.9373 - val_loss: 0.2114 - val_acc: 0.9391\n",
            "Epoch 16/200\n",
            "48000/48000 [==============================] - 2s 40us/step - loss: 0.2126 - acc: 0.9396 - val_loss: 0.2053 - val_acc: 0.9414\n",
            "Epoch 17/200\n",
            "48000/48000 [==============================] - 2s 38us/step - loss: 0.2065 - acc: 0.9414 - val_loss: 0.2006 - val_acc: 0.9421\n",
            "Epoch 18/200\n",
            "48000/48000 [==============================] - 2s 39us/step - loss: 0.2007 - acc: 0.9422 - val_loss: 0.1952 - val_acc: 0.9437\n",
            "Epoch 19/200\n",
            "48000/48000 [==============================] - 2s 38us/step - loss: 0.1950 - acc: 0.9439 - val_loss: 0.1925 - val_acc: 0.9436\n",
            "Epoch 20/200\n",
            "48000/48000 [==============================] - 2s 41us/step - loss: 0.1900 - acc: 0.9454 - val_loss: 0.1874 - val_acc: 0.9473\n",
            "Epoch 21/200\n",
            "48000/48000 [==============================] - 2s 45us/step - loss: 0.1852 - acc: 0.9466 - val_loss: 0.1832 - val_acc: 0.9476\n",
            "Epoch 22/200\n",
            "48000/48000 [==============================] - 2s 45us/step - loss: 0.1804 - acc: 0.9479 - val_loss: 0.1805 - val_acc: 0.9494\n",
            "Epoch 23/200\n",
            "48000/48000 [==============================] - 2s 45us/step - loss: 0.1758 - acc: 0.9489 - val_loss: 0.1767 - val_acc: 0.9502\n",
            "Epoch 24/200\n",
            "48000/48000 [==============================] - 2s 44us/step - loss: 0.1715 - acc: 0.9504 - val_loss: 0.1741 - val_acc: 0.9515\n",
            "Epoch 25/200\n",
            "48000/48000 [==============================] - 2s 44us/step - loss: 0.1673 - acc: 0.9517 - val_loss: 0.1701 - val_acc: 0.9523\n",
            "Epoch 26/200\n",
            "48000/48000 [==============================] - 2s 43us/step - loss: 0.1634 - acc: 0.9527 - val_loss: 0.1680 - val_acc: 0.9534\n",
            "Epoch 27/200\n",
            "48000/48000 [==============================] - 2s 45us/step - loss: 0.1596 - acc: 0.9538 - val_loss: 0.1636 - val_acc: 0.9546\n",
            "Epoch 28/200\n",
            "48000/48000 [==============================] - 2s 44us/step - loss: 0.1559 - acc: 0.9548 - val_loss: 0.1614 - val_acc: 0.9544\n",
            "Epoch 29/200\n",
            "48000/48000 [==============================] - 2s 46us/step - loss: 0.1523 - acc: 0.9561 - val_loss: 0.1604 - val_acc: 0.9546\n",
            "Epoch 30/200\n",
            "48000/48000 [==============================] - 2s 45us/step - loss: 0.1490 - acc: 0.9566 - val_loss: 0.1562 - val_acc: 0.9563\n",
            "Epoch 31/200\n",
            "48000/48000 [==============================] - 2s 46us/step - loss: 0.1456 - acc: 0.9582 - val_loss: 0.1542 - val_acc: 0.9571\n",
            "Epoch 32/200\n",
            "48000/48000 [==============================] - 2s 47us/step - loss: 0.1425 - acc: 0.9586 - val_loss: 0.1524 - val_acc: 0.9573\n",
            "Epoch 33/200\n",
            "48000/48000 [==============================] - 2s 46us/step - loss: 0.1396 - acc: 0.9601 - val_loss: 0.1508 - val_acc: 0.9585\n",
            "Epoch 34/200\n",
            "48000/48000 [==============================] - 2s 44us/step - loss: 0.1367 - acc: 0.9611 - val_loss: 0.1486 - val_acc: 0.9588\n",
            "Epoch 35/200\n",
            "48000/48000 [==============================] - 2s 45us/step - loss: 0.1340 - acc: 0.9617 - val_loss: 0.1460 - val_acc: 0.9593\n",
            "Epoch 36/200\n",
            "48000/48000 [==============================] - 2s 45us/step - loss: 0.1313 - acc: 0.9619 - val_loss: 0.1445 - val_acc: 0.9598\n",
            "Epoch 37/200\n",
            "48000/48000 [==============================] - 2s 47us/step - loss: 0.1287 - acc: 0.9634 - val_loss: 0.1422 - val_acc: 0.9600\n",
            "Epoch 38/200\n",
            "48000/48000 [==============================] - 2s 45us/step - loss: 0.1262 - acc: 0.9647 - val_loss: 0.1403 - val_acc: 0.9610\n",
            "Epoch 39/200\n",
            "48000/48000 [==============================] - 2s 45us/step - loss: 0.1237 - acc: 0.9646 - val_loss: 0.1391 - val_acc: 0.9608\n",
            "Epoch 40/200\n",
            "48000/48000 [==============================] - 2s 45us/step - loss: 0.1215 - acc: 0.9654 - val_loss: 0.1376 - val_acc: 0.9611\n",
            "Epoch 41/200\n",
            "48000/48000 [==============================] - 2s 45us/step - loss: 0.1193 - acc: 0.9661 - val_loss: 0.1353 - val_acc: 0.9622\n",
            "Epoch 42/200\n",
            "48000/48000 [==============================] - 2s 45us/step - loss: 0.1170 - acc: 0.9668 - val_loss: 0.1343 - val_acc: 0.9620\n",
            "Epoch 43/200\n",
            "48000/48000 [==============================] - 2s 45us/step - loss: 0.1150 - acc: 0.9672 - val_loss: 0.1326 - val_acc: 0.9629\n",
            "Epoch 44/200\n",
            "48000/48000 [==============================] - 2s 44us/step - loss: 0.1131 - acc: 0.9683 - val_loss: 0.1321 - val_acc: 0.9630\n",
            "Epoch 45/200\n",
            "48000/48000 [==============================] - 2s 46us/step - loss: 0.1110 - acc: 0.9686 - val_loss: 0.1304 - val_acc: 0.9631\n",
            "Epoch 46/200\n",
            "48000/48000 [==============================] - 2s 45us/step - loss: 0.1091 - acc: 0.9691 - val_loss: 0.1286 - val_acc: 0.9641\n",
            "Epoch 47/200\n",
            "48000/48000 [==============================] - 2s 45us/step - loss: 0.1071 - acc: 0.9696 - val_loss: 0.1285 - val_acc: 0.9638\n",
            "Epoch 48/200\n",
            "48000/48000 [==============================] - 2s 45us/step - loss: 0.1054 - acc: 0.9704 - val_loss: 0.1268 - val_acc: 0.9653\n",
            "Epoch 49/200\n",
            "48000/48000 [==============================] - 2s 45us/step - loss: 0.1038 - acc: 0.9703 - val_loss: 0.1256 - val_acc: 0.9644\n",
            "Epoch 50/200\n",
            "48000/48000 [==============================] - 2s 46us/step - loss: 0.1020 - acc: 0.9712 - val_loss: 0.1244 - val_acc: 0.9652\n",
            "Epoch 51/200\n",
            "48000/48000 [==============================] - 2s 45us/step - loss: 0.1003 - acc: 0.9713 - val_loss: 0.1234 - val_acc: 0.9650\n",
            "Epoch 52/200\n",
            "48000/48000 [==============================] - 2s 45us/step - loss: 0.0986 - acc: 0.9720 - val_loss: 0.1230 - val_acc: 0.9655\n",
            "Epoch 53/200\n",
            "48000/48000 [==============================] - 2s 45us/step - loss: 0.0971 - acc: 0.9723 - val_loss: 0.1214 - val_acc: 0.9654\n",
            "Epoch 54/200\n",
            "48000/48000 [==============================] - 2s 45us/step - loss: 0.0954 - acc: 0.9729 - val_loss: 0.1209 - val_acc: 0.9657\n",
            "Epoch 55/200\n",
            "48000/48000 [==============================] - 2s 44us/step - loss: 0.0942 - acc: 0.9734 - val_loss: 0.1196 - val_acc: 0.9664\n",
            "Epoch 56/200\n",
            "48000/48000 [==============================] - 2s 43us/step - loss: 0.0925 - acc: 0.9740 - val_loss: 0.1188 - val_acc: 0.9660\n",
            "Epoch 57/200\n",
            "48000/48000 [==============================] - 2s 42us/step - loss: 0.0912 - acc: 0.9741 - val_loss: 0.1177 - val_acc: 0.9666\n",
            "Epoch 58/200\n",
            "48000/48000 [==============================] - 2s 45us/step - loss: 0.0898 - acc: 0.9744 - val_loss: 0.1165 - val_acc: 0.9667\n",
            "Epoch 59/200\n",
            "48000/48000 [==============================] - 2s 45us/step - loss: 0.0884 - acc: 0.9752 - val_loss: 0.1163 - val_acc: 0.9665\n",
            "Epoch 60/200\n",
            "48000/48000 [==============================] - 2s 47us/step - loss: 0.0870 - acc: 0.9751 - val_loss: 0.1157 - val_acc: 0.9671\n",
            "Epoch 61/200\n",
            "48000/48000 [==============================] - 2s 46us/step - loss: 0.0857 - acc: 0.9756 - val_loss: 0.1138 - val_acc: 0.9677\n",
            "Epoch 62/200\n",
            "48000/48000 [==============================] - 2s 46us/step - loss: 0.0844 - acc: 0.9761 - val_loss: 0.1135 - val_acc: 0.9678\n",
            "Epoch 63/200\n",
            "48000/48000 [==============================] - 2s 46us/step - loss: 0.0832 - acc: 0.9765 - val_loss: 0.1131 - val_acc: 0.9676\n",
            "Epoch 64/200\n",
            "48000/48000 [==============================] - 2s 46us/step - loss: 0.0819 - acc: 0.9770 - val_loss: 0.1116 - val_acc: 0.9684\n",
            "Epoch 65/200\n",
            "48000/48000 [==============================] - 2s 44us/step - loss: 0.0809 - acc: 0.9771 - val_loss: 0.1110 - val_acc: 0.9685\n",
            "Epoch 66/200\n",
            "48000/48000 [==============================] - 2s 45us/step - loss: 0.0796 - acc: 0.9777 - val_loss: 0.1110 - val_acc: 0.9681\n",
            "Epoch 67/200\n",
            "48000/48000 [==============================] - 2s 45us/step - loss: 0.0785 - acc: 0.9779 - val_loss: 0.1108 - val_acc: 0.9680\n",
            "Epoch 68/200\n",
            "48000/48000 [==============================] - 2s 45us/step - loss: 0.0773 - acc: 0.9786 - val_loss: 0.1097 - val_acc: 0.9685\n",
            "Epoch 69/200\n",
            "48000/48000 [==============================] - 2s 46us/step - loss: 0.0763 - acc: 0.9789 - val_loss: 0.1087 - val_acc: 0.9682\n",
            "Epoch 70/200\n",
            "48000/48000 [==============================] - 2s 45us/step - loss: 0.0752 - acc: 0.9792 - val_loss: 0.1085 - val_acc: 0.9694\n",
            "Epoch 71/200\n",
            "48000/48000 [==============================] - 2s 45us/step - loss: 0.0741 - acc: 0.9794 - val_loss: 0.1079 - val_acc: 0.9688\n",
            "Epoch 72/200\n",
            "48000/48000 [==============================] - 2s 45us/step - loss: 0.0732 - acc: 0.9799 - val_loss: 0.1067 - val_acc: 0.9692\n",
            "Epoch 73/200\n",
            "48000/48000 [==============================] - 2s 47us/step - loss: 0.0720 - acc: 0.9799 - val_loss: 0.1070 - val_acc: 0.9692\n",
            "Epoch 74/200\n",
            "48000/48000 [==============================] - 2s 46us/step - loss: 0.0712 - acc: 0.9800 - val_loss: 0.1060 - val_acc: 0.9691\n",
            "Epoch 75/200\n",
            "48000/48000 [==============================] - 2s 45us/step - loss: 0.0702 - acc: 0.9806 - val_loss: 0.1072 - val_acc: 0.9693\n",
            "Epoch 76/200\n",
            "48000/48000 [==============================] - 2s 43us/step - loss: 0.0692 - acc: 0.9805 - val_loss: 0.1051 - val_acc: 0.9700\n",
            "Epoch 77/200\n",
            "48000/48000 [==============================] - 2s 43us/step - loss: 0.0684 - acc: 0.9809 - val_loss: 0.1050 - val_acc: 0.9698\n",
            "Epoch 78/200\n",
            "48000/48000 [==============================] - 2s 44us/step - loss: 0.0672 - acc: 0.9814 - val_loss: 0.1037 - val_acc: 0.9703\n",
            "Epoch 79/200\n",
            "48000/48000 [==============================] - 2s 43us/step - loss: 0.0664 - acc: 0.9817 - val_loss: 0.1035 - val_acc: 0.9706\n",
            "Epoch 80/200\n",
            "48000/48000 [==============================] - 2s 45us/step - loss: 0.0656 - acc: 0.9818 - val_loss: 0.1029 - val_acc: 0.9702\n",
            "Epoch 81/200\n",
            "48000/48000 [==============================] - 2s 45us/step - loss: 0.0648 - acc: 0.9821 - val_loss: 0.1027 - val_acc: 0.9702\n",
            "Epoch 82/200\n",
            "48000/48000 [==============================] - 2s 46us/step - loss: 0.0639 - acc: 0.9826 - val_loss: 0.1022 - val_acc: 0.9709\n",
            "Epoch 83/200\n",
            "48000/48000 [==============================] - 2s 45us/step - loss: 0.0630 - acc: 0.9826 - val_loss: 0.1016 - val_acc: 0.9706\n",
            "Epoch 84/200\n",
            "48000/48000 [==============================] - 2s 44us/step - loss: 0.0622 - acc: 0.9829 - val_loss: 0.1016 - val_acc: 0.9704\n",
            "Epoch 85/200\n",
            "48000/48000 [==============================] - 2s 45us/step - loss: 0.0613 - acc: 0.9829 - val_loss: 0.1014 - val_acc: 0.9717\n",
            "Epoch 86/200\n",
            "48000/48000 [==============================] - 2s 43us/step - loss: 0.0604 - acc: 0.9838 - val_loss: 0.1014 - val_acc: 0.9712\n",
            "Epoch 87/200\n",
            "48000/48000 [==============================] - 2s 44us/step - loss: 0.0597 - acc: 0.9836 - val_loss: 0.0998 - val_acc: 0.9718\n",
            "Epoch 88/200\n",
            "48000/48000 [==============================] - 2s 44us/step - loss: 0.0590 - acc: 0.9838 - val_loss: 0.0997 - val_acc: 0.9713\n",
            "Epoch 89/200\n",
            "48000/48000 [==============================] - 2s 44us/step - loss: 0.0582 - acc: 0.9839 - val_loss: 0.0991 - val_acc: 0.9719\n",
            "Epoch 90/200\n",
            "48000/48000 [==============================] - 2s 43us/step - loss: 0.0574 - acc: 0.9843 - val_loss: 0.0992 - val_acc: 0.9715\n",
            "Epoch 91/200\n",
            "48000/48000 [==============================] - 2s 44us/step - loss: 0.0567 - acc: 0.9847 - val_loss: 0.0991 - val_acc: 0.9715\n",
            "Epoch 92/200\n",
            "48000/48000 [==============================] - 2s 44us/step - loss: 0.0559 - acc: 0.9851 - val_loss: 0.0986 - val_acc: 0.9713\n",
            "Epoch 93/200\n",
            "48000/48000 [==============================] - 2s 44us/step - loss: 0.0553 - acc: 0.9850 - val_loss: 0.0980 - val_acc: 0.9720\n",
            "Epoch 94/200\n",
            "48000/48000 [==============================] - 2s 44us/step - loss: 0.0546 - acc: 0.9853 - val_loss: 0.0985 - val_acc: 0.9713\n",
            "Epoch 95/200\n",
            "48000/48000 [==============================] - 2s 43us/step - loss: 0.0538 - acc: 0.9856 - val_loss: 0.0978 - val_acc: 0.9719\n",
            "Epoch 96/200\n",
            "48000/48000 [==============================] - 2s 45us/step - loss: 0.0532 - acc: 0.9856 - val_loss: 0.0972 - val_acc: 0.9718\n",
            "Epoch 97/200\n",
            "48000/48000 [==============================] - 2s 43us/step - loss: 0.0525 - acc: 0.9858 - val_loss: 0.0970 - val_acc: 0.9719\n",
            "Epoch 98/200\n",
            "48000/48000 [==============================] - 2s 44us/step - loss: 0.0519 - acc: 0.9863 - val_loss: 0.0961 - val_acc: 0.9722\n",
            "Epoch 99/200\n",
            "48000/48000 [==============================] - 2s 46us/step - loss: 0.0512 - acc: 0.9858 - val_loss: 0.0960 - val_acc: 0.9719\n",
            "Epoch 100/200\n",
            "48000/48000 [==============================] - 2s 47us/step - loss: 0.0504 - acc: 0.9862 - val_loss: 0.0964 - val_acc: 0.9717\n",
            "Epoch 101/200\n",
            "48000/48000 [==============================] - 2s 45us/step - loss: 0.0498 - acc: 0.9866 - val_loss: 0.0963 - val_acc: 0.9715\n",
            "Epoch 102/200\n",
            "48000/48000 [==============================] - 2s 45us/step - loss: 0.0493 - acc: 0.9870 - val_loss: 0.0956 - val_acc: 0.9718\n",
            "Epoch 103/200\n",
            "48000/48000 [==============================] - 2s 45us/step - loss: 0.0486 - acc: 0.9871 - val_loss: 0.0957 - val_acc: 0.9714\n",
            "Epoch 104/200\n",
            "48000/48000 [==============================] - 2s 45us/step - loss: 0.0479 - acc: 0.9872 - val_loss: 0.0951 - val_acc: 0.9721\n",
            "Epoch 105/200\n",
            "48000/48000 [==============================] - 2s 44us/step - loss: 0.0474 - acc: 0.9878 - val_loss: 0.0956 - val_acc: 0.9716\n",
            "Epoch 106/200\n",
            "48000/48000 [==============================] - 2s 43us/step - loss: 0.0468 - acc: 0.9876 - val_loss: 0.0946 - val_acc: 0.9719\n",
            "Epoch 107/200\n",
            "48000/48000 [==============================] - 2s 44us/step - loss: 0.0463 - acc: 0.9878 - val_loss: 0.0945 - val_acc: 0.9721\n",
            "Epoch 108/200\n",
            "48000/48000 [==============================] - 2s 43us/step - loss: 0.0458 - acc: 0.9880 - val_loss: 0.0954 - val_acc: 0.9712\n",
            "Epoch 109/200\n",
            "48000/48000 [==============================] - 2s 44us/step - loss: 0.0451 - acc: 0.9882 - val_loss: 0.0943 - val_acc: 0.9727\n",
            "Epoch 110/200\n",
            "48000/48000 [==============================] - 2s 45us/step - loss: 0.0446 - acc: 0.9882 - val_loss: 0.0940 - val_acc: 0.9720\n",
            "Epoch 111/200\n",
            "48000/48000 [==============================] - 2s 44us/step - loss: 0.0440 - acc: 0.9885 - val_loss: 0.0942 - val_acc: 0.9717\n",
            "Epoch 112/200\n",
            "48000/48000 [==============================] - 2s 44us/step - loss: 0.0434 - acc: 0.9890 - val_loss: 0.0939 - val_acc: 0.9722\n",
            "Epoch 113/200\n",
            "48000/48000 [==============================] - 2s 45us/step - loss: 0.0429 - acc: 0.9890 - val_loss: 0.0935 - val_acc: 0.9717\n",
            "Epoch 114/200\n",
            "48000/48000 [==============================] - 2s 45us/step - loss: 0.0424 - acc: 0.9893 - val_loss: 0.0937 - val_acc: 0.9717\n",
            "Epoch 115/200\n",
            "48000/48000 [==============================] - 2s 46us/step - loss: 0.0418 - acc: 0.9893 - val_loss: 0.0934 - val_acc: 0.9719\n",
            "Epoch 116/200\n",
            "48000/48000 [==============================] - 2s 44us/step - loss: 0.0413 - acc: 0.9895 - val_loss: 0.0935 - val_acc: 0.9722\n",
            "Epoch 117/200\n",
            "48000/48000 [==============================] - 2s 44us/step - loss: 0.0408 - acc: 0.9897 - val_loss: 0.0930 - val_acc: 0.9722\n",
            "Epoch 118/200\n",
            "48000/48000 [==============================] - 2s 46us/step - loss: 0.0403 - acc: 0.9900 - val_loss: 0.0929 - val_acc: 0.9720\n",
            "Epoch 119/200\n",
            "48000/48000 [==============================] - 2s 45us/step - loss: 0.0399 - acc: 0.9901 - val_loss: 0.0928 - val_acc: 0.9725\n",
            "Epoch 120/200\n",
            "48000/48000 [==============================] - 2s 45us/step - loss: 0.0394 - acc: 0.9903 - val_loss: 0.0923 - val_acc: 0.9728\n",
            "Epoch 121/200\n",
            "48000/48000 [==============================] - 2s 42us/step - loss: 0.0388 - acc: 0.9906 - val_loss: 0.0925 - val_acc: 0.9722\n",
            "Epoch 122/200\n",
            "48000/48000 [==============================] - 2s 41us/step - loss: 0.0384 - acc: 0.9908 - val_loss: 0.0928 - val_acc: 0.9724\n",
            "Epoch 123/200\n",
            "48000/48000 [==============================] - 2s 36us/step - loss: 0.0380 - acc: 0.9908 - val_loss: 0.0924 - val_acc: 0.9721\n",
            "Epoch 124/200\n",
            "48000/48000 [==============================] - 2s 36us/step - loss: 0.0376 - acc: 0.9911 - val_loss: 0.0923 - val_acc: 0.9726\n",
            "Epoch 125/200\n",
            "48000/48000 [==============================] - 2s 36us/step - loss: 0.0370 - acc: 0.9911 - val_loss: 0.0921 - val_acc: 0.9723\n",
            "Epoch 126/200\n",
            "48000/48000 [==============================] - 2s 37us/step - loss: 0.0366 - acc: 0.9912 - val_loss: 0.0923 - val_acc: 0.9717\n",
            "Epoch 127/200\n",
            "48000/48000 [==============================] - 2s 38us/step - loss: 0.0361 - acc: 0.9915 - val_loss: 0.0923 - val_acc: 0.9716\n",
            "Epoch 128/200\n",
            "48000/48000 [==============================] - 2s 37us/step - loss: 0.0357 - acc: 0.9917 - val_loss: 0.0918 - val_acc: 0.9727\n",
            "Epoch 129/200\n",
            "48000/48000 [==============================] - 2s 38us/step - loss: 0.0353 - acc: 0.9916 - val_loss: 0.0930 - val_acc: 0.9719\n",
            "Epoch 130/200\n",
            "48000/48000 [==============================] - 2s 39us/step - loss: 0.0349 - acc: 0.9915 - val_loss: 0.0919 - val_acc: 0.9727\n",
            "Epoch 131/200\n",
            "48000/48000 [==============================] - 2s 39us/step - loss: 0.0346 - acc: 0.9919 - val_loss: 0.0913 - val_acc: 0.9723\n",
            "Epoch 132/200\n",
            "48000/48000 [==============================] - 2s 38us/step - loss: 0.0341 - acc: 0.9920 - val_loss: 0.0918 - val_acc: 0.9723\n",
            "Epoch 133/200\n",
            "48000/48000 [==============================] - 2s 37us/step - loss: 0.0337 - acc: 0.9923 - val_loss: 0.0912 - val_acc: 0.9722\n",
            "Epoch 134/200\n",
            "48000/48000 [==============================] - 2s 37us/step - loss: 0.0333 - acc: 0.9923 - val_loss: 0.0928 - val_acc: 0.9717\n",
            "Epoch 135/200\n",
            "48000/48000 [==============================] - 2s 37us/step - loss: 0.0329 - acc: 0.9925 - val_loss: 0.0910 - val_acc: 0.9726\n",
            "Epoch 136/200\n",
            "48000/48000 [==============================] - 2s 37us/step - loss: 0.0325 - acc: 0.9924 - val_loss: 0.0911 - val_acc: 0.9728\n",
            "Epoch 137/200\n",
            "48000/48000 [==============================] - 2s 38us/step - loss: 0.0320 - acc: 0.9928 - val_loss: 0.0921 - val_acc: 0.9722\n",
            "Epoch 138/200\n",
            "48000/48000 [==============================] - 2s 38us/step - loss: 0.0317 - acc: 0.9931 - val_loss: 0.0910 - val_acc: 0.9723\n",
            "Epoch 139/200\n",
            "48000/48000 [==============================] - 2s 38us/step - loss: 0.0313 - acc: 0.9931 - val_loss: 0.0913 - val_acc: 0.9725\n",
            "Epoch 140/200\n",
            "48000/48000 [==============================] - 2s 37us/step - loss: 0.0310 - acc: 0.9932 - val_loss: 0.0908 - val_acc: 0.9730\n",
            "Epoch 141/200\n",
            "48000/48000 [==============================] - 2s 37us/step - loss: 0.0307 - acc: 0.9931 - val_loss: 0.0913 - val_acc: 0.9724\n",
            "Epoch 142/200\n",
            "48000/48000 [==============================] - 2s 37us/step - loss: 0.0303 - acc: 0.9935 - val_loss: 0.0907 - val_acc: 0.9727\n",
            "Epoch 143/200\n",
            "48000/48000 [==============================] - 2s 36us/step - loss: 0.0300 - acc: 0.9937 - val_loss: 0.0910 - val_acc: 0.9722\n",
            "Epoch 144/200\n",
            "48000/48000 [==============================] - 2s 36us/step - loss: 0.0295 - acc: 0.9936 - val_loss: 0.0907 - val_acc: 0.9726\n",
            "Epoch 145/200\n",
            "48000/48000 [==============================] - 2s 37us/step - loss: 0.0292 - acc: 0.9937 - val_loss: 0.0910 - val_acc: 0.9729\n",
            "Epoch 146/200\n",
            "48000/48000 [==============================] - 2s 37us/step - loss: 0.0289 - acc: 0.9939 - val_loss: 0.0910 - val_acc: 0.9732\n",
            "Epoch 147/200\n",
            "48000/48000 [==============================] - 2s 38us/step - loss: 0.0286 - acc: 0.9940 - val_loss: 0.0905 - val_acc: 0.9732\n",
            "Epoch 148/200\n",
            "48000/48000 [==============================] - 2s 40us/step - loss: 0.0282 - acc: 0.9941 - val_loss: 0.0904 - val_acc: 0.9732\n",
            "Epoch 149/200\n",
            "48000/48000 [==============================] - 2s 39us/step - loss: 0.0279 - acc: 0.9943 - val_loss: 0.0907 - val_acc: 0.9727\n",
            "Epoch 150/200\n",
            "48000/48000 [==============================] - 2s 37us/step - loss: 0.0276 - acc: 0.9944 - val_loss: 0.0913 - val_acc: 0.9727\n",
            "Epoch 151/200\n",
            "48000/48000 [==============================] - 2s 38us/step - loss: 0.0273 - acc: 0.9945 - val_loss: 0.0904 - val_acc: 0.9733\n",
            "Epoch 152/200\n",
            "48000/48000 [==============================] - 2s 37us/step - loss: 0.0270 - acc: 0.9945 - val_loss: 0.0904 - val_acc: 0.9729\n",
            "Epoch 153/200\n",
            "48000/48000 [==============================] - 2s 38us/step - loss: 0.0267 - acc: 0.9947 - val_loss: 0.0898 - val_acc: 0.9731\n",
            "Epoch 154/200\n",
            "48000/48000 [==============================] - 2s 37us/step - loss: 0.0264 - acc: 0.9948 - val_loss: 0.0899 - val_acc: 0.9732\n",
            "Epoch 155/200\n",
            "48000/48000 [==============================] - 2s 37us/step - loss: 0.0260 - acc: 0.9948 - val_loss: 0.0904 - val_acc: 0.9729\n",
            "Epoch 156/200\n",
            "48000/48000 [==============================] - 2s 43us/step - loss: 0.0258 - acc: 0.9949 - val_loss: 0.0906 - val_acc: 0.9733\n",
            "Epoch 157/200\n",
            "48000/48000 [==============================] - 2s 42us/step - loss: 0.0254 - acc: 0.9950 - val_loss: 0.0907 - val_acc: 0.9732\n",
            "Epoch 158/200\n",
            "48000/48000 [==============================] - 2s 45us/step - loss: 0.0251 - acc: 0.9952 - val_loss: 0.0900 - val_acc: 0.9736\n",
            "Epoch 159/200\n",
            "48000/48000 [==============================] - 2s 42us/step - loss: 0.0248 - acc: 0.9953 - val_loss: 0.0904 - val_acc: 0.9737\n",
            "Epoch 160/200\n",
            "48000/48000 [==============================] - 2s 42us/step - loss: 0.0246 - acc: 0.9954 - val_loss: 0.0900 - val_acc: 0.9728\n",
            "Epoch 161/200\n",
            "48000/48000 [==============================] - 2s 38us/step - loss: 0.0243 - acc: 0.9953 - val_loss: 0.0906 - val_acc: 0.9729\n",
            "Epoch 162/200\n",
            "48000/48000 [==============================] - 2s 38us/step - loss: 0.0240 - acc: 0.9955 - val_loss: 0.0909 - val_acc: 0.9733\n",
            "Epoch 163/200\n",
            "48000/48000 [==============================] - 2s 39us/step - loss: 0.0238 - acc: 0.9957 - val_loss: 0.0907 - val_acc: 0.9732\n",
            "Epoch 164/200\n",
            "48000/48000 [==============================] - 2s 39us/step - loss: 0.0235 - acc: 0.9958 - val_loss: 0.0906 - val_acc: 0.9729\n",
            "Epoch 165/200\n",
            "48000/48000 [==============================] - 2s 38us/step - loss: 0.0232 - acc: 0.9959 - val_loss: 0.0900 - val_acc: 0.9731\n",
            "Epoch 166/200\n",
            "48000/48000 [==============================] - 2s 38us/step - loss: 0.0230 - acc: 0.9957 - val_loss: 0.0908 - val_acc: 0.9734\n",
            "Epoch 167/200\n",
            "48000/48000 [==============================] - 2s 37us/step - loss: 0.0227 - acc: 0.9963 - val_loss: 0.0907 - val_acc: 0.9733\n",
            "Epoch 168/200\n",
            "48000/48000 [==============================] - 2s 36us/step - loss: 0.0225 - acc: 0.9960 - val_loss: 0.0902 - val_acc: 0.9729\n",
            "Epoch 169/200\n",
            "48000/48000 [==============================] - 2s 37us/step - loss: 0.0222 - acc: 0.9962 - val_loss: 0.0915 - val_acc: 0.9730\n",
            "Epoch 170/200\n",
            "48000/48000 [==============================] - 2s 36us/step - loss: 0.0220 - acc: 0.9963 - val_loss: 0.0910 - val_acc: 0.9733\n",
            "Epoch 171/200\n",
            "48000/48000 [==============================] - 2s 37us/step - loss: 0.0216 - acc: 0.9964 - val_loss: 0.0904 - val_acc: 0.9735\n",
            "Epoch 172/200\n",
            "48000/48000 [==============================] - 2s 37us/step - loss: 0.0214 - acc: 0.9964 - val_loss: 0.0905 - val_acc: 0.9732\n",
            "Epoch 173/200\n",
            "48000/48000 [==============================] - 2s 40us/step - loss: 0.0212 - acc: 0.9964 - val_loss: 0.0905 - val_acc: 0.9728\n",
            "Epoch 174/200\n",
            "48000/48000 [==============================] - 2s 39us/step - loss: 0.0210 - acc: 0.9965 - val_loss: 0.0904 - val_acc: 0.9738\n",
            "Epoch 175/200\n",
            "48000/48000 [==============================] - 2s 38us/step - loss: 0.0208 - acc: 0.9966 - val_loss: 0.0905 - val_acc: 0.9732\n",
            "Epoch 176/200\n",
            "48000/48000 [==============================] - 2s 37us/step - loss: 0.0205 - acc: 0.9967 - val_loss: 0.0903 - val_acc: 0.9738\n",
            "Epoch 177/200\n",
            "48000/48000 [==============================] - 2s 37us/step - loss: 0.0203 - acc: 0.9968 - val_loss: 0.0905 - val_acc: 0.9731\n",
            "Epoch 178/200\n",
            "48000/48000 [==============================] - 2s 38us/step - loss: 0.0201 - acc: 0.9968 - val_loss: 0.0907 - val_acc: 0.9734\n",
            "Epoch 179/200\n",
            "48000/48000 [==============================] - 2s 37us/step - loss: 0.0198 - acc: 0.9969 - val_loss: 0.0906 - val_acc: 0.9731\n",
            "Epoch 180/200\n",
            "48000/48000 [==============================] - 2s 37us/step - loss: 0.0197 - acc: 0.9970 - val_loss: 0.0905 - val_acc: 0.9738\n",
            "Epoch 181/200\n",
            "48000/48000 [==============================] - 2s 37us/step - loss: 0.0194 - acc: 0.9971 - val_loss: 0.0911 - val_acc: 0.9733\n",
            "Epoch 182/200\n",
            "48000/48000 [==============================] - 2s 38us/step - loss: 0.0192 - acc: 0.9972 - val_loss: 0.0908 - val_acc: 0.9737\n",
            "Epoch 183/200\n",
            "48000/48000 [==============================] - 2s 38us/step - loss: 0.0190 - acc: 0.9971 - val_loss: 0.0906 - val_acc: 0.9734\n",
            "Epoch 184/200\n",
            "48000/48000 [==============================] - 2s 39us/step - loss: 0.0188 - acc: 0.9970 - val_loss: 0.0911 - val_acc: 0.9730\n",
            "Epoch 185/200\n",
            "48000/48000 [==============================] - 2s 39us/step - loss: 0.0186 - acc: 0.9971 - val_loss: 0.0909 - val_acc: 0.9728\n",
            "Epoch 186/200\n",
            "48000/48000 [==============================] - 2s 42us/step - loss: 0.0184 - acc: 0.9973 - val_loss: 0.0905 - val_acc: 0.9733\n",
            "Epoch 187/200\n",
            "48000/48000 [==============================] - 2s 39us/step - loss: 0.0182 - acc: 0.9974 - val_loss: 0.0910 - val_acc: 0.9730\n",
            "Epoch 188/200\n",
            "48000/48000 [==============================] - 2s 42us/step - loss: 0.0180 - acc: 0.9973 - val_loss: 0.0909 - val_acc: 0.9730\n",
            "Epoch 189/200\n",
            "48000/48000 [==============================] - 2s 45us/step - loss: 0.0178 - acc: 0.9975 - val_loss: 0.0909 - val_acc: 0.9736\n",
            "Epoch 190/200\n",
            "48000/48000 [==============================] - 2s 44us/step - loss: 0.0176 - acc: 0.9975 - val_loss: 0.0914 - val_acc: 0.9732\n",
            "Epoch 191/200\n",
            "48000/48000 [==============================] - 2s 44us/step - loss: 0.0174 - acc: 0.9975 - val_loss: 0.0911 - val_acc: 0.9735\n",
            "Epoch 192/200\n",
            "48000/48000 [==============================] - 2s 44us/step - loss: 0.0173 - acc: 0.9975 - val_loss: 0.0907 - val_acc: 0.9734\n",
            "Epoch 193/200\n",
            "48000/48000 [==============================] - 2s 44us/step - loss: 0.0171 - acc: 0.9976 - val_loss: 0.0912 - val_acc: 0.9733\n",
            "Epoch 194/200\n",
            "48000/48000 [==============================] - 2s 44us/step - loss: 0.0169 - acc: 0.9977 - val_loss: 0.0917 - val_acc: 0.9738\n",
            "Epoch 195/200\n",
            "48000/48000 [==============================] - 2s 44us/step - loss: 0.0167 - acc: 0.9977 - val_loss: 0.0914 - val_acc: 0.9739\n",
            "Epoch 196/200\n",
            "48000/48000 [==============================] - 2s 45us/step - loss: 0.0165 - acc: 0.9978 - val_loss: 0.0911 - val_acc: 0.9736\n",
            "Epoch 197/200\n",
            "48000/48000 [==============================] - 2s 44us/step - loss: 0.0164 - acc: 0.9978 - val_loss: 0.0914 - val_acc: 0.9739\n",
            "Epoch 198/200\n",
            "48000/48000 [==============================] - 2s 44us/step - loss: 0.0162 - acc: 0.9978 - val_loss: 0.0913 - val_acc: 0.9736\n",
            "Epoch 199/200\n",
            "48000/48000 [==============================] - 2s 43us/step - loss: 0.0160 - acc: 0.9978 - val_loss: 0.0916 - val_acc: 0.9735\n",
            "Epoch 200/200\n",
            "48000/48000 [==============================] - 2s 42us/step - loss: 0.0159 - acc: 0.9979 - val_loss: 0.0914 - val_acc: 0.9736\n"
          ],
          "name": "stdout"
        }
      ]
    },
    {
      "metadata": {
        "id": "kkzQLZXXI1IN",
        "colab_type": "text"
      },
      "cell_type": "markdown",
      "source": [
        ""
      ]
    },
    {
      "metadata": {
        "id": "chE2F9s4-Gpr",
        "colab_type": "code",
        "outputId": "6e6ec373-4ae3-4c40-85e1-3f3114ec5589",
        "colab": {
          "base_uri": "https://localhost:8080/",
          "height": 107
        }
      },
      "cell_type": "code",
      "source": [
        "score=model.evaluate(X_test,y_test,verbose=1)\n",
        "print(\"\\nTest score:\",score[0])\n",
        "print(\"\\nTest accuracy:\",score[1])"
      ],
      "execution_count": 0,
      "outputs": [
        {
          "output_type": "stream",
          "text": [
            "10000/10000 [==============================] - 0s 35us/step\n",
            "\n",
            "Test score: 0.08237258082695771\n",
            "\n",
            "Test accuracy: 0.9763\n"
          ],
          "name": "stdout"
        }
      ]
    },
    {
      "metadata": {
        "id": "qdrYMn4w_jiP",
        "colab_type": "code",
        "outputId": "684721ba-66f2-4387-a729-67a6053260db",
        "colab": {
          "base_uri": "https://localhost:8080/",
          "height": 753
        }
      },
      "cell_type": "code",
      "source": [
        "import matplotlib.pyplot as plt\n",
        "#list all data in history\n",
        "print(history.history.keys())\n",
        "#summarizez history for accuracy\n",
        "\n",
        "plt.plot(history.history['acc'])\n",
        "plt.plot(history.history['val_acc'])\n",
        "plt.title('model accuracy')\n",
        "plt.ylabel('accuracy')\n",
        "plt.xlabel('apoch')\n",
        "plt.legend(['train','test'],loc='upper left')\n",
        "plt.show()\n",
        "\n",
        "# summarize history for loss\n",
        "plt.plot(history.history['loss'])\n",
        "plt.plot(history.history['val_loss'])\n",
        "plt.title('model loss')\n",
        "plt.ylabel('loss')\n",
        "plt.xlabel('epoch')\n",
        "plt.legend(['train', 'test'], loc='upper left')\n",
        "plt.show()"
      ],
      "execution_count": 0,
      "outputs": [
        {
          "output_type": "stream",
          "text": [
            "dict_keys(['val_loss', 'val_acc', 'loss', 'acc'])\n"
          ],
          "name": "stdout"
        },
        {
          "output_type": "display_data",
          "data": {
            "image/png": "[encoded data removed]",
            "text/plain": [
              "<Figure size 576x396 with 1 Axes>"
            ]
          },
          "metadata": {
            "tags": []
          }
        },
        {
          "output_type": "display_data",
          "data": {
            "image/png": "[encoded data removed]",
            "text/plain": [
              "<Figure size 576x396 with 1 Axes>"
            ]
          },
          "metadata": {
            "tags": []
          }
        }
      ]
    },
    {
      "metadata": {
        "id": "7F77HXVCI3ec",
        "colab_type": "code",
        "colab": {}
      },
      "cell_type": "code",
      "source": [
        ""
      ],
      "execution_count": 0,
      "outputs": []
    },
    {
      "metadata": {
        "id": "oMmTrgYC_4Cn",
        "colab_type": "code",
        "colab": {}
      },
      "cell_type": "code",
      "source": [
        ""
      ],
      "execution_count": 0,
      "outputs": []
    }
  ]
}