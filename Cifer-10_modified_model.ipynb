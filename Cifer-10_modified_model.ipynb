{
  "nbformat": 4,
  "nbformat_minor": 0,
  "metadata": {
    "colab": {
      "name": "Cifer10_CNN_Deep_learning_paper_implementation.ipynb",
      "version": "0.3.2",
      "provenance": [],
      "collapsed_sections": []
    },
    "kernelspec": {
      "name": "python3",
      "display_name": "Python 3"
    },
    "accelerator": "GPU"
  },
  "cells": [
    {
      "metadata": {
        "id": "8bfu4WzRDoTv",
        "colab_type": "code",
        "colab": {}
      },
      "cell_type": "code",
      "source": [
        "import random\n",
        "import itertools\n",
        "import numpy as np\n",
        "import tensorflow as tf\n",
        "from keras.datasets import cifar10\n",
        "from keras import backend as K\n",
        "from keras import Sequential, utils\n",
        "# from keras.layers import Conv2D, MaxPooling2D\n",
        "from keras.layers import Conv2D, Dense, MaxPooling2D, Flatten\n",
        "from keras.optimizers import Adam \n",
        "from keras.models import Sequential\n",
        "from keras.layers import *\n",
        "from keras.optimizers import SGD\n",
        "from keras.constraints import maxnorm\n",
        "from keras.callbacks import EarlyStopping\n",
        "from keras.preprocessing import image"
      ],
      "execution_count": 0,
      "outputs": []
    },
    {
      "metadata": {
        "id": "ZJJ8vdh0DoUG",
        "colab_type": "code",
        "colab": {}
      },
      "cell_type": "code",
      "source": [
        "def create_model():\n",
        "    weight_decay = 1e-4\n",
        "    model = Sequential()\n",
        "    \n",
        "    \n",
        "    model.add(Conv2D(filters=64,kernel_size=(3,3),strides=(1,1),padding='same',activation='relu',input_shape=x_train.shape[1:]))\n",
        "    \n",
        "    model.add(BatchNormalization())\n",
        "    \n",
        "    model.add(Conv2D(filters=64,kernel_size=(3,3),strides=(1,1),padding='same',activation='relu'))\n",
        "    model.add(BatchNormalization())\n",
        "    model.add(MaxPool2D(pool_size=(2,2),strides=(2,2),padding='valid'))\n",
        "    \n",
        "    model.add(Dropout(0.2))\n",
        "\n",
        "    model.add(Conv2D(filters=128,kernel_size=(3,3),strides=(1,1),padding='same', kernel_regularizer=regularizers.l2(weight_decay),activation='relu'))\n",
        "    \n",
        "    model.add(BatchNormalization())\n",
        "    model.add(Conv2D(filters=128,kernel_size=(3,3),strides=(1,1),padding='same',kernel_regularizer=regularizers.l2(weight_decay),activation='relu'))\n",
        "   \n",
        "    model.add(BatchNormalization())\n",
        "    model.add(MaxPool2D(pool_size=(2, 2), strides=(2, 2), padding='valid'))\n",
        "   \n",
        "    model.add(Dropout(0.3))\n",
        "\n",
        "    model.add(Conv2D(128, (3,3), padding='same', kernel_regularizer=regularizers.l2(weight_decay)))\n",
        "    model.add(Activation('relu'))\n",
        "    model.add(BatchNormalization())\n",
        "    model.add(Conv2D(128, (3,3), padding='same', kernel_regularizer=regularizers.l2(weight_decay)))\n",
        "    model.add(Activation('relu'))\n",
        "    model.add(BatchNormalization())\n",
        "    model.add(MaxPooling2D(pool_size=(2,2)))\n",
        "    model.add(Dropout(0.4))\n",
        "\n",
        "    model.add(Flatten())\n",
        "    model.add(Dense(10, activation='softmax'))\n",
        "    \n",
        "    return model\n",
        "    \n",
        "    "
      ],
      "execution_count": 0,
      "outputs": []
    },
    {
      "metadata": {
        "id": "UQtNjiDuDoUS",
        "colab_type": "code",
        "colab": {}
      },
      "cell_type": "code",
      "source": [
        "np.random.seed(1)\n",
        "random.seed(1)\n",
        "session_conf = tf.ConfigProto(intra_op_parallelism_threads=1,\n",
        "                              inter_op_parallelism_threads=1)\n",
        "\n",
        "tf.set_random_seed(1)\n",
        "sess = tf.Session(graph=tf.get_default_graph(), config=session_conf)\n",
        "K.set_session(sess)"
      ],
      "execution_count": 0,
      "outputs": []
    },
    {
      "metadata": {
        "id": "OB8u4wOHuqDd",
        "colab_type": "code",
        "colab": {}
      },
      "cell_type": "code",
      "source": [
        ""
      ],
      "execution_count": 0,
      "outputs": []
    },
    {
      "metadata": {
        "id": "wbXh36L2yDtK",
        "colab_type": "code",
        "colab": {}
      },
      "cell_type": "code",
      "source": [
        ""
      ],
      "execution_count": 0,
      "outputs": []
    },
    {
      "metadata": {
        "id": "YBdfe-k-DoUc",
        "colab_type": "code",
        "colab": {}
      },
      "cell_type": "code",
      "source": [
        "\n",
        "(x_train,y_train),(x_test,y_test) = cifar10.load_data()\n"
      ],
      "execution_count": 0,
      "outputs": []
    },
    {
      "metadata": {
        "id": "rdpWPzlVDoUj",
        "colab_type": "code",
        "colab": {}
      },
      "cell_type": "code",
      "source": [
        "y_train = utils.to_categorical(y_train, 10)\n",
        "y_test = utils.to_categorical(y_test, 10)"
      ],
      "execution_count": 0,
      "outputs": []
    },
    {
      "metadata": {
        "id": "cRNc1BloDoUq",
        "colab_type": "code",
        "outputId": "18be46d3-7455-4022-970d-ec65af09dc13",
        "colab": {
          "base_uri": "https://localhost:8080/",
          "height": 35
        }
      },
      "cell_type": "code",
      "source": [
        "# normalization\n",
        "x_train = (x_train - x_train.min(axis=0)) / (x_train.max(axis=0) - x_train.min(axis=0))\n",
        "x_test = (x_test - x_test.min(axis=0)) / (x_test.max(axis=0) - x_test.min(axis=0))\n",
        "x_train.shape"
      ],
      "execution_count": 32,
      "outputs": [
        {
          "output_type": "execute_result",
          "data": {
            "text/plain": [
              "(50000, 32, 32, 3)"
            ]
          },
          "metadata": {
            "tags": []
          },
          "execution_count": 32
        }
      ]
    },
    {
      "metadata": {
        "id": "rYrzHE0Hyklm",
        "colab_type": "code",
        "colab": {}
      },
      "cell_type": "code",
      "source": [
        "#data augmentation part\n",
        "\n",
        "from keras.preprocessing.image import ImageDataGenerator\n",
        "x_train2=np.array(x_train,copy=True)\n",
        "y_train2=np.array(y_train,copy=True)\n",
        "\n",
        "datagen=ImageDataGenerator(\n",
        "  \n",
        "     featurewise_center=True,\n",
        "     featurewise_std_normalization=True,\n",
        "     rotation_range=20,\n",
        "\n",
        ")\n",
        "datagen.fit(x_train)\n",
        "\n",
        "#concatening the old data with augmented data\n",
        "\n",
        "result_x=np.concatenate((x_train,x_train2),axis=0)\n",
        "result_y=np.concatenate((y_train,y_train2),axis=0)\n"
      ],
      "execution_count": 0,
      "outputs": []
    },
    {
      "metadata": {
        "scrolled": true,
        "id": "1VHflYGnDoUx",
        "colab_type": "code",
        "outputId": "5667621a-5f1e-44b7-d712-cf8fecfb7bd9",
        "colab": {
          "base_uri": "https://localhost:8080/",
          "height": 935
        }
      },
      "cell_type": "code",
      "source": [
        "cnn_model = create_model()\n",
        "#opt = SGD(lr = 0.01)\n",
        "cnn_model.compile(loss = 'categorical_crossentropy', optimizer = 'adam', metrics = ['accuracy'])\n",
        "cnn_model.summary()\n"
      ],
      "execution_count": 36,
      "outputs": [
        {
          "output_type": "stream",
          "text": [
            "_________________________________________________________________\n",
            "Layer (type)                 Output Shape              Param #   \n",
            "=================================================================\n",
            "conv2d_13 (Conv2D)           (None, 32, 32, 64)        1792      \n",
            "_________________________________________________________________\n",
            "batch_normalization_13 (Batc (None, 32, 32, 64)        256       \n",
            "_________________________________________________________________\n",
            "conv2d_14 (Conv2D)           (None, 32, 32, 64)        36928     \n",
            "_________________________________________________________________\n",
            "batch_normalization_14 (Batc (None, 32, 32, 64)        256       \n",
            "_________________________________________________________________\n",
            "max_pooling2d_7 (MaxPooling2 (None, 16, 16, 64)        0         \n",
            "_________________________________________________________________\n",
            "dropout_7 (Dropout)          (None, 16, 16, 64)        0         \n",
            "_________________________________________________________________\n",
            "conv2d_15 (Conv2D)           (None, 16, 16, 128)       73856     \n",
            "_________________________________________________________________\n",
            "batch_normalization_15 (Batc (None, 16, 16, 128)       512       \n",
            "_________________________________________________________________\n",
            "conv2d_16 (Conv2D)           (None, 16, 16, 128)       147584    \n",
            "_________________________________________________________________\n",
            "batch_normalization_16 (Batc (None, 16, 16, 128)       512       \n",
            "_________________________________________________________________\n",
            "max_pooling2d_8 (MaxPooling2 (None, 8, 8, 128)         0         \n",
            "_________________________________________________________________\n",
            "dropout_8 (Dropout)          (None, 8, 8, 128)         0         \n",
            "_________________________________________________________________\n",
            "conv2d_17 (Conv2D)           (None, 8, 8, 128)         147584    \n",
            "_________________________________________________________________\n",
            "activation_5 (Activation)    (None, 8, 8, 128)         0         \n",
            "_________________________________________________________________\n",
            "batch_normalization_17 (Batc (None, 8, 8, 128)         512       \n",
            "_________________________________________________________________\n",
            "conv2d_18 (Conv2D)           (None, 8, 8, 128)         147584    \n",
            "_________________________________________________________________\n",
            "activation_6 (Activation)    (None, 8, 8, 128)         0         \n",
            "_________________________________________________________________\n",
            "batch_normalization_18 (Batc (None, 8, 8, 128)         512       \n",
            "_________________________________________________________________\n",
            "max_pooling2d_9 (MaxPooling2 (None, 4, 4, 128)         0         \n",
            "_________________________________________________________________\n",
            "dropout_9 (Dropout)          (None, 4, 4, 128)         0         \n",
            "_________________________________________________________________\n",
            "flatten_3 (Flatten)          (None, 2048)              0         \n",
            "_________________________________________________________________\n",
            "dense_3 (Dense)              (None, 10)                20490     \n",
            "=================================================================\n",
            "Total params: 578,378\n",
            "Trainable params: 577,098\n",
            "Non-trainable params: 1,280\n",
            "_________________________________________________________________\n"
          ],
          "name": "stdout"
        }
      ]
    },
    {
      "metadata": {
        "id": "BcJDXf3cDoU-",
        "colab_type": "code",
        "outputId": "2e363725-fdc9-46c1-ae75-bd5ce5b0c1d7",
        "colab": {
          "base_uri": "https://localhost:8080/",
          "height": 1061
        }
      },
      "cell_type": "code",
      "source": [
        "from keras.callbacks import EarlyStopping\n",
        "early_stops = EarlyStopping(patience=5, monitor='val_acc')    #Stop training when a monitored quantity has stopped improving.\n",
        "                                                              #patience: number of epochs with no improvement after which training will be stopped.\n",
        "cnn_model.fit(result_x,result_y, batch_size=128, epochs=30, validation_split=0.2, callbacks=[early_stops],shuffle=True)\n"
      ],
      "execution_count": 38,
      "outputs": [
        {
          "output_type": "stream",
          "text": [
            "Train on 80000 samples, validate on 20000 samples\n",
            "Epoch 1/30\n",
            "80000/80000 [==============================] - 56s 705us/step - loss: 1.5743 - acc: 0.5238 - val_loss: 1.1875 - val_acc: 0.6162\n",
            "Epoch 2/30\n",
            "80000/80000 [==============================] - 54s 679us/step - loss: 1.0498 - acc: 0.6911 - val_loss: 2.1847 - val_acc: 0.3376\n",
            "Epoch 3/30\n",
            "80000/80000 [==============================] - 54s 680us/step - loss: 0.9058 - acc: 0.7308 - val_loss: 0.8123 - val_acc: 0.7447\n",
            "Epoch 4/30\n",
            "80000/80000 [==============================] - 54s 675us/step - loss: 0.6733 - acc: 0.7960 - val_loss: 0.6498 - val_acc: 0.8033\n",
            "Epoch 5/30\n",
            "80000/80000 [==============================] - 54s 674us/step - loss: 0.5856 - acc: 0.8291 - val_loss: 0.5438 - val_acc: 0.8458\n",
            "Epoch 6/30\n",
            "80000/80000 [==============================] - 54s 675us/step - loss: 0.5301 - acc: 0.8511 - val_loss: 0.7964 - val_acc: 0.7675\n",
            "Epoch 7/30\n",
            "80000/80000 [==============================] - 54s 674us/step - loss: 0.4993 - acc: 0.8668 - val_loss: 0.4725 - val_acc: 0.8794\n",
            "Epoch 8/30\n",
            "80000/80000 [==============================] - 54s 674us/step - loss: 0.4747 - acc: 0.8792 - val_loss: 0.7893 - val_acc: 0.7949\n",
            "Epoch 9/30\n",
            "80000/80000 [==============================] - 54s 673us/step - loss: 0.4540 - acc: 0.8914 - val_loss: 0.4447 - val_acc: 0.8985\n",
            "Epoch 10/30\n",
            "80000/80000 [==============================] - 54s 674us/step - loss: 0.4351 - acc: 0.9017 - val_loss: 0.4039 - val_acc: 0.9149\n",
            "Epoch 11/30\n",
            "80000/80000 [==============================] - 54s 673us/step - loss: 0.4279 - acc: 0.9072 - val_loss: 0.4622 - val_acc: 0.8993\n",
            "Epoch 12/30\n",
            "80000/80000 [==============================] - 54s 674us/step - loss: 0.4262 - acc: 0.9103 - val_loss: 0.4044 - val_acc: 0.9207\n",
            "Epoch 13/30\n",
            "80000/80000 [==============================] - 54s 674us/step - loss: 0.4090 - acc: 0.9207 - val_loss: 0.3891 - val_acc: 0.9291\n",
            "Epoch 14/30\n",
            "80000/80000 [==============================] - 54s 674us/step - loss: 0.4058 - acc: 0.9233 - val_loss: 0.4774 - val_acc: 0.9005\n",
            "Epoch 15/30\n",
            "80000/80000 [==============================] - 54s 673us/step - loss: 0.3991 - acc: 0.9272 - val_loss: 0.3554 - val_acc: 0.9439\n",
            "Epoch 16/30\n",
            "80000/80000 [==============================] - 54s 673us/step - loss: 0.4041 - acc: 0.9271 - val_loss: 0.4271 - val_acc: 0.9179\n",
            "Epoch 17/30\n",
            "80000/80000 [==============================] - 54s 672us/step - loss: 0.3923 - acc: 0.9335 - val_loss: 0.3919 - val_acc: 0.9332\n",
            "Epoch 18/30\n",
            "80000/80000 [==============================] - 54s 674us/step - loss: 0.3897 - acc: 0.9345 - val_loss: 0.3739 - val_acc: 0.9435\n",
            "Epoch 19/30\n",
            "80000/80000 [==============================] - 54s 674us/step - loss: 0.3818 - acc: 0.9394 - val_loss: 0.3754 - val_acc: 0.9415\n",
            "Epoch 20/30\n",
            "80000/80000 [==============================] - 54s 673us/step - loss: 0.3842 - acc: 0.9395 - val_loss: 0.3396 - val_acc: 0.9556\n",
            "Epoch 21/30\n",
            "80000/80000 [==============================] - 54s 677us/step - loss: 0.3834 - acc: 0.9408 - val_loss: 0.3812 - val_acc: 0.9422\n",
            "Epoch 22/30\n",
            "80000/80000 [==============================] - 54s 674us/step - loss: 0.3777 - acc: 0.9428 - val_loss: 0.3461 - val_acc: 0.9549\n",
            "Epoch 23/30\n",
            "80000/80000 [==============================] - 54s 675us/step - loss: 0.3774 - acc: 0.9439 - val_loss: 0.3241 - val_acc: 0.9636\n",
            "Epoch 24/30\n",
            "80000/80000 [==============================] - 54s 675us/step - loss: 0.3734 - acc: 0.9456 - val_loss: 0.3283 - val_acc: 0.9617\n",
            "Epoch 25/30\n",
            "80000/80000 [==============================] - 54s 674us/step - loss: 0.3765 - acc: 0.9445 - val_loss: 0.3477 - val_acc: 0.9552\n",
            "Epoch 26/30\n",
            "80000/80000 [==============================] - 54s 674us/step - loss: 0.3680 - acc: 0.9477 - val_loss: 0.3425 - val_acc: 0.9563\n",
            "Epoch 27/30\n",
            "80000/80000 [==============================] - 54s 675us/step - loss: 0.3666 - acc: 0.9479 - val_loss: 0.3713 - val_acc: 0.9464\n",
            "Epoch 28/30\n",
            "80000/80000 [==============================] - 54s 672us/step - loss: 0.3645 - acc: 0.9502 - val_loss: 0.3376 - val_acc: 0.9606\n"
          ],
          "name": "stdout"
        },
        {
          "output_type": "execute_result",
          "data": {
            "text/plain": [
              "<keras.callbacks.History at 0x7f32e169ac88>"
            ]
          },
          "metadata": {
            "tags": []
          },
          "execution_count": 38
        }
      ]
    },
    {
      "metadata": {
        "id": "F4_tRdkIDoVF",
        "colab_type": "code",
        "colab": {}
      },
      "cell_type": "code",
      "source": [
        "\n",
        "cnn_model.optimizer.lr=0.0005"
      ],
      "execution_count": 0,
      "outputs": []
    },
    {
      "metadata": {
        "id": "CMz-EkywR1Jw",
        "colab_type": "code",
        "colab": {}
      },
      "cell_type": "code",
      "source": [
        "predictions = cnn_model.predict(x_test)"
      ],
      "execution_count": 0,
      "outputs": []
    },
    {
      "metadata": {
        "id": "L3pQV2GpR6FE",
        "colab_type": "code",
        "colab": {}
      },
      "cell_type": "code",
      "source": [
        ""
      ],
      "execution_count": 0,
      "outputs": []
    }
  ]
}