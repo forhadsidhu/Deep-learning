{
  "nbformat": 4,
  "nbformat_minor": 0,
  "metadata": {
    "colab": {
      "name": "FLower_Classification_Asssignment.ipynb",
      "version": "0.3.2",
      "provenance": [],
      "collapsed_sections": []
    },
    "kernelspec": {
      "name": "python3",
      "display_name": "Python 3"
    },
    "accelerator": "GPU"
  },
  "cells": [
    {
      "metadata": {
        "id": "ATj1VJ2au4w9",
        "colab_type": "code",
        "outputId": "7d7d2913-3861-470d-e8fb-b9ae867f204d",
        "colab": {
          "base_uri": "https://localhost:8080/",
          "height": 35
        }
      },
      "cell_type": "code",
      "source": [
        "\"\"\"\n",
        "\n",
        "      Import all Headers file of keras tensorflow and scikit-learn\n",
        "\n",
        "\n",
        "\n",
        "\"\"\"\n",
        "\n",
        "# Ignore  the warnings\n",
        "import warnings\n",
        "warnings.filterwarnings('always')\n",
        "warnings.filterwarnings('ignore')\n",
        "\n",
        "# data visualisation and manipulation\n",
        "import numpy as np\n",
        "import pandas as pd\n",
        "import matplotlib.pyplot as plt\n",
        "from matplotlib import style\n",
        "import seaborn as sns\n",
        " \n",
        "#configure\n",
        "# sets matplotlib to inline and displays graphs below the corressponding cell.\n",
        "% matplotlib inline  \n",
        "style.use('fivethirtyeight')\n",
        "sns.set(style='whitegrid',color_codes=True)\n",
        "\n",
        "#model selection\n",
        "from sklearn.model_selection import train_test_split\n",
        "from sklearn.model_selection import KFold\n",
        "from sklearn.metrics import accuracy_score,precision_score,recall_score,confusion_matrix,roc_curve,roc_auc_score\n",
        "from sklearn.model_selection import GridSearchCV\n",
        "from sklearn.preprocessing import LabelEncoder\n",
        "\n",
        "#preprocess.\n",
        "from keras.preprocessing.image import ImageDataGenerator\n",
        "\n",
        "#dl libraraies\n",
        "from keras import backend as K\n",
        "from keras.models import Sequential\n",
        "from keras.layers import Dense\n",
        "from keras.optimizers import Adam,SGD,Adagrad,Adadelta,RMSprop\n",
        "from keras.utils import to_categorical\n",
        "from keras.callbacks import ReduceLROnPlateau\n",
        "\n",
        "# specifically for cnn\n",
        "from keras.layers import Dropout, Flatten,Activation\n",
        "from keras.layers import Conv2D, MaxPooling2D, BatchNormalization\n",
        " \n",
        "import tensorflow as tf\n",
        "import random as rn\n",
        "\n",
        "# specifically for manipulating zipped images and getting numpy arrays of pixel values of images.\n",
        "import cv2                  \n",
        "import numpy as np  \n",
        "from tqdm import tqdm\n",
        "import os                   \n",
        "from random import shuffle  \n",
        "from zipfile import ZipFile\n",
        "from PIL import Image\n",
        "\n",
        "#TL pecific modules\n",
        "from keras.applications.vgg16 import VGG16"
      ],
      "execution_count": 0,
      "outputs": [
        {
          "output_type": "stream",
          "text": [
            "Using TensorFlow backend.\n"
          ],
          "name": "stderr"
        }
      ]
    },
    {
      "metadata": {
        "id": "9MSVR0BjdL1z",
        "colab_type": "text"
      },
      "cell_type": "markdown",
      "source": [
        "ক-ল্যাব থেকে ডাটাসেট ইম্পোর্ট করার জন্য"
      ]
    },
    {
      "metadata": {
        "id": "ZVI3-lfcdKWy",
        "colab_type": "text"
      },
      "cell_type": "markdown",
      "source": [
        "\n"
      ]
    },
    {
      "metadata": {
        "id": "Fp2pxgRG0Lj6",
        "colab_type": "code",
        "outputId": "df900aa6-6edc-49f1-ad47-21dc5993b13b",
        "colab": {
          "base_uri": "https://localhost:8080/",
          "height": 145
        }
      },
      "cell_type": "code",
      "source": [
        "!apt-get install -y -qq software-properties-common python-software-properties module-init-tools\n",
        "!add-apt-repository -y ppa:alessandro-strada/ppa 2>&1 > /dev/null\n",
        "!apt-get update -qq 2>&1 > /dev/null\n",
        "!apt-get -y install -qq google-drive-ocamlfuse fuse"
      ],
      "execution_count": 0,
      "outputs": [
        {
          "output_type": "stream",
          "text": [
            "E: Package 'python-software-properties' has no installation candidate\n",
            "Selecting previously unselected package google-drive-ocamlfuse.\n",
            "(Reading database ... 131294 files and directories currently installed.)\n",
            "Preparing to unpack .../google-drive-ocamlfuse_0.7.3-0ubuntu1~ubuntu18.04.1_amd64.deb ...\n",
            "Unpacking google-drive-ocamlfuse (0.7.3-0ubuntu1~ubuntu18.04.1) ...\n",
            "Setting up google-drive-ocamlfuse (0.7.3-0ubuntu1~ubuntu18.04.1) ...\n",
            "Processing triggers for man-db (2.8.3-2ubuntu0.1) ...\n"
          ],
          "name": "stdout"
        }
      ]
    },
    {
      "metadata": {
        "id": "MLw6BbMsI3zM",
        "colab_type": "code",
        "colab": {}
      },
      "cell_type": "code",
      "source": [
        "from google.colab import auth\n",
        "auth.authenticate_user()"
      ],
      "execution_count": 0,
      "outputs": []
    },
    {
      "metadata": {
        "id": "M9HurzqtNrnK",
        "colab_type": "code",
        "outputId": "4a8365d4-15c0-4ed9-8306-802e86a5ffff",
        "colab": {
          "base_uri": "https://localhost:8080/",
          "height": 110
        }
      },
      "cell_type": "code",
      "source": [
        "from oauth2client.client import GoogleCredentials\n",
        "creds = GoogleCredentials.get_application_default()\n",
        "import getpass\n",
        "!google-drive-ocamlfuse -headless -id={creds.client_id} -secret={creds.client_secret} < /dev/null 2>&1 | grep URL\n",
        "vcode = getpass.getpass()\n",
        "!echo {vcode} | google-drive-ocamlfuse -headless -id={creds.client_id} -secret={creds.client_secret}"
      ],
      "execution_count": 0,
      "outputs": [
        {
          "output_type": "stream",
          "text": [
            "Please, open the following URL in a web browser: https://accounts.google.com/o/oauth2/auth?client_id=32555940559.apps.googleusercontent.com&redirect_uri=urn%3Aietf%3Awg%3Aoauth%3A2.0%3Aoob&scope=https%3A%2F%2Fwww.googleapis.com%2Fauth%2Fdrive&response_type=code&access_type=offline&approval_prompt=force\n",
            "··········\n",
            "Please, open the following URL in a web browser: https://accounts.google.com/o/oauth2/auth?client_id=32555940559.apps.googleusercontent.com&redirect_uri=urn%3Aietf%3Awg%3Aoauth%3A2.0%3Aoob&scope=https%3A%2F%2Fwww.googleapis.com%2Fauth%2Fdrive&response_type=code&access_type=offline&approval_prompt=force\n",
            "Please enter the verification code: Access token retrieved correctly.\n"
          ],
          "name": "stdout"
        }
      ]
    },
    {
      "metadata": {
        "id": "NpD6yVmrN4cB",
        "colab_type": "code",
        "colab": {}
      },
      "cell_type": "code",
      "source": [
        "!mkdir -p drive\n",
        "!google-drive-ocamlfuse drive"
      ],
      "execution_count": 0,
      "outputs": []
    },
    {
      "metadata": {
        "id": "Sm1CZqTJOA2e",
        "colab_type": "code",
        "outputId": "83dd6a13-8f5d-438b-8cd7-08f64038aea5",
        "colab": {
          "base_uri": "https://localhost:8080/",
          "height": 72
        }
      },
      "cell_type": "code",
      "source": [
        "print('Files in Drive:')\n",
        "!ls drive/"
      ],
      "execution_count": 0,
      "outputs": [
        {
          "output_type": "stream",
          "text": [
            "Files in Drive:\n",
            "'cg-dipta vai.pdf'  'Colab Notebooks'\t\t      m4326svd_example.pdf\n",
            " Classroom\t    'How to get started with Drive'   Sharif_resume_.pdf\n"
          ],
          "name": "stdout"
        }
      ]
    },
    {
      "metadata": {
        "id": "M3oUprDbJQlm",
        "colab_type": "code",
        "colab": {}
      },
      "cell_type": "code",
      "source": [
        "X=[]\n",
        "Z=[]\n",
        "img_size=150\n",
        "class_1='drive/Colab Notebooks/oxfordflower17/train/class_1'\n",
        "class_2='drive/Colab Notebooks/oxfordflower17/train/class_2'\n",
        "class_3='drive/Colab Notebooks/oxfordflower17/train/class_3'\n",
        "class_4='drive/Colab Notebooks/oxfordflower17/train/class_4'\n",
        "class_5='drive/Colab Notebooks/oxfordflower17/train/class_5'\n",
        "class_6='drive/Colab Notebooks/oxfordflower17/train/class_6'\n",
        "class_7='drive/Colab Notebooks/oxfordflower17/train/class_7'\n",
        "class_8='drive/Colab Notebooks/oxfordflower17/train/class_8'\n",
        "class_9='drive/Colab Notebooks/oxfordflower17/train/class_9'\n",
        "class_10='drive/Colab Notebooks/oxfordflower17/train/class_10'\n",
        "class_11='drive/Colab Notebooks/oxfordflower17/train/class_11'\n",
        "class_12='drive/Colab Notebooks/oxfordflower17/train/class_12'\n",
        "class_13='drive/Colab Notebooks/oxfordflower17/train/class_13'\n",
        "class_14='drive/Colab Notebooks/oxfordflower17/train/class_14'\n",
        "class_15='drive/Colab Notebooks/oxfordflower17/train/class_15'\n",
        "class_16='drive/Colab Notebooks/oxfordflower17/train/class_16'\n",
        "class_17='drive/Colab Notebooks/oxfordflower17/train/class_17'\n"
      ],
      "execution_count": 0,
      "outputs": []
    },
    {
      "metadata": {
        "id": "UDXQpp2uNqua",
        "colab_type": "code",
        "outputId": "9ff98a0f-5ce6-455d-cb1a-cf297e8a452b",
        "colab": {
          "base_uri": "https://localhost:8080/",
          "height": 35
        }
      },
      "cell_type": "code",
      "source": [
        "import cv2\n",
        "img = cv2.imread('drive/Colab Notebooks/oxfordflower17/train/class_1/image_0001.jpg',cv2.IMREAD_COLOR)\n",
        "\n",
        "\n",
        " \n",
        "img.shape"
      ],
      "execution_count": 0,
      "outputs": [
        {
          "output_type": "execute_result",
          "data": {
            "text/plain": [
              "(500, 689, 3)"
            ]
          },
          "metadata": {
            "tags": []
          },
          "execution_count": 10
        }
      ]
    },
    {
      "metadata": {
        "id": "6knuqzBYQbXu",
        "colab_type": "text"
      },
      "cell_type": "markdown",
      "source": [
        ""
      ]
    },
    {
      "metadata": {
        "id": "oBTtAYbbJ2sI",
        "colab_type": "code",
        "colab": {}
      },
      "cell_type": "code",
      "source": [
        "def assign_label(img,flower_type):\n",
        "    return flower_type"
      ],
      "execution_count": 0,
      "outputs": []
    },
    {
      "metadata": {
        "id": "CVuvgetJJ5ic",
        "colab_type": "code",
        "colab": {}
      },
      "cell_type": "code",
      "source": [
        "def make_train_data(flower_type,DIR):\n",
        "    for img in tqdm(os.listdir(DIR)):\n",
        "        label=assign_label(img,flower_type)\n",
        "        path = os.path.join(DIR,img)\n",
        "        img = cv2.imread(path,cv2.IMREAD_COLOR)\n",
        "        img = cv2.resize(img, (img_size,img_size))\n",
        "        \n",
        "        X.append(np.array(img))\n",
        "        Z.append(str(label))\n",
        "        \n",
        "        "
      ],
      "execution_count": 0,
      "outputs": []
    },
    {
      "metadata": {
        "id": "9yFwFNnEJ7Kr",
        "colab_type": "code",
        "outputId": "d68a53f1-599c-49cc-80de-72a58230d36f",
        "colab": {
          "base_uri": "https://localhost:8080/",
          "height": 345
        }
      },
      "cell_type": "code",
      "source": [
        "\n",
        "\n",
        "\n",
        "make_train_data('class_1',class_1)\n",
        "make_train_data('class_2',class_2)\n",
        "make_train_data('class_3',class_3)\n",
        "make_train_data('class_4',class_4)\n",
        "make_train_data('class_5',class_5)\n",
        "make_train_data('class_6',class_6)\n",
        "make_train_data('class_7',class_7)\n",
        "make_train_data('class_8',class_8)\n",
        "make_train_data('class_9',class_9)\n",
        "make_train_data('class_10',class_10)\n",
        "make_train_data('class_11',class_11)\n",
        "make_train_data('class_12',class_12)\n",
        "make_train_data('class_13',class_13)\n",
        "make_train_data('class_14',class_14)\n",
        "make_train_data('class_15',class_15)\n",
        "make_train_data('class_16',class_16)\n",
        "make_train_data('class_17',class_17)\n",
        "print(len(X))"
      ],
      "execution_count": 0,
      "outputs": [
        {
          "output_type": "stream",
          "text": [
            "100%|██████████| 60/60 [00:35<00:00,  1.73it/s]\n",
            "100%|██████████| 54/54 [00:26<00:00,  2.07it/s]\n",
            "100%|██████████| 63/63 [00:33<00:00,  2.01it/s]\n",
            "100%|██████████| 50/50 [00:25<00:00,  2.42it/s]\n",
            "100%|██████████| 65/65 [00:32<00:00,  1.81it/s]\n",
            "100%|██████████| 63/63 [00:31<00:00,  1.95it/s]\n",
            "100%|██████████| 57/57 [00:31<00:00,  1.47it/s]\n",
            "100%|██████████| 55/55 [00:29<00:00,  2.28it/s]\n",
            "100%|██████████| 57/57 [00:28<00:00,  2.29it/s]\n",
            "100%|██████████| 61/61 [00:33<00:00,  2.00it/s]\n",
            "100%|██████████| 57/57 [00:28<00:00,  2.55it/s]\n",
            "100%|██████████| 46/46 [00:25<00:00,  1.65it/s]\n",
            "100%|██████████| 55/55 [00:26<00:00,  2.07it/s]\n",
            "100%|██████████| 52/52 [00:29<00:00,  1.97it/s]\n",
            "100%|██████████| 63/63 [00:30<00:00,  2.43it/s]\n",
            "100%|██████████| 54/54 [00:26<00:00,  2.10it/s]\n",
            "100%|██████████| 64/64 [00:30<00:00,  2.26it/s]"
          ],
          "name": "stderr"
        },
        {
          "output_type": "stream",
          "text": [
            "976\n"
          ],
          "name": "stdout"
        },
        {
          "output_type": "stream",
          "text": [
            "\n"
          ],
          "name": "stderr"
        }
      ]
    },
    {
      "metadata": {
        "id": "zJhIMUEBJ9TM",
        "colab_type": "code",
        "colab": {}
      },
      "cell_type": "code",
      "source": [
        "val_X=[]\n",
        "val_Z=[]\n",
        "img_size=150\n",
        "class_1='drive/Colab Notebooks/oxfordflower17/val/class_1'\n",
        "class_2='drive/Colab Notebooks/oxfordflower17/val/class_2'\n",
        "class_3='drive/Colab Notebooks/oxfordflower17/val/class_3'\n",
        "class_4='drive/Colab Notebooks/oxfordflower17/val/class_4'\n",
        "class_5='drive/Colab Notebooks/oxfordflower17/val/class_5'\n",
        "class_6='drive/Colab Notebooks/oxfordflower17/val/class_6'\n",
        "class_7='drive/Colab Notebooks/oxfordflower17/val/class_7'\n",
        "class_8='drive/Colab Notebooks/oxfordflower17/val/class_8'\n",
        "class_9='drive/Colab Notebooks/oxfordflower17/val/class_9'\n",
        "class_10='drive/Colab Notebooks/oxfordflower17/val/class_10'\n",
        "class_11='drive/Colab Notebooks/oxfordflower17/val/class_11'\n",
        "class_12='drive/Colab Notebooks/oxfordflower17/val/class_12'\n",
        "class_13='drive/Colab Notebooks/oxfordflower17/val/class_13'\n",
        "class_14='drive/Colab Notebooks/oxfordflower17/val/class_14'\n",
        "class_15='drive/Colab Notebooks/oxfordflower17/val/class_15'\n",
        "class_16='drive/Colab Notebooks/oxfordflower17/val/class_16'\n",
        "class_17='drive/Colab Notebooks/oxfordflower17/val/class_17'\n"
      ],
      "execution_count": 0,
      "outputs": []
    },
    {
      "metadata": {
        "id": "6BCwS9RsXtBY",
        "colab_type": "code",
        "colab": {}
      },
      "cell_type": "code",
      "source": [
        "def make_val_data(flower_type,DIR):\n",
        "    for img in tqdm(os.listdir(DIR)):\n",
        "        print(img)\n",
        "        label=assign_label(img,flower_type)\n",
        "        path = os.path.join(DIR,img)\n",
        "        img = cv2.imread(path,cv2.IMREAD_COLOR)\n",
        "       \n",
        "        img = cv2.resize(img, (img_size,img_size))\n",
        "        \n",
        "        val_X.append(np.array(img))\n",
        "        val_Z.append(str(label))"
      ],
      "execution_count": 0,
      "outputs": []
    },
    {
      "metadata": {
        "id": "E8CVgKPzX2xe",
        "colab_type": "code",
        "outputId": "bd021a31-65e2-49f1-e66c-9c48157951c9",
        "colab": {
          "base_uri": "https://localhost:8080/",
          "height": 3835
        }
      },
      "cell_type": "code",
      "source": [
        "make_val_data('class_1',class_1)\n",
        "make_val_data('class_2',class_2)\n",
        "make_val_data('class_3',class_3)\n",
        "make_val_data('class_4',class_4)\n",
        "make_val_data('class_5',class_5)\n",
        "make_val_data('class_6',class_6)\n",
        "make_val_data('class_7',class_7)\n",
        "make_val_data('class_8',class_8)\n",
        "make_val_data('class_9',class_9)\n",
        "make_val_data('class_10',class_10)\n",
        "make_val_data('class_11',class_11)\n",
        "make_val_data('class_12',class_12)\n",
        "make_val_data('class_13',class_13)\n",
        "make_val_data('class_14',class_14)\n",
        "make_val_data('class_15',class_15)\n",
        "make_val_data('class_16',class_16)\n",
        "make_val_data('class_17',class_17)\n",
        "print(len(val_X))"
      ],
      "execution_count": 0,
      "outputs": [
        {
          "output_type": "stream",
          "text": [
            "\r  0%|          | 0/11 [00:00<?, ?it/s]"
          ],
          "name": "stderr"
        },
        {
          "output_type": "stream",
          "text": [
            "image_0009.jpg\n"
          ],
          "name": "stdout"
        },
        {
          "output_type": "stream",
          "text": [
            "\r  9%|▉         | 1/11 [00:00<00:03,  2.84it/s]"
          ],
          "name": "stderr"
        },
        {
          "output_type": "stream",
          "text": [
            "image_0015.jpg\n"
          ],
          "name": "stdout"
        },
        {
          "output_type": "stream",
          "text": [
            "\r 18%|█▊        | 2/11 [00:01<00:04,  2.17it/s]"
          ],
          "name": "stderr"
        },
        {
          "output_type": "stream",
          "text": [
            "image_0022.jpg\n"
          ],
          "name": "stdout"
        },
        {
          "output_type": "stream",
          "text": [
            "\r 27%|██▋       | 3/11 [00:01<00:03,  2.17it/s]"
          ],
          "name": "stderr"
        },
        {
          "output_type": "stream",
          "text": [
            "image_0029.jpg\n"
          ],
          "name": "stdout"
        },
        {
          "output_type": "stream",
          "text": [
            "\r 36%|███▋      | 4/11 [00:02<00:03,  1.83it/s]"
          ],
          "name": "stderr"
        },
        {
          "output_type": "stream",
          "text": [
            "image_0031.jpg\n"
          ],
          "name": "stdout"
        },
        {
          "output_type": "stream",
          "text": [
            "\r 45%|████▌     | 5/11 [00:02<00:03,  2.00it/s]"
          ],
          "name": "stderr"
        },
        {
          "output_type": "stream",
          "text": [
            "image_0035.jpg\n"
          ],
          "name": "stdout"
        },
        {
          "output_type": "stream",
          "text": [
            "\r 55%|█████▍    | 6/11 [00:03<00:02,  2.06it/s]"
          ],
          "name": "stderr"
        },
        {
          "output_type": "stream",
          "text": [
            "image_0051.jpg\n"
          ],
          "name": "stdout"
        },
        {
          "output_type": "stream",
          "text": [
            "\r 64%|██████▎   | 7/11 [00:03<00:01,  2.21it/s]"
          ],
          "name": "stderr"
        },
        {
          "output_type": "stream",
          "text": [
            "image_0058.jpg\n"
          ],
          "name": "stdout"
        },
        {
          "output_type": "stream",
          "text": [
            "\r 73%|███████▎  | 8/11 [00:04<00:01,  1.87it/s]"
          ],
          "name": "stderr"
        },
        {
          "output_type": "stream",
          "text": [
            "image_0066.jpg\n"
          ],
          "name": "stdout"
        },
        {
          "output_type": "stream",
          "text": [
            "\r 82%|████████▏ | 9/11 [00:04<00:00,  2.02it/s]"
          ],
          "name": "stderr"
        },
        {
          "output_type": "stream",
          "text": [
            "image_0071.jpg\n"
          ],
          "name": "stdout"
        },
        {
          "output_type": "stream",
          "text": [
            "\r 91%|█████████ | 10/11 [00:05<00:00,  2.05it/s]"
          ],
          "name": "stderr"
        },
        {
          "output_type": "stream",
          "text": [
            "image_0074.jpg\n"
          ],
          "name": "stdout"
        },
        {
          "output_type": "stream",
          "text": [
            "100%|██████████| 11/11 [00:05<00:00,  1.80it/s]\n",
            "  0%|          | 0/13 [00:00<?, ?it/s]"
          ],
          "name": "stderr"
        },
        {
          "output_type": "stream",
          "text": [
            "image_0085.jpg\n"
          ],
          "name": "stdout"
        },
        {
          "output_type": "stream",
          "text": [
            "\r  8%|▊         | 1/13 [00:00<00:10,  1.15it/s]"
          ],
          "name": "stderr"
        },
        {
          "output_type": "stream",
          "text": [
            "image_0081.jpg\n"
          ],
          "name": "stdout"
        },
        {
          "output_type": "stream",
          "text": [
            "\r 15%|█▌        | 2/13 [00:01<00:08,  1.33it/s]"
          ],
          "name": "stderr"
        },
        {
          "output_type": "stream",
          "text": [
            "image_0088.jpg\n"
          ],
          "name": "stdout"
        },
        {
          "output_type": "stream",
          "text": [
            "\r 23%|██▎       | 3/13 [00:01<00:06,  1.49it/s]"
          ],
          "name": "stderr"
        },
        {
          "output_type": "stream",
          "text": [
            "image_0087.jpg\n"
          ],
          "name": "stdout"
        },
        {
          "output_type": "stream",
          "text": [
            "\r 31%|███       | 4/13 [00:02<00:06,  1.45it/s]"
          ],
          "name": "stderr"
        },
        {
          "output_type": "stream",
          "text": [
            "image_0100.jpg\n"
          ],
          "name": "stdout"
        },
        {
          "output_type": "stream",
          "text": [
            "\r 38%|███▊      | 5/13 [00:03<00:05,  1.59it/s]"
          ],
          "name": "stderr"
        },
        {
          "output_type": "stream",
          "text": [
            "image_0109.jpg\n"
          ],
          "name": "stdout"
        },
        {
          "output_type": "stream",
          "text": [
            "\r 46%|████▌     | 6/13 [00:03<00:03,  1.82it/s]"
          ],
          "name": "stderr"
        },
        {
          "output_type": "stream",
          "text": [
            "image_0089.jpg\n"
          ],
          "name": "stdout"
        },
        {
          "output_type": "stream",
          "text": [
            "\r 54%|█████▍    | 7/13 [00:03<00:03,  2.00it/s]"
          ],
          "name": "stderr"
        },
        {
          "output_type": "stream",
          "text": [
            "image_0116.jpg\n"
          ],
          "name": "stdout"
        },
        {
          "output_type": "stream",
          "text": [
            "\r 62%|██████▏   | 8/13 [00:04<00:02,  2.11it/s]"
          ],
          "name": "stderr"
        },
        {
          "output_type": "stream",
          "text": [
            "image_0117.jpg\n"
          ],
          "name": "stdout"
        },
        {
          "output_type": "stream",
          "text": [
            "\r 69%|██████▉   | 9/13 [00:04<00:01,  2.04it/s]"
          ],
          "name": "stderr"
        },
        {
          "output_type": "stream",
          "text": [
            "image_0127.jpg\n"
          ],
          "name": "stdout"
        },
        {
          "output_type": "stream",
          "text": [
            "\r 77%|███████▋  | 10/13 [00:05<00:01,  2.20it/s]"
          ],
          "name": "stderr"
        },
        {
          "output_type": "stream",
          "text": [
            "image_0153.jpg\n"
          ],
          "name": "stdout"
        },
        {
          "output_type": "stream",
          "text": [
            "\r 85%|████████▍ | 11/13 [00:05<00:00,  2.27it/s]"
          ],
          "name": "stderr"
        },
        {
          "output_type": "stream",
          "text": [
            "image_0141.jpg\n"
          ],
          "name": "stdout"
        },
        {
          "output_type": "stream",
          "text": [
            "\r 92%|█████████▏| 12/13 [00:06<00:00,  1.85it/s]"
          ],
          "name": "stderr"
        },
        {
          "output_type": "stream",
          "text": [
            "image_0139.jpg\n"
          ],
          "name": "stdout"
        },
        {
          "output_type": "stream",
          "text": [
            "100%|██████████| 13/13 [00:06<00:00,  1.70it/s]\n",
            "  0%|          | 0/10 [00:00<?, ?it/s]"
          ],
          "name": "stderr"
        },
        {
          "output_type": "stream",
          "text": [
            "image_0167.jpg\n"
          ],
          "name": "stdout"
        },
        {
          "output_type": "stream",
          "text": [
            "\r 10%|█         | 1/10 [00:00<00:02,  3.03it/s]"
          ],
          "name": "stderr"
        },
        {
          "output_type": "stream",
          "text": [
            "image_0165.jpg\n"
          ],
          "name": "stdout"
        },
        {
          "output_type": "stream",
          "text": [
            "\r 20%|██        | 2/10 [00:00<00:02,  2.77it/s]"
          ],
          "name": "stderr"
        },
        {
          "output_type": "stream",
          "text": [
            "image_0163.jpg\n"
          ],
          "name": "stdout"
        },
        {
          "output_type": "stream",
          "text": [
            "\r 30%|███       | 3/10 [00:01<00:02,  2.92it/s]"
          ],
          "name": "stderr"
        },
        {
          "output_type": "stream",
          "text": [
            "image_0169.jpg\n"
          ],
          "name": "stdout"
        },
        {
          "output_type": "stream",
          "text": [
            "\r 40%|████      | 4/10 [00:01<00:02,  2.39it/s]"
          ],
          "name": "stderr"
        },
        {
          "output_type": "stream",
          "text": [
            "image_0181.jpg\n"
          ],
          "name": "stdout"
        },
        {
          "output_type": "stream",
          "text": [
            "\r 50%|█████     | 5/10 [00:02<00:02,  1.97it/s]"
          ],
          "name": "stderr"
        },
        {
          "output_type": "stream",
          "text": [
            "image_0175.jpg\n"
          ],
          "name": "stdout"
        },
        {
          "output_type": "stream",
          "text": [
            "\r 60%|██████    | 6/10 [00:02<00:01,  2.10it/s]"
          ],
          "name": "stderr"
        },
        {
          "output_type": "stream",
          "text": [
            "image_0192.jpg\n"
          ],
          "name": "stdout"
        },
        {
          "output_type": "stream",
          "text": [
            "\r 70%|███████   | 7/10 [00:03<00:01,  1.82it/s]"
          ],
          "name": "stderr"
        },
        {
          "output_type": "stream",
          "text": [
            "image_0193.jpg\n"
          ],
          "name": "stdout"
        },
        {
          "output_type": "stream",
          "text": [
            "\r 80%|████████  | 8/10 [00:03<00:00,  2.05it/s]"
          ],
          "name": "stderr"
        },
        {
          "output_type": "stream",
          "text": [
            "image_0228.jpg\n"
          ],
          "name": "stdout"
        },
        {
          "output_type": "stream",
          "text": [
            "\r 90%|█████████ | 9/10 [00:04<00:00,  2.16it/s]"
          ],
          "name": "stderr"
        },
        {
          "output_type": "stream",
          "text": [
            "image_0240.jpg\n"
          ],
          "name": "stdout"
        },
        {
          "output_type": "stream",
          "text": [
            "100%|██████████| 10/10 [00:04<00:00,  2.31it/s]\n",
            "  0%|          | 0/12 [00:00<?, ?it/s]"
          ],
          "name": "stderr"
        },
        {
          "output_type": "stream",
          "text": [
            "image_0251.jpg\n"
          ],
          "name": "stdout"
        },
        {
          "output_type": "stream",
          "text": [
            "\r  8%|▊         | 1/12 [00:00<00:04,  2.60it/s]"
          ],
          "name": "stderr"
        },
        {
          "output_type": "stream",
          "text": [
            "image_0278.jpg\n"
          ],
          "name": "stdout"
        },
        {
          "output_type": "stream",
          "text": [
            "\r 17%|█▋        | 2/12 [00:00<00:03,  2.50it/s]"
          ],
          "name": "stderr"
        },
        {
          "output_type": "stream",
          "text": [
            "image_0264.jpg\n"
          ],
          "name": "stdout"
        },
        {
          "output_type": "stream",
          "text": [
            "\r 25%|██▌       | 3/12 [00:01<00:03,  2.71it/s]"
          ],
          "name": "stderr"
        },
        {
          "output_type": "stream",
          "text": [
            "image_0267.jpg\n"
          ],
          "name": "stdout"
        },
        {
          "output_type": "stream",
          "text": [
            "\r 33%|███▎      | 4/12 [00:01<00:03,  2.49it/s]"
          ],
          "name": "stderr"
        },
        {
          "output_type": "stream",
          "text": [
            "image_0273.jpg\n"
          ],
          "name": "stdout"
        },
        {
          "output_type": "stream",
          "text": [
            "\r 42%|████▏     | 5/12 [00:01<00:02,  2.69it/s]"
          ],
          "name": "stderr"
        },
        {
          "output_type": "stream",
          "text": [
            "image_0266.jpg\n"
          ],
          "name": "stdout"
        },
        {
          "output_type": "stream",
          "text": [
            "\r 50%|█████     | 6/12 [00:02<00:02,  2.68it/s]"
          ],
          "name": "stderr"
        },
        {
          "output_type": "stream",
          "text": [
            "image_0294.jpg\n"
          ],
          "name": "stdout"
        },
        {
          "output_type": "stream",
          "text": [
            "\r 58%|█████▊    | 7/12 [00:02<00:01,  2.63it/s]"
          ],
          "name": "stderr"
        },
        {
          "output_type": "stream",
          "text": [
            "image_0281.jpg\n"
          ],
          "name": "stdout"
        },
        {
          "output_type": "stream",
          "text": [
            "\r 67%|██████▋   | 8/12 [00:03<00:01,  2.41it/s]"
          ],
          "name": "stderr"
        },
        {
          "output_type": "stream",
          "text": [
            "image_0299.jpg\n"
          ],
          "name": "stdout"
        },
        {
          "output_type": "stream",
          "text": [
            "\r 75%|███████▌  | 9/12 [00:03<00:01,  2.43it/s]"
          ],
          "name": "stderr"
        },
        {
          "output_type": "stream",
          "text": [
            "image_0303.jpg\n"
          ],
          "name": "stdout"
        },
        {
          "output_type": "stream",
          "text": [
            "\r 83%|████████▎ | 10/12 [00:04<00:01,  2.00it/s]"
          ],
          "name": "stderr"
        },
        {
          "output_type": "stream",
          "text": [
            "image_0307.jpg\n"
          ],
          "name": "stdout"
        },
        {
          "output_type": "stream",
          "text": [
            "\r 92%|█████████▏| 11/12 [00:04<00:00,  2.02it/s]"
          ],
          "name": "stderr"
        },
        {
          "output_type": "stream",
          "text": [
            "image_0319.jpg\n"
          ],
          "name": "stdout"
        },
        {
          "output_type": "stream",
          "text": [
            "100%|██████████| 12/12 [00:05<00:00,  2.09it/s]\n",
            "  0%|          | 0/9 [00:00<?, ?it/s]"
          ],
          "name": "stderr"
        },
        {
          "output_type": "stream",
          "text": [
            "image_0366.jpg\n"
          ],
          "name": "stdout"
        },
        {
          "output_type": "stream",
          "text": [
            "\r 11%|█         | 1/9 [00:00<00:05,  1.45it/s]"
          ],
          "name": "stderr"
        },
        {
          "output_type": "stream",
          "text": [
            "image_0331.jpg\n"
          ],
          "name": "stdout"
        },
        {
          "output_type": "stream",
          "text": [
            "\r 22%|██▏       | 2/9 [00:01<00:04,  1.70it/s]"
          ],
          "name": "stderr"
        },
        {
          "output_type": "stream",
          "text": [
            "image_0343.jpg\n"
          ],
          "name": "stdout"
        },
        {
          "output_type": "stream",
          "text": [
            "\r 33%|███▎      | 3/9 [00:01<00:03,  1.57it/s]"
          ],
          "name": "stderr"
        },
        {
          "output_type": "stream",
          "text": [
            "image_0348.jpg\n"
          ],
          "name": "stdout"
        },
        {
          "output_type": "stream",
          "text": [
            "\r 44%|████▍     | 4/9 [00:02<00:02,  1.80it/s]"
          ],
          "name": "stderr"
        },
        {
          "output_type": "stream",
          "text": [
            "image_0392.jpg\n"
          ],
          "name": "stdout"
        },
        {
          "output_type": "stream",
          "text": [
            "\r 56%|█████▌    | 5/9 [00:03<00:02,  1.55it/s]"
          ],
          "name": "stderr"
        },
        {
          "output_type": "stream",
          "text": [
            "image_0388.jpg\n"
          ],
          "name": "stdout"
        },
        {
          "output_type": "stream",
          "text": [
            "\r 67%|██████▋   | 6/9 [00:03<00:01,  1.79it/s]"
          ],
          "name": "stderr"
        },
        {
          "output_type": "stream",
          "text": [
            "image_0389.jpg\n"
          ],
          "name": "stdout"
        },
        {
          "output_type": "stream",
          "text": [
            "\r 78%|███████▊  | 7/9 [00:04<00:01,  1.61it/s]"
          ],
          "name": "stderr"
        },
        {
          "output_type": "stream",
          "text": [
            "image_0351.jpg\n"
          ],
          "name": "stdout"
        },
        {
          "output_type": "stream",
          "text": [
            "\r 89%|████████▉ | 8/9 [00:04<00:00,  1.84it/s]"
          ],
          "name": "stderr"
        },
        {
          "output_type": "stream",
          "text": [
            "image_0400.jpg\n"
          ],
          "name": "stdout"
        },
        {
          "output_type": "stream",
          "text": [
            "100%|██████████| 9/9 [00:05<00:00,  1.69it/s]\n",
            "  0%|          | 0/8 [00:00<?, ?it/s]"
          ],
          "name": "stderr"
        },
        {
          "output_type": "stream",
          "text": [
            "image_0414.jpg\n"
          ],
          "name": "stdout"
        },
        {
          "output_type": "stream",
          "text": [
            "\r 12%|█▎        | 1/8 [00:00<00:02,  3.10it/s]"
          ],
          "name": "stderr"
        },
        {
          "output_type": "stream",
          "text": [
            "image_0428.jpg\n"
          ],
          "name": "stdout"
        },
        {
          "output_type": "stream",
          "text": [
            "\r 25%|██▌       | 2/8 [00:00<00:02,  2.69it/s]"
          ],
          "name": "stderr"
        },
        {
          "output_type": "stream",
          "text": [
            "image_0421.jpg\n"
          ],
          "name": "stdout"
        },
        {
          "output_type": "stream",
          "text": [
            "\r 38%|███▊      | 3/8 [00:01<00:01,  2.68it/s]"
          ],
          "name": "stderr"
        },
        {
          "output_type": "stream",
          "text": [
            "image_0409.jpg\n"
          ],
          "name": "stdout"
        },
        {
          "output_type": "stream",
          "text": [
            "\r 50%|█████     | 4/8 [00:01<00:01,  2.49it/s]"
          ],
          "name": "stderr"
        },
        {
          "output_type": "stream",
          "text": [
            "image_0412.jpg\n"
          ],
          "name": "stdout"
        },
        {
          "output_type": "stream",
          "text": [
            "\r 62%|██████▎   | 5/8 [00:02<00:01,  1.71it/s]"
          ],
          "name": "stderr"
        },
        {
          "output_type": "stream",
          "text": [
            "image_0469.jpg\n"
          ],
          "name": "stdout"
        },
        {
          "output_type": "stream",
          "text": [
            "\r 75%|███████▌  | 6/8 [00:03<00:01,  1.75it/s]"
          ],
          "name": "stderr"
        },
        {
          "output_type": "stream",
          "text": [
            "image_0442.jpg\n"
          ],
          "name": "stdout"
        },
        {
          "output_type": "stream",
          "text": [
            "\r 88%|████████▊ | 7/8 [00:03<00:00,  1.88it/s]"
          ],
          "name": "stderr"
        },
        {
          "output_type": "stream",
          "text": [
            "image_0475.jpg\n"
          ],
          "name": "stdout"
        },
        {
          "output_type": "stream",
          "text": [
            "100%|██████████| 8/8 [00:04<00:00,  1.56it/s]\n",
            "  0%|          | 0/13 [00:00<?, ?it/s]"
          ],
          "name": "stderr"
        },
        {
          "output_type": "stream",
          "text": [
            "image_0485.jpg\n"
          ],
          "name": "stdout"
        },
        {
          "output_type": "stream",
          "text": [
            "\r  8%|▊         | 1/13 [00:00<00:04,  2.95it/s]"
          ],
          "name": "stderr"
        },
        {
          "output_type": "stream",
          "text": [
            "image_0501.jpg\n"
          ],
          "name": "stdout"
        },
        {
          "output_type": "stream",
          "text": [
            "\r 15%|█▌        | 2/13 [00:00<00:04,  2.51it/s]"
          ],
          "name": "stderr"
        },
        {
          "output_type": "stream",
          "text": [
            "image_0491.jpg\n"
          ],
          "name": "stdout"
        },
        {
          "output_type": "stream",
          "text": [
            "\r 23%|██▎       | 3/13 [00:01<00:04,  2.09it/s]"
          ],
          "name": "stderr"
        },
        {
          "output_type": "stream",
          "text": [
            "image_0498.jpg\n"
          ],
          "name": "stdout"
        },
        {
          "output_type": "stream",
          "text": [
            "\r 31%|███       | 4/13 [00:02<00:04,  1.87it/s]"
          ],
          "name": "stderr"
        },
        {
          "output_type": "stream",
          "text": [
            "image_0503.jpg\n"
          ],
          "name": "stdout"
        },
        {
          "output_type": "stream",
          "text": [
            "\r 38%|███▊      | 5/13 [00:02<00:04,  1.70it/s]"
          ],
          "name": "stderr"
        },
        {
          "output_type": "stream",
          "text": [
            "image_0502.jpg\n"
          ],
          "name": "stdout"
        },
        {
          "output_type": "stream",
          "text": [
            "\r 46%|████▌     | 6/13 [00:03<00:03,  1.77it/s]"
          ],
          "name": "stderr"
        },
        {
          "output_type": "stream",
          "text": [
            "image_0514.jpg\n"
          ],
          "name": "stdout"
        },
        {
          "output_type": "stream",
          "text": [
            "\r 54%|█████▍    | 7/13 [00:03<00:03,  1.85it/s]"
          ],
          "name": "stderr"
        },
        {
          "output_type": "stream",
          "text": [
            "image_0518.jpg\n"
          ],
          "name": "stdout"
        },
        {
          "output_type": "stream",
          "text": [
            "\r 62%|██████▏   | 8/13 [00:04<00:02,  1.91it/s]"
          ],
          "name": "stderr"
        },
        {
          "output_type": "stream",
          "text": [
            "image_0507.jpg\n"
          ],
          "name": "stdout"
        },
        {
          "output_type": "stream",
          "text": [
            "\r 69%|██████▉   | 9/13 [00:04<00:01,  2.07it/s]"
          ],
          "name": "stderr"
        },
        {
          "output_type": "stream",
          "text": [
            "image_0540.jpg\n"
          ],
          "name": "stdout"
        },
        {
          "output_type": "stream",
          "text": [
            "\r 77%|███████▋  | 10/13 [00:05<00:01,  2.18it/s]"
          ],
          "name": "stderr"
        },
        {
          "output_type": "stream",
          "text": [
            "image_0543.jpg\n"
          ],
          "name": "stdout"
        },
        {
          "output_type": "stream",
          "text": [
            "\r 85%|████████▍ | 11/13 [00:05<00:00,  2.23it/s]"
          ],
          "name": "stderr"
        },
        {
          "output_type": "stream",
          "text": [
            "image_0560.jpg\n"
          ],
          "name": "stdout"
        },
        {
          "output_type": "stream",
          "text": [
            "\r 92%|█████████▏| 12/13 [00:06<00:00,  1.93it/s]"
          ],
          "name": "stderr"
        },
        {
          "output_type": "stream",
          "text": [
            "image_0546.jpg\n"
          ],
          "name": "stdout"
        },
        {
          "output_type": "stream",
          "text": [
            "100%|██████████| 13/13 [00:06<00:00,  1.91it/s]\n",
            "  0%|          | 0/14 [00:00<?, ?it/s]"
          ],
          "name": "stderr"
        },
        {
          "output_type": "stream",
          "text": [
            "image_0596.jpg\n"
          ],
          "name": "stdout"
        },
        {
          "output_type": "stream",
          "text": [
            "\r  7%|▋         | 1/14 [00:00<00:07,  1.82it/s]"
          ],
          "name": "stderr"
        },
        {
          "output_type": "stream",
          "text": [
            "image_0580.jpg\n"
          ],
          "name": "stdout"
        },
        {
          "output_type": "stream",
          "text": [
            "\r 14%|█▍        | 2/14 [00:01<00:06,  1.92it/s]"
          ],
          "name": "stderr"
        },
        {
          "output_type": "stream",
          "text": [
            "image_0564.jpg\n"
          ],
          "name": "stdout"
        },
        {
          "output_type": "stream",
          "text": [
            "\r 21%|██▏       | 3/14 [00:01<00:05,  1.97it/s]"
          ],
          "name": "stderr"
        },
        {
          "output_type": "stream",
          "text": [
            "image_0571.jpg\n"
          ],
          "name": "stdout"
        },
        {
          "output_type": "stream",
          "text": [
            "\r 29%|██▊       | 4/14 [00:01<00:05,  1.98it/s]"
          ],
          "name": "stderr"
        },
        {
          "output_type": "stream",
          "text": [
            "image_0598.jpg\n"
          ],
          "name": "stdout"
        },
        {
          "output_type": "stream",
          "text": [
            "\r 36%|███▌      | 5/14 [00:02<00:04,  2.02it/s]"
          ],
          "name": "stderr"
        },
        {
          "output_type": "stream",
          "text": [
            "image_0597.jpg\n"
          ],
          "name": "stdout"
        },
        {
          "output_type": "stream",
          "text": [
            "\r 43%|████▎     | 6/14 [00:02<00:03,  2.13it/s]"
          ],
          "name": "stderr"
        },
        {
          "output_type": "stream",
          "text": [
            "image_0602.jpg\n"
          ],
          "name": "stdout"
        },
        {
          "output_type": "stream",
          "text": [
            "\r 50%|█████     | 7/14 [00:03<00:03,  2.24it/s]"
          ],
          "name": "stderr"
        },
        {
          "output_type": "stream",
          "text": [
            "image_0593.jpg\n"
          ],
          "name": "stdout"
        },
        {
          "output_type": "stream",
          "text": [
            "\r 57%|█████▋    | 8/14 [00:04<00:03,  1.86it/s]"
          ],
          "name": "stderr"
        },
        {
          "output_type": "stream",
          "text": [
            "image_0610.jpg\n"
          ],
          "name": "stdout"
        },
        {
          "output_type": "stream",
          "text": [
            "\r 64%|██████▍   | 9/14 [00:04<00:02,  2.09it/s]"
          ],
          "name": "stderr"
        },
        {
          "output_type": "stream",
          "text": [
            "image_0618.jpg\n"
          ],
          "name": "stdout"
        },
        {
          "output_type": "stream",
          "text": [
            "\r 71%|███████▏  | 10/14 [00:04<00:01,  2.18it/s]"
          ],
          "name": "stderr"
        },
        {
          "output_type": "stream",
          "text": [
            "image_0627.jpg\n"
          ],
          "name": "stdout"
        },
        {
          "output_type": "stream",
          "text": [
            "\r 79%|███████▊  | 11/14 [00:05<00:01,  2.29it/s]"
          ],
          "name": "stderr"
        },
        {
          "output_type": "stream",
          "text": [
            "image_0628.jpg\n"
          ],
          "name": "stdout"
        },
        {
          "output_type": "stream",
          "text": [
            "\r 86%|████████▌ | 12/14 [00:05<00:00,  2.14it/s]"
          ],
          "name": "stderr"
        },
        {
          "output_type": "stream",
          "text": [
            "image_0632.jpg\n"
          ],
          "name": "stdout"
        },
        {
          "output_type": "stream",
          "text": [
            "\r 93%|█████████▎| 13/14 [00:06<00:00,  1.65it/s]"
          ],
          "name": "stderr"
        },
        {
          "output_type": "stream",
          "text": [
            "image_0638.jpg\n"
          ],
          "name": "stdout"
        },
        {
          "output_type": "stream",
          "text": [
            "100%|██████████| 14/14 [00:06<00:00,  1.87it/s]\n",
            "  0%|          | 0/11 [00:00<?, ?it/s]"
          ],
          "name": "stderr"
        },
        {
          "output_type": "stream",
          "text": [
            "image_0648.jpg\n"
          ],
          "name": "stdout"
        },
        {
          "output_type": "stream",
          "text": [
            "\r  9%|▉         | 1/11 [00:00<00:09,  1.07it/s]"
          ],
          "name": "stderr"
        },
        {
          "output_type": "stream",
          "text": [
            "image_0676.jpg\n"
          ],
          "name": "stdout"
        },
        {
          "output_type": "stream",
          "text": [
            "\r 18%|█▊        | 2/11 [00:01<00:06,  1.34it/s]"
          ],
          "name": "stderr"
        },
        {
          "output_type": "stream",
          "text": [
            "image_0685.jpg\n"
          ],
          "name": "stdout"
        },
        {
          "output_type": "stream",
          "text": [
            "\r 27%|██▋       | 3/11 [00:01<00:05,  1.59it/s]"
          ],
          "name": "stderr"
        },
        {
          "output_type": "stream",
          "text": [
            "image_0652.jpg\n"
          ],
          "name": "stdout"
        },
        {
          "output_type": "stream",
          "text": [
            "\r 36%|███▋      | 4/11 [00:01<00:03,  1.83it/s]"
          ],
          "name": "stderr"
        },
        {
          "output_type": "stream",
          "text": [
            "image_0668.jpg\n"
          ],
          "name": "stdout"
        },
        {
          "output_type": "stream",
          "text": [
            "\r 45%|████▌     | 5/11 [00:02<00:03,  1.71it/s]"
          ],
          "name": "stderr"
        },
        {
          "output_type": "stream",
          "text": [
            "image_0667.jpg\n"
          ],
          "name": "stdout"
        },
        {
          "output_type": "stream",
          "text": [
            "\r 55%|█████▍    | 6/11 [00:03<00:03,  1.53it/s]"
          ],
          "name": "stderr"
        },
        {
          "output_type": "stream",
          "text": [
            "image_0661.jpg\n"
          ],
          "name": "stdout"
        },
        {
          "output_type": "stream",
          "text": [
            "\r 64%|██████▎   | 7/11 [00:04<00:02,  1.59it/s]"
          ],
          "name": "stderr"
        },
        {
          "output_type": "stream",
          "text": [
            "image_0700.jpg\n"
          ],
          "name": "stdout"
        },
        {
          "output_type": "stream",
          "text": [
            "\r 73%|███████▎  | 8/11 [00:04<00:01,  1.61it/s]"
          ],
          "name": "stderr"
        },
        {
          "output_type": "stream",
          "text": [
            "image_0698.jpg\n"
          ],
          "name": "stdout"
        },
        {
          "output_type": "stream",
          "text": [
            "\r 82%|████████▏ | 9/11 [00:04<00:01,  1.86it/s]"
          ],
          "name": "stderr"
        },
        {
          "output_type": "stream",
          "text": [
            "image_0689.jpg\n"
          ],
          "name": "stdout"
        },
        {
          "output_type": "stream",
          "text": [
            "\r 91%|█████████ | 10/11 [00:05<00:00,  1.52it/s]"
          ],
          "name": "stderr"
        },
        {
          "output_type": "stream",
          "text": [
            "image_0712.jpg\n"
          ],
          "name": "stdout"
        },
        {
          "output_type": "stream",
          "text": [
            "100%|██████████| 11/11 [00:06<00:00,  1.50it/s]\n",
            "  0%|          | 0/9 [00:00<?, ?it/s]"
          ],
          "name": "stderr"
        },
        {
          "output_type": "stream",
          "text": [
            "image_0722.jpg\n"
          ],
          "name": "stdout"
        },
        {
          "output_type": "stream",
          "text": [
            "\r 11%|█         | 1/9 [00:00<00:04,  1.99it/s]"
          ],
          "name": "stderr"
        },
        {
          "output_type": "stream",
          "text": [
            "image_0736.jpg\n"
          ],
          "name": "stdout"
        },
        {
          "output_type": "stream",
          "text": [
            "\r 22%|██▏       | 2/9 [00:00<00:03,  2.06it/s]"
          ],
          "name": "stderr"
        },
        {
          "output_type": "stream",
          "text": [
            "image_0730.jpg\n"
          ],
          "name": "stdout"
        },
        {
          "output_type": "stream",
          "text": [
            "\r 33%|███▎      | 3/9 [00:01<00:02,  2.31it/s]"
          ],
          "name": "stderr"
        },
        {
          "output_type": "stream",
          "text": [
            "image_0729.jpg\n"
          ],
          "name": "stdout"
        },
        {
          "output_type": "stream",
          "text": [
            "\r 44%|████▍     | 4/9 [00:02<00:03,  1.61it/s]"
          ],
          "name": "stderr"
        },
        {
          "output_type": "stream",
          "text": [
            "image_0774.jpg\n"
          ],
          "name": "stdout"
        },
        {
          "output_type": "stream",
          "text": [
            "\r 56%|█████▌    | 5/9 [00:02<00:02,  1.79it/s]"
          ],
          "name": "stderr"
        },
        {
          "output_type": "stream",
          "text": [
            "image_0734.jpg\n"
          ],
          "name": "stdout"
        },
        {
          "output_type": "stream",
          "text": [
            "\r 67%|██████▋   | 6/9 [00:03<00:01,  1.70it/s]"
          ],
          "name": "stderr"
        },
        {
          "output_type": "stream",
          "text": [
            "image_0777.jpg\n"
          ],
          "name": "stdout"
        },
        {
          "output_type": "stream",
          "text": [
            "\r 78%|███████▊  | 7/9 [00:04<00:01,  1.66it/s]"
          ],
          "name": "stderr"
        },
        {
          "output_type": "stream",
          "text": [
            "image_0797.jpg\n"
          ],
          "name": "stdout"
        },
        {
          "output_type": "stream",
          "text": [
            "\r 89%|████████▉ | 8/9 [00:04<00:00,  1.86it/s]"
          ],
          "name": "stderr"
        },
        {
          "output_type": "stream",
          "text": [
            "image_0787.jpg\n"
          ],
          "name": "stdout"
        },
        {
          "output_type": "stream",
          "text": [
            "100%|██████████| 9/9 [00:04<00:00,  1.93it/s]\n",
            "  0%|          | 0/15 [00:00<?, ?it/s]"
          ],
          "name": "stderr"
        },
        {
          "output_type": "stream",
          "text": [
            "image_0816.jpg\n"
          ],
          "name": "stdout"
        },
        {
          "output_type": "stream",
          "text": [
            "\r  7%|▋         | 1/15 [00:00<00:09,  1.42it/s]"
          ],
          "name": "stderr"
        },
        {
          "output_type": "stream",
          "text": [
            "image_0806.jpg\n"
          ],
          "name": "stdout"
        },
        {
          "output_type": "stream",
          "text": [
            "\r 13%|█▎        | 2/15 [00:01<00:08,  1.58it/s]"
          ],
          "name": "stderr"
        },
        {
          "output_type": "stream",
          "text": [
            "image_0803.jpg\n"
          ],
          "name": "stdout"
        },
        {
          "output_type": "stream",
          "text": [
            "\r 20%|██        | 3/15 [00:01<00:07,  1.70it/s]"
          ],
          "name": "stderr"
        },
        {
          "output_type": "stream",
          "text": [
            "image_0817.jpg\n"
          ],
          "name": "stdout"
        },
        {
          "output_type": "stream",
          "text": [
            "\r 27%|██▋       | 4/15 [00:02<00:06,  1.79it/s]"
          ],
          "name": "stderr"
        },
        {
          "output_type": "stream",
          "text": [
            "image_0834.jpg\n"
          ],
          "name": "stdout"
        },
        {
          "output_type": "stream",
          "text": [
            "\r 33%|███▎      | 5/15 [00:02<00:04,  2.03it/s]"
          ],
          "name": "stderr"
        },
        {
          "output_type": "stream",
          "text": [
            "image_0827.jpg\n"
          ],
          "name": "stdout"
        },
        {
          "output_type": "stream",
          "text": [
            "\r 40%|████      | 6/15 [00:03<00:04,  1.80it/s]"
          ],
          "name": "stderr"
        },
        {
          "output_type": "stream",
          "text": [
            "image_0826.jpg\n"
          ],
          "name": "stdout"
        },
        {
          "output_type": "stream",
          "text": [
            "\r 47%|████▋     | 7/15 [00:03<00:04,  1.90it/s]"
          ],
          "name": "stderr"
        },
        {
          "output_type": "stream",
          "text": [
            "image_0825.jpg\n"
          ],
          "name": "stdout"
        },
        {
          "output_type": "stream",
          "text": [
            "\r 53%|█████▎    | 8/15 [00:04<00:04,  1.70it/s]"
          ],
          "name": "stderr"
        },
        {
          "output_type": "stream",
          "text": [
            "image_0841.jpg\n"
          ],
          "name": "stdout"
        },
        {
          "output_type": "stream",
          "text": [
            "\r 60%|██████    | 9/15 [00:04<00:03,  1.71it/s]"
          ],
          "name": "stderr"
        },
        {
          "output_type": "stream",
          "text": [
            "image_0846.jpg\n"
          ],
          "name": "stdout"
        },
        {
          "output_type": "stream",
          "text": [
            "\r 67%|██████▋   | 10/15 [00:05<00:02,  2.00it/s]"
          ],
          "name": "stderr"
        },
        {
          "output_type": "stream",
          "text": [
            "image_0831.jpg\n"
          ],
          "name": "stdout"
        },
        {
          "output_type": "stream",
          "text": [
            "\r 73%|███████▎  | 11/15 [00:05<00:01,  2.07it/s]"
          ],
          "name": "stderr"
        },
        {
          "output_type": "stream",
          "text": [
            "image_0849.jpg\n"
          ],
          "name": "stdout"
        },
        {
          "output_type": "stream",
          "text": [
            "\r 80%|████████  | 12/15 [00:06<00:01,  2.06it/s]"
          ],
          "name": "stderr"
        },
        {
          "output_type": "stream",
          "text": [
            "image_0850.jpg\n"
          ],
          "name": "stdout"
        },
        {
          "output_type": "stream",
          "text": [
            "\r 87%|████████▋ | 13/15 [00:06<00:00,  2.15it/s]"
          ],
          "name": "stderr"
        },
        {
          "output_type": "stream",
          "text": [
            "image_0864.jpg\n"
          ],
          "name": "stdout"
        },
        {
          "output_type": "stream",
          "text": [
            "\r 93%|█████████▎| 14/15 [00:06<00:00,  2.25it/s]"
          ],
          "name": "stderr"
        },
        {
          "output_type": "stream",
          "text": [
            "image_0862.jpg\n"
          ],
          "name": "stdout"
        },
        {
          "output_type": "stream",
          "text": [
            "100%|██████████| 15/15 [00:07<00:00,  1.92it/s]\n",
            "  0%|          | 0/12 [00:00<?, ?it/s]"
          ],
          "name": "stderr"
        },
        {
          "output_type": "stream",
          "text": [
            "image_0894.jpg\n"
          ],
          "name": "stdout"
        },
        {
          "output_type": "stream",
          "text": [
            "\r  8%|▊         | 1/12 [00:00<00:03,  2.86it/s]"
          ],
          "name": "stderr"
        },
        {
          "output_type": "stream",
          "text": [
            "image_0884.jpg\n"
          ],
          "name": "stdout"
        },
        {
          "output_type": "stream",
          "text": [
            "\r 17%|█▋        | 2/12 [00:00<00:03,  2.80it/s]"
          ],
          "name": "stderr"
        },
        {
          "output_type": "stream",
          "text": [
            "image_0898.jpg\n"
          ],
          "name": "stdout"
        },
        {
          "output_type": "stream",
          "text": [
            "\r 25%|██▌       | 3/12 [00:01<00:04,  2.05it/s]"
          ],
          "name": "stderr"
        },
        {
          "output_type": "stream",
          "text": [
            "image_0895.jpg\n"
          ],
          "name": "stdout"
        },
        {
          "output_type": "stream",
          "text": [
            "\r 33%|███▎      | 4/12 [00:01<00:03,  2.24it/s]"
          ],
          "name": "stderr"
        },
        {
          "output_type": "stream",
          "text": [
            "image_0903.jpg\n"
          ],
          "name": "stdout"
        },
        {
          "output_type": "stream",
          "text": [
            "\r 42%|████▏     | 5/12 [00:02<00:02,  2.45it/s]"
          ],
          "name": "stderr"
        },
        {
          "output_type": "stream",
          "text": [
            "image_0915.jpg\n"
          ],
          "name": "stdout"
        },
        {
          "output_type": "stream",
          "text": [
            "\r 50%|█████     | 6/12 [00:02<00:02,  2.34it/s]"
          ],
          "name": "stderr"
        },
        {
          "output_type": "stream",
          "text": [
            "image_0955.jpg\n"
          ],
          "name": "stdout"
        },
        {
          "output_type": "stream",
          "text": [
            "\r 58%|█████▊    | 7/12 [00:03<00:02,  2.31it/s]"
          ],
          "name": "stderr"
        },
        {
          "output_type": "stream",
          "text": [
            "image_0938.jpg\n"
          ],
          "name": "stdout"
        },
        {
          "output_type": "stream",
          "text": [
            "\r 67%|██████▋   | 8/12 [00:03<00:01,  2.22it/s]"
          ],
          "name": "stderr"
        },
        {
          "output_type": "stream",
          "text": [
            "image_0927.jpg\n"
          ],
          "name": "stdout"
        },
        {
          "output_type": "stream",
          "text": [
            "\r 75%|███████▌  | 9/12 [00:04<00:01,  1.87it/s]"
          ],
          "name": "stderr"
        },
        {
          "output_type": "stream",
          "text": [
            "image_0960.jpg\n"
          ],
          "name": "stdout"
        },
        {
          "output_type": "stream",
          "text": [
            "\r 83%|████████▎ | 10/12 [00:04<00:00,  2.16it/s]"
          ],
          "name": "stderr"
        },
        {
          "output_type": "stream",
          "text": [
            "image_0945.jpg\n"
          ],
          "name": "stdout"
        },
        {
          "output_type": "stream",
          "text": [
            "\r 92%|█████████▏| 11/12 [00:05<00:00,  1.95it/s]"
          ],
          "name": "stderr"
        },
        {
          "output_type": "stream",
          "text": [
            "image_0953.jpg\n"
          ],
          "name": "stdout"
        },
        {
          "output_type": "stream",
          "text": [
            "100%|██████████| 12/12 [00:05<00:00,  2.25it/s]\n",
            "  0%|          | 0/17 [00:00<?, ?it/s]"
          ],
          "name": "stderr"
        },
        {
          "output_type": "stream",
          "text": [
            "image_0962.jpg\n"
          ],
          "name": "stdout"
        },
        {
          "output_type": "stream",
          "text": [
            "\r  6%|▌         | 1/17 [00:00<00:06,  2.56it/s]"
          ],
          "name": "stderr"
        },
        {
          "output_type": "stream",
          "text": [
            "image_0965.jpg\n"
          ],
          "name": "stdout"
        },
        {
          "output_type": "stream",
          "text": [
            "\r 12%|█▏        | 2/17 [00:01<00:07,  1.90it/s]"
          ],
          "name": "stderr"
        },
        {
          "output_type": "stream",
          "text": [
            "image_0974.jpg\n"
          ],
          "name": "stdout"
        },
        {
          "output_type": "stream",
          "text": [
            "\r 18%|█▊        | 3/17 [00:02<00:09,  1.50it/s]"
          ],
          "name": "stderr"
        },
        {
          "output_type": "stream",
          "text": [
            "image_0989.jpg\n"
          ],
          "name": "stdout"
        },
        {
          "output_type": "stream",
          "text": [
            "\r 24%|██▎       | 4/17 [00:03<00:09,  1.38it/s]"
          ],
          "name": "stderr"
        },
        {
          "output_type": "stream",
          "text": [
            "image_0978.jpg\n"
          ],
          "name": "stdout"
        },
        {
          "output_type": "stream",
          "text": [
            "\r 29%|██▉       | 5/17 [00:03<00:08,  1.38it/s]"
          ],
          "name": "stderr"
        },
        {
          "output_type": "stream",
          "text": [
            "image_0976.jpg\n"
          ],
          "name": "stdout"
        },
        {
          "output_type": "stream",
          "text": [
            "\r 35%|███▌      | 6/17 [00:04<00:07,  1.51it/s]"
          ],
          "name": "stderr"
        },
        {
          "output_type": "stream",
          "text": [
            "image_0983.jpg\n"
          ],
          "name": "stdout"
        },
        {
          "output_type": "stream",
          "text": [
            "\r 41%|████      | 7/17 [00:04<00:06,  1.64it/s]"
          ],
          "name": "stderr"
        },
        {
          "output_type": "stream",
          "text": [
            "image_1006.jpg\n"
          ],
          "name": "stdout"
        },
        {
          "output_type": "stream",
          "text": [
            "\r 47%|████▋     | 8/17 [00:05<00:05,  1.61it/s]"
          ],
          "name": "stderr"
        },
        {
          "output_type": "stream",
          "text": [
            "image_0991.jpg\n"
          ],
          "name": "stdout"
        },
        {
          "output_type": "stream",
          "text": [
            "\r 53%|█████▎    | 9/17 [00:05<00:04,  1.75it/s]"
          ],
          "name": "stderr"
        },
        {
          "output_type": "stream",
          "text": [
            "image_0988.jpg\n"
          ],
          "name": "stdout"
        },
        {
          "output_type": "stream",
          "text": [
            "\r 59%|█████▉    | 10/17 [00:06<00:03,  1.89it/s]"
          ],
          "name": "stderr"
        },
        {
          "output_type": "stream",
          "text": [
            "image_1017.jpg\n"
          ],
          "name": "stdout"
        },
        {
          "output_type": "stream",
          "text": [
            "\r 65%|██████▍   | 11/17 [00:07<00:03,  1.69it/s]"
          ],
          "name": "stderr"
        },
        {
          "output_type": "stream",
          "text": [
            "image_1015.jpg\n"
          ],
          "name": "stdout"
        },
        {
          "output_type": "stream",
          "text": [
            "\r 71%|███████   | 12/17 [00:07<00:02,  1.72it/s]"
          ],
          "name": "stderr"
        },
        {
          "output_type": "stream",
          "text": [
            "image_1032.jpg\n"
          ],
          "name": "stdout"
        },
        {
          "output_type": "stream",
          "text": [
            "\r 76%|███████▋  | 13/17 [00:07<00:02,  1.96it/s]"
          ],
          "name": "stderr"
        },
        {
          "output_type": "stream",
          "text": [
            "image_1022.jpg\n"
          ],
          "name": "stdout"
        },
        {
          "output_type": "stream",
          "text": [
            "\r 82%|████████▏ | 14/17 [00:08<00:01,  1.76it/s]"
          ],
          "name": "stderr"
        },
        {
          "output_type": "stream",
          "text": [
            "image_1033.jpg\n"
          ],
          "name": "stdout"
        },
        {
          "output_type": "stream",
          "text": [
            "\r 88%|████████▊ | 15/17 [00:09<00:01,  1.50it/s]"
          ],
          "name": "stderr"
        },
        {
          "output_type": "stream",
          "text": [
            "image_1036.jpg\n"
          ],
          "name": "stdout"
        },
        {
          "output_type": "stream",
          "text": [
            "\r 94%|█████████▍| 16/17 [00:09<00:00,  1.73it/s]"
          ],
          "name": "stderr"
        },
        {
          "output_type": "stream",
          "text": [
            "image_1035.jpg\n"
          ],
          "name": "stdout"
        },
        {
          "output_type": "stream",
          "text": [
            "100%|██████████| 17/17 [00:10<00:00,  1.84it/s]\n",
            "  0%|          | 0/11 [00:00<?, ?it/s]"
          ],
          "name": "stderr"
        },
        {
          "output_type": "stream",
          "text": [
            "image_1041.jpg\n"
          ],
          "name": "stdout"
        },
        {
          "output_type": "stream",
          "text": [
            "\r  9%|▉         | 1/11 [00:00<00:07,  1.41it/s]"
          ],
          "name": "stderr"
        },
        {
          "output_type": "stream",
          "text": [
            "image_1043.jpg\n"
          ],
          "name": "stdout"
        },
        {
          "output_type": "stream",
          "text": [
            "\r 18%|█▊        | 2/11 [00:01<00:05,  1.54it/s]"
          ],
          "name": "stderr"
        },
        {
          "output_type": "stream",
          "text": [
            "image_1047.jpg\n"
          ],
          "name": "stdout"
        },
        {
          "output_type": "stream",
          "text": [
            "\r 27%|██▋       | 3/11 [00:01<00:04,  1.70it/s]"
          ],
          "name": "stderr"
        },
        {
          "output_type": "stream",
          "text": [
            "image_1048.jpg\n"
          ],
          "name": "stdout"
        },
        {
          "output_type": "stream",
          "text": [
            "\r 36%|███▋      | 4/11 [00:02<00:04,  1.61it/s]"
          ],
          "name": "stderr"
        },
        {
          "output_type": "stream",
          "text": [
            "image_1052.jpg\n"
          ],
          "name": "stdout"
        },
        {
          "output_type": "stream",
          "text": [
            "\r 45%|████▌     | 5/11 [00:02<00:03,  1.80it/s]"
          ],
          "name": "stderr"
        },
        {
          "output_type": "stream",
          "text": [
            "image_1065.jpg\n"
          ],
          "name": "stdout"
        },
        {
          "output_type": "stream",
          "text": [
            "\r 55%|█████▍    | 6/11 [00:03<00:02,  1.91it/s]"
          ],
          "name": "stderr"
        },
        {
          "output_type": "stream",
          "text": [
            "image_1054.jpg\n"
          ],
          "name": "stdout"
        },
        {
          "output_type": "stream",
          "text": [
            "\r 64%|██████▎   | 7/11 [00:03<00:02,  1.89it/s]"
          ],
          "name": "stderr"
        },
        {
          "output_type": "stream",
          "text": [
            "image_1110.jpg\n"
          ],
          "name": "stdout"
        },
        {
          "output_type": "stream",
          "text": [
            "\r 73%|███████▎  | 8/11 [00:04<00:01,  2.09it/s]"
          ],
          "name": "stderr"
        },
        {
          "output_type": "stream",
          "text": [
            "image_1114.jpg\n"
          ],
          "name": "stdout"
        },
        {
          "output_type": "stream",
          "text": [
            "\r 82%|████████▏ | 9/11 [00:04<00:00,  2.29it/s]"
          ],
          "name": "stderr"
        },
        {
          "output_type": "stream",
          "text": [
            "image_1112.jpg\n"
          ],
          "name": "stdout"
        },
        {
          "output_type": "stream",
          "text": [
            "\r 91%|█████████ | 10/11 [00:04<00:00,  2.25it/s]"
          ],
          "name": "stderr"
        },
        {
          "output_type": "stream",
          "text": [
            "image_1104.jpg\n"
          ],
          "name": "stdout"
        },
        {
          "output_type": "stream",
          "text": [
            "100%|██████████| 11/11 [00:05<00:00,  2.21it/s]\n",
            "  0%|          | 0/8 [00:00<?, ?it/s]"
          ],
          "name": "stderr"
        },
        {
          "output_type": "stream",
          "text": [
            "image_1127.jpg\n"
          ],
          "name": "stdout"
        },
        {
          "output_type": "stream",
          "text": [
            "\r 12%|█▎        | 1/8 [00:00<00:04,  1.48it/s]"
          ],
          "name": "stderr"
        },
        {
          "output_type": "stream",
          "text": [
            "image_1134.jpg\n"
          ],
          "name": "stdout"
        },
        {
          "output_type": "stream",
          "text": [
            "\r 25%|██▌       | 2/8 [00:01<00:03,  1.72it/s]"
          ],
          "name": "stderr"
        },
        {
          "output_type": "stream",
          "text": [
            "image_1151.jpg\n"
          ],
          "name": "stdout"
        },
        {
          "output_type": "stream",
          "text": [
            "\r 38%|███▊      | 3/8 [00:01<00:02,  1.82it/s]"
          ],
          "name": "stderr"
        },
        {
          "output_type": "stream",
          "text": [
            "image_1141.jpg\n"
          ],
          "name": "stdout"
        },
        {
          "output_type": "stream",
          "text": [
            "\r 50%|█████     | 4/8 [00:02<00:02,  1.86it/s]"
          ],
          "name": "stderr"
        },
        {
          "output_type": "stream",
          "text": [
            "image_1180.jpg\n"
          ],
          "name": "stdout"
        },
        {
          "output_type": "stream",
          "text": [
            "\r 62%|██████▎   | 5/8 [00:02<00:01,  1.94it/s]"
          ],
          "name": "stderr"
        },
        {
          "output_type": "stream",
          "text": [
            "image_1152.jpg\n"
          ],
          "name": "stdout"
        },
        {
          "output_type": "stream",
          "text": [
            "\r 75%|███████▌  | 6/8 [00:02<00:00,  2.13it/s]"
          ],
          "name": "stderr"
        },
        {
          "output_type": "stream",
          "text": [
            "image_1162.jpg\n"
          ],
          "name": "stdout"
        },
        {
          "output_type": "stream",
          "text": [
            "\r 88%|████████▊ | 7/8 [00:03<00:00,  2.24it/s]"
          ],
          "name": "stderr"
        },
        {
          "output_type": "stream",
          "text": [
            "image_1186.jpg\n"
          ],
          "name": "stdout"
        },
        {
          "output_type": "stream",
          "text": [
            "100%|██████████| 8/8 [00:03<00:00,  2.19it/s]\n",
            "  0%|          | 0/15 [00:00<?, ?it/s]"
          ],
          "name": "stderr"
        },
        {
          "output_type": "stream",
          "text": [
            "image_1219.jpg\n"
          ],
          "name": "stdout"
        },
        {
          "output_type": "stream",
          "text": [
            "\r  7%|▋         | 1/15 [00:00<00:05,  2.73it/s]"
          ],
          "name": "stderr"
        },
        {
          "output_type": "stream",
          "text": [
            "image_1203.jpg\n"
          ],
          "name": "stdout"
        },
        {
          "output_type": "stream",
          "text": [
            "\r 13%|█▎        | 2/15 [00:00<00:04,  2.73it/s]"
          ],
          "name": "stderr"
        },
        {
          "output_type": "stream",
          "text": [
            "image_1225.jpg\n"
          ],
          "name": "stdout"
        },
        {
          "output_type": "stream",
          "text": [
            "\r 20%|██        | 3/15 [00:01<00:06,  1.98it/s]"
          ],
          "name": "stderr"
        },
        {
          "output_type": "stream",
          "text": [
            "image_1210.jpg\n"
          ],
          "name": "stdout"
        },
        {
          "output_type": "stream",
          "text": [
            "\r 27%|██▋       | 4/15 [00:02<00:06,  1.70it/s]"
          ],
          "name": "stderr"
        },
        {
          "output_type": "stream",
          "text": [
            "image_1227.jpg\n"
          ],
          "name": "stdout"
        },
        {
          "output_type": "stream",
          "text": [
            "\r 33%|███▎      | 5/15 [00:02<00:05,  1.98it/s]"
          ],
          "name": "stderr"
        },
        {
          "output_type": "stream",
          "text": [
            "image_1238.jpg\n"
          ],
          "name": "stdout"
        },
        {
          "output_type": "stream",
          "text": [
            "\r 40%|████      | 6/15 [00:03<00:04,  2.02it/s]"
          ],
          "name": "stderr"
        },
        {
          "output_type": "stream",
          "text": [
            "image_1233.jpg\n"
          ],
          "name": "stdout"
        },
        {
          "output_type": "stream",
          "text": [
            "\r 47%|████▋     | 7/15 [00:03<00:03,  2.14it/s]"
          ],
          "name": "stderr"
        },
        {
          "output_type": "stream",
          "text": [
            "image_1253.jpg\n"
          ],
          "name": "stdout"
        },
        {
          "output_type": "stream",
          "text": [
            "\r 53%|█████▎    | 8/15 [00:03<00:02,  2.36it/s]"
          ],
          "name": "stderr"
        },
        {
          "output_type": "stream",
          "text": [
            "image_1257.jpg\n"
          ],
          "name": "stdout"
        },
        {
          "output_type": "stream",
          "text": [
            "\r 60%|██████    | 9/15 [00:04<00:02,  2.49it/s]"
          ],
          "name": "stderr"
        },
        {
          "output_type": "stream",
          "text": [
            "image_1242.jpg\n"
          ],
          "name": "stdout"
        },
        {
          "output_type": "stream",
          "text": [
            "\r 67%|██████▋   | 10/15 [00:04<00:01,  2.59it/s]"
          ],
          "name": "stderr"
        },
        {
          "output_type": "stream",
          "text": [
            "image_1264.jpg\n"
          ],
          "name": "stdout"
        },
        {
          "output_type": "stream",
          "text": [
            "\r 73%|███████▎  | 11/15 [00:04<00:01,  2.58it/s]"
          ],
          "name": "stderr"
        },
        {
          "output_type": "stream",
          "text": [
            "image_1258.jpg\n"
          ],
          "name": "stdout"
        },
        {
          "output_type": "stream",
          "text": [
            "\r 80%|████████  | 12/15 [00:05<00:01,  2.70it/s]"
          ],
          "name": "stderr"
        },
        {
          "output_type": "stream",
          "text": [
            "image_1268.jpg\n"
          ],
          "name": "stdout"
        },
        {
          "output_type": "stream",
          "text": [
            "\r 87%|████████▋ | 13/15 [00:05<00:00,  2.61it/s]"
          ],
          "name": "stderr"
        },
        {
          "output_type": "stream",
          "text": [
            "image_1275.jpg\n"
          ],
          "name": "stdout"
        },
        {
          "output_type": "stream",
          "text": [
            "\r 93%|█████████▎| 14/15 [00:06<00:00,  2.60it/s]"
          ],
          "name": "stderr"
        },
        {
          "output_type": "stream",
          "text": [
            "image_1278.jpg\n"
          ],
          "name": "stdout"
        },
        {
          "output_type": "stream",
          "text": [
            "100%|██████████| 15/15 [00:06<00:00,  2.25it/s]\n",
            "  0%|          | 0/4 [00:00<?, ?it/s]"
          ],
          "name": "stderr"
        },
        {
          "output_type": "stream",
          "text": [
            "image_1328.jpg\n"
          ],
          "name": "stdout"
        },
        {
          "output_type": "stream",
          "text": [
            "\r 25%|██▌       | 1/4 [00:00<00:01,  2.86it/s]"
          ],
          "name": "stderr"
        },
        {
          "output_type": "stream",
          "text": [
            "image_1341.jpg\n"
          ],
          "name": "stdout"
        },
        {
          "output_type": "stream",
          "text": [
            "\r 50%|█████     | 2/4 [00:00<00:00,  2.92it/s]"
          ],
          "name": "stderr"
        },
        {
          "output_type": "stream",
          "text": [
            "image_1347.jpg\n"
          ],
          "name": "stdout"
        },
        {
          "output_type": "stream",
          "text": [
            "\r 75%|███████▌  | 3/4 [00:01<00:00,  2.65it/s]"
          ],
          "name": "stderr"
        },
        {
          "output_type": "stream",
          "text": [
            "image_1350.jpg\n"
          ],
          "name": "stdout"
        },
        {
          "output_type": "stream",
          "text": [
            "\r100%|██████████| 4/4 [00:01<00:00,  2.42it/s]"
          ],
          "name": "stderr"
        },
        {
          "output_type": "stream",
          "text": [
            "192\n"
          ],
          "name": "stdout"
        },
        {
          "output_type": "stream",
          "text": [
            "\n"
          ],
          "name": "stderr"
        }
      ]
    },
    {
      "metadata": {
        "id": "KjcTOxnTqkHc",
        "colab_type": "code",
        "colab": {}
      },
      "cell_type": "code",
      "source": [
        "test_X=[]\n",
        "test_Z=[]\n",
        "\n",
        "img_size=150\n",
        "  \n",
        "def make_test_data(flower_type,DIR):\n",
        "  if os.path.exists(DIR): \n",
        "        #print(DIR)\n",
        "       # img=os.listdir(DIR)\n",
        "        label=flower_type\n",
        "        \n",
        "       \n",
        "        img = cv2.imread(DIR,cv2.IMREAD_COLOR)\n",
        "        #print(img.shape)\n",
        "\n",
        "        img = cv2.resize(img, (img_size,img_size))\n",
        "\n",
        "        test_X.append(np.array(img))\n",
        "        test_Z.append(str(label))\n",
        "       \n",
        "\n"
      ],
      "execution_count": 0,
      "outputs": []
    },
    {
      "metadata": {
        "id": "ti_vr0hMvQy1",
        "colab_type": "code",
        "outputId": "bfdeb06d-64cd-49b7-d41a-d92bc1f95454",
        "colab": {
          "base_uri": "https://localhost:8080/",
          "height": 35
        }
      },
      "cell_type": "code",
      "source": [
        "#defining function for reading test data...\n",
        "\n",
        "\n",
        "for i in range(1,1361):\n",
        "    path='drive/Colab Notebooks/oxfordflower17/test/test/'\n",
        "    #class-1\n",
        "    if i>=1 and i<=80:\n",
        "      if i<10:\n",
        "        path=os.path.join(path,'image_000{}.jpg'.format(i))\n",
        "        make_test_data('class_1',path) \n",
        "      else:\n",
        "        path=os.path.join(path,'image_00{}.jpg'.format(i))\n",
        "        make_test_data('class_1',path) \n",
        "   #class-2\n",
        "    elif i>=82 and i<=159:\n",
        "      if i<100:\n",
        "        path=os.path.join(path,'image_00{}.jpg'.format(i))\n",
        "        make_test_data('class_2',path) \n",
        "        \n",
        "      else:\n",
        "        path=os.path.join(path,'image_0{}.jpg'.format(i))\n",
        "        make_test_data('class_2',path) \n",
        "        \n",
        "    #class-3\n",
        "    elif i>=161 and i<=239:\n",
        "        path=os.path.join(path,'image_0{}.jpg'.format(i))\n",
        "        make_test_data('class_3',path) \n",
        "      \n",
        "    \n",
        "    #class-4\n",
        "    elif i>=242 and i<=320:\n",
        "        path=os.path.join(path,'image_0{}.jpg'.format(i))\n",
        "        make_test_data('class_4',path) \n",
        "    \n",
        "     #class-5\n",
        "    elif i>=321 and i<=399:\n",
        "        path=os.path.join(path,'image_0{}.jpg'.format(i))\n",
        "        make_test_data('class_5',path) \n",
        "     \n",
        "     #class-6\n",
        "    elif i>=401 and i<=480:\n",
        "        path=os.path.join(path,'image_0{}.jpg'.format(i))\n",
        "        make_test_data('class_6',path) \n",
        "     \n",
        "     #class-7\n",
        "    elif i>=481 and i<=559:\n",
        "        path=os.path.join(path,'image_0{}.jpg'.format(i))\n",
        "        make_test_data('class_7',path) \n",
        "           \n",
        "     #class-8\n",
        "    elif i>=561 and i<=640:\n",
        "        path=os.path.join(path,'image_0{}.jpg'.format(i))\n",
        "        make_test_data('class_8',path) \n",
        "    \n",
        "     #class-9\n",
        "    elif i>=642 and i<=720:\n",
        "        path=os.path.join(path,'image_0{}.jpg'.format(i))\n",
        "        make_test_data('class_9',path) \n",
        "     \n",
        "     #class-10\n",
        "    elif i>=721 and i<=800:\n",
        "        path=os.path.join(path,'image_0{}.jpg'.format(i))\n",
        "        make_test_data('class_10',path) \n",
        "     \n",
        "     #class-11\n",
        "    elif i>=801 and i<=880:\n",
        "        path=os.path.join(path,'image_0{}.jpg'.format(i))\n",
        "        make_test_data('class_11',path) \n",
        "    \n",
        "     #class-12\n",
        "    elif i>=881 and i<=958:\n",
        "        path=os.path.join(path,'image_0{}.jpg'.format(i))\n",
        "        make_test_data('class_12',path) \n",
        "        \n",
        "     #class-13 ----wiilllll\n",
        "    elif i>=961 and i<=1040:\n",
        "      if i<1000:\n",
        "        path=os.path.join(path,'image_0{}.jpg'.format(i))\n",
        "        make_test_data('class_13',path) \n",
        "      else:\n",
        "        path=os.path.join(path,'image_{}.jpg'.format(i))\n",
        "        make_test_data('class_13',path) \n",
        "     \n",
        "     #class-14\n",
        "    elif i>=1042 and i<=1120:\n",
        "        path=os.path.join(path,'image_{}.jpg'.format(i))\n",
        "        make_test_data('class_14',path) \n",
        "     \n",
        "     #class-15\n",
        "    elif i>=1121 and i<=1120:\n",
        "        path=os.path.join(path,'image_{}.jpg'.format(i))\n",
        "        make_test_data('class_15',path) \n",
        "     \n",
        "    \n",
        "     #class-16\n",
        "    elif i>=1201 and i<=1280:\n",
        "        path=os.path.join(path,'image_{}.jpg'.format(i))\n",
        "        make_test_data('class_16',path) \n",
        "     \n",
        "     \n",
        "     #class-17\n",
        "    elif i>=1281 and i<=1360:\n",
        "        path=os.path.join(path,'image_{}.jpg'.format(i))\n",
        "        make_test_data('class_17',path) \n",
        "print(len(test_X))\n"
      ],
      "execution_count": 0,
      "outputs": [
        {
          "output_type": "stream",
          "text": [
            "179\n"
          ],
          "name": "stdout"
        }
      ]
    },
    {
      "metadata": {
        "id": "oBPyjMxNYYHV",
        "colab_type": "code",
        "colab": {}
      },
      "cell_type": "code",
      "source": [
        "  \n",
        "   \n",
        "     \n",
        "    \n"
      ],
      "execution_count": 0,
      "outputs": []
    },
    {
      "metadata": {
        "id": "FHVIxCbTKqdj",
        "colab_type": "code",
        "colab": {}
      },
      "cell_type": "code",
      "source": [
        "  \n",
        "    \n",
        "    "
      ],
      "execution_count": 0,
      "outputs": []
    },
    {
      "metadata": {
        "id": "OLF3p_7lxede",
        "colab_type": "code",
        "colab": {}
      },
      "cell_type": "code",
      "source": [
        ""
      ],
      "execution_count": 0,
      "outputs": []
    },
    {
      "metadata": {
        "id": "7gqNlItxxuyH",
        "colab_type": "text"
      },
      "cell_type": "markdown",
      "source": [
        "See some random image\n"
      ]
    },
    {
      "metadata": {
        "id": "pyAtn-T1YMnu",
        "colab_type": "code",
        "outputId": "66d1c6f3-136e-4915-bdb3-10e3844d16d4",
        "colab": {
          "base_uri": "https://localhost:8080/",
          "height": 1085
        }
      },
      "cell_type": "code",
      "source": [
        "fig,ax=plt.subplots(5,2)\n",
        "fig.set_size_inches(15,15)\n",
        "for i in range(5):\n",
        "    for j in range (2):\n",
        "        l=rn.randint(0,len(Z))\n",
        "        ax[i,j].imshow(X[l])\n",
        "        ax[i,j].set_title('Flower: '+Z[l])\n",
        "        \n",
        "plt.tight_layout()\n",
        "        "
      ],
      "execution_count": 0,
      "outputs": [
        {
          "output_type": "display_data",
          "data": {
            "image/png": "[encoded data removed]",
            "text/plain": [
              "<Figure size 1080x1080 with 10 Axes>"
            ]
          },
          "metadata": {
            "tags": []
          }
        }
      ]
    },
    {
      "metadata": {
        "id": "RPT_99VMbdjm",
        "colab_type": "code",
        "colab": {}
      },
      "cell_type": "code",
      "source": [
        "le=LabelEncoder()\n",
        "Y=le.fit_transform(Z)\n",
        "Y=to_categorical(Y,17)\n",
        "X=np.array(X)\n",
        "X=X/255\n",
        "\n",
        "\n",
        "val_Y=le.fit_transform(val_Z)\n",
        "val_Y=to_categorical(val_Y,17)\n",
        "val_X=np.array(val_X)\n",
        "val_X=val_X/255"
      ],
      "execution_count": 0,
      "outputs": []
    },
    {
      "metadata": {
        "id": "3vXqpBEVby6n",
        "colab_type": "code",
        "colab": {}
      },
      "cell_type": "code",
      "source": [
        "np.random.seed(42)\n",
        "rn.seed(42)\n",
        "tf.set_random_seed(42)"
      ],
      "execution_count": 0,
      "outputs": []
    },
    {
      "metadata": {
        "id": "CdhGFVRBb1-2",
        "colab_type": "code",
        "outputId": "575bb6bc-ee36-4eeb-edfd-e11917a62e3c",
        "colab": {
          "base_uri": "https://localhost:8080/",
          "height": 128
        }
      },
      "cell_type": "code",
      "source": [
        "base_model=VGG16(include_top=False, weights='imagenet',input_shape=(150,150,3), pooling='avg')\n",
        " "
      ],
      "execution_count": 0,
      "outputs": [
        {
          "output_type": "stream",
          "text": [
            "WARNING:tensorflow:From /usr/local/lib/python3.6/dist-packages/tensorflow/python/framework/op_def_library.py:263: colocate_with (from tensorflow.python.framework.ops) is deprecated and will be removed in a future version.\n",
            "Instructions for updating:\n",
            "Colocations handled automatically by placer.\n",
            "Downloading data from https://github.com/fchollet/deep-learning-models/releases/download/v0.1/vgg16_weights_tf_dim_ordering_tf_kernels_notop.h5\n",
            "58892288/58889256 [==============================] - 0s 0us/step\n"
          ],
          "name": "stdout"
        }
      ]
    },
    {
      "metadata": {
        "id": "NoFuEST2b6QH",
        "colab_type": "code",
        "outputId": "85e8a3dd-8204-4037-85d3-7212f83016a3",
        "colab": {
          "base_uri": "https://localhost:8080/",
          "height": 872
        }
      },
      "cell_type": "code",
      "source": [
        "base_model.summary()"
      ],
      "execution_count": 0,
      "outputs": [
        {
          "output_type": "stream",
          "text": [
            "_________________________________________________________________\n",
            "Layer (type)                 Output Shape              Param #   \n",
            "=================================================================\n",
            "input_1 (InputLayer)         (None, 150, 150, 3)       0         \n",
            "_________________________________________________________________\n",
            "block1_conv1 (Conv2D)        (None, 150, 150, 64)      1792      \n",
            "_________________________________________________________________\n",
            "block1_conv2 (Conv2D)        (None, 150, 150, 64)      36928     \n",
            "_________________________________________________________________\n",
            "block1_pool (MaxPooling2D)   (None, 75, 75, 64)        0         \n",
            "_________________________________________________________________\n",
            "block2_conv1 (Conv2D)        (None, 75, 75, 128)       73856     \n",
            "_________________________________________________________________\n",
            "block2_conv2 (Conv2D)        (None, 75, 75, 128)       147584    \n",
            "_________________________________________________________________\n",
            "block2_pool (MaxPooling2D)   (None, 37, 37, 128)       0         \n",
            "_________________________________________________________________\n",
            "block3_conv1 (Conv2D)        (None, 37, 37, 256)       295168    \n",
            "_________________________________________________________________\n",
            "block3_conv2 (Conv2D)        (None, 37, 37, 256)       590080    \n",
            "_________________________________________________________________\n",
            "block3_conv3 (Conv2D)        (None, 37, 37, 256)       590080    \n",
            "_________________________________________________________________\n",
            "block3_pool (MaxPooling2D)   (None, 18, 18, 256)       0         \n",
            "_________________________________________________________________\n",
            "block4_conv1 (Conv2D)        (None, 18, 18, 512)       1180160   \n",
            "_________________________________________________________________\n",
            "block4_conv2 (Conv2D)        (None, 18, 18, 512)       2359808   \n",
            "_________________________________________________________________\n",
            "block4_conv3 (Conv2D)        (None, 18, 18, 512)       2359808   \n",
            "_________________________________________________________________\n",
            "block4_pool (MaxPooling2D)   (None, 9, 9, 512)         0         \n",
            "_________________________________________________________________\n",
            "block5_conv1 (Conv2D)        (None, 9, 9, 512)         2359808   \n",
            "_________________________________________________________________\n",
            "block5_conv2 (Conv2D)        (None, 9, 9, 512)         2359808   \n",
            "_________________________________________________________________\n",
            "block5_conv3 (Conv2D)        (None, 9, 9, 512)         2359808   \n",
            "_________________________________________________________________\n",
            "block5_pool (MaxPooling2D)   (None, 4, 4, 512)         0         \n",
            "_________________________________________________________________\n",
            "global_average_pooling2d_1 ( (None, 512)               0         \n",
            "=================================================================\n",
            "Total params: 14,714,688\n",
            "Trainable params: 14,714,688\n",
            "Non-trainable params: 0\n",
            "_________________________________________________________________\n"
          ],
          "name": "stdout"
        }
      ]
    },
    {
      "metadata": {
        "id": "joPSvdklcDxJ",
        "colab_type": "code",
        "colab": {}
      },
      "cell_type": "code",
      "source": [
        "from keras.wrappers.scikit_learn import KerasClassifier\n",
        "def create_model(layers,activation):\n",
        "  model=Sequential()\n",
        "  model.add(base_model)\n",
        " \n",
        "  for i ,nodes in enumerate(layers):\n",
        "    model.add(Dense(nodes))\n",
        "    model.add(Activation(activation))\n",
        "  \n",
        "  model.add(Dense(17))\n",
        "  model.add(Activation(activation))\n",
        "  \n",
        "  base_model.trainable=False # setting the VGG model to be untrainable.\n",
        "  model.compile(loss = \"categorical_crossentropy\", optimizer = 'Adam', metrics=[\"accuracy\"])\n",
        "\n",
        "  return model\n",
        "\n",
        "hyp_model= KerasClassifier(build_fn=create_model)\n",
        "\n",
        "\n",
        "\n"
      ],
      "execution_count": 0,
      "outputs": []
    },
    {
      "metadata": {
        "id": "PLrqqo8EgIeV",
        "colab_type": "code",
        "colab": {}
      },
      "cell_type": "code",
      "source": [
        "\n",
        "\n",
        "\n",
        "    \n",
        "layers=[[64,128],[128,256],[128]]\n",
        "activations=['relu']\n",
        "learn_rate=[0.01]\n",
        "epochs=[10]\n",
        "batch_size=[128,256]\n",
        "\n",
        "param_grid=dict(layers=layers,activation=activations,batch_size=batch_size,epochs=epochs)\n",
        "grid=GridSearchCV(estimator=hyp_model,param_grid=param_grid)"
      ],
      "execution_count": 0,
      "outputs": []
    },
    {
      "metadata": {
        "id": "KI2LaiPCA1b0",
        "colab_type": "code",
        "outputId": "07058ea7-ca92-4d3c-d652-1945a169f0a6",
        "colab": {
          "base_uri": "https://localhost:8080/",
          "height": 7581
        }
      },
      "cell_type": "code",
      "source": [
        "grid_result=grid.fit(X,Y)"
      ],
      "execution_count": 0,
      "outputs": [
        {
          "output_type": "stream",
          "text": [
            "Epoch 1/10\n",
            "650/650 [==============================] - 4s 6ms/step - loss: 10.8338 - acc: 0.1185\n",
            "Epoch 2/10\n",
            "650/650 [==============================] - 3s 5ms/step - loss: 9.7792 - acc: 0.1046\n",
            "Epoch 3/10\n",
            "650/650 [==============================] - 3s 5ms/step - loss: 9.7453 - acc: 0.1662\n",
            "Epoch 4/10\n",
            "650/650 [==============================] - 3s 5ms/step - loss: 9.7163 - acc: 0.1985\n",
            "Epoch 5/10\n",
            "650/650 [==============================] - 3s 5ms/step - loss: 9.6678 - acc: 0.2400\n",
            "Epoch 6/10\n",
            "650/650 [==============================] - 3s 5ms/step - loss: 9.5440 - acc: 0.2462\n",
            "Epoch 7/10\n",
            "650/650 [==============================] - 3s 5ms/step - loss: 8.9081 - acc: 0.2569\n",
            "Epoch 8/10\n",
            "650/650 [==============================] - 3s 5ms/step - loss: 8.1723 - acc: 0.1862\n",
            "Epoch 9/10\n",
            "650/650 [==============================] - 3s 5ms/step - loss: 8.1194 - acc: 0.2415\n",
            "Epoch 10/10\n",
            "650/650 [==============================] - 3s 5ms/step - loss: 8.0308 - acc: 0.3446\n",
            "326/326 [==============================] - 2s 6ms/step\n",
            "650/650 [==============================] - 3s 4ms/step\n",
            "Epoch 1/10\n",
            "651/651 [==============================] - 4s 6ms/step - loss: 5.9055 - acc: 0.0584\n",
            "Epoch 2/10\n",
            "651/651 [==============================] - 3s 5ms/step - loss: 4.5093 - acc: 0.1551\n",
            "Epoch 3/10\n",
            "651/651 [==============================] - 3s 5ms/step - loss: 4.4375 - acc: 0.1797\n",
            "Epoch 4/10\n",
            "651/651 [==============================] - 3s 5ms/step - loss: 4.3747 - acc: 0.2673\n",
            "Epoch 5/10\n",
            "651/651 [==============================] - 3s 5ms/step - loss: 4.2983 - acc: 0.3303\n",
            "Epoch 6/10\n",
            "651/651 [==============================] - 3s 5ms/step - loss: 4.2007 - acc: 0.4040\n",
            "Epoch 7/10\n",
            "651/651 [==============================] - 3s 5ms/step - loss: 4.0207 - acc: 0.4163\n",
            "Epoch 8/10\n",
            "651/651 [==============================] - 3s 5ms/step - loss: 4.4529 - acc: 0.4992\n",
            "Epoch 9/10\n",
            "651/651 [==============================] - 3s 5ms/step - loss: 4.8103 - acc: 0.4286\n",
            "Epoch 10/10\n",
            "651/651 [==============================] - 3s 5ms/step - loss: 4.0847 - acc: 0.3963\n",
            "325/325 [==============================] - 2s 6ms/step\n",
            "651/651 [==============================] - 3s 4ms/step\n",
            "Epoch 1/10\n",
            "651/651 [==============================] - 4s 6ms/step - loss: 5.9417 - acc: 0.0599\n",
            "Epoch 2/10\n",
            "651/651 [==============================] - 3s 5ms/step - loss: 4.6138 - acc: 0.0891\n",
            "Epoch 3/10\n",
            "651/651 [==============================] - 3s 5ms/step - loss: 4.5220 - acc: 0.0891\n",
            "Epoch 4/10\n",
            "651/651 [==============================] - 3s 5ms/step - loss: 4.4796 - acc: 0.1183\n",
            "Epoch 5/10\n",
            "651/651 [==============================] - 3s 5ms/step - loss: 4.4397 - acc: 0.2427\n",
            "Epoch 6/10\n",
            "651/651 [==============================] - 3s 5ms/step - loss: 4.3880 - acc: 0.3379\n",
            "Epoch 7/10\n",
            "651/651 [==============================] - 3s 5ms/step - loss: 4.3127 - acc: 0.3748\n",
            "Epoch 8/10\n",
            "651/651 [==============================] - 3s 5ms/step - loss: 4.1846 - acc: 0.3825\n",
            "Epoch 9/10\n",
            "651/651 [==============================] - 3s 5ms/step - loss: 3.9443 - acc: 0.4301\n",
            "Epoch 10/10\n",
            "651/651 [==============================] - 3s 4ms/step - loss: 3.9319 - acc: 0.5177\n",
            "325/325 [==============================] - 2s 6ms/step\n",
            "651/651 [==============================] - 3s 4ms/step\n",
            "Epoch 1/10\n",
            "650/650 [==============================] - 4s 6ms/step - loss: 9.6649 - acc: 0.1108\n",
            "Epoch 2/10\n",
            "650/650 [==============================] - 3s 5ms/step - loss: 9.0758 - acc: 0.1846\n",
            "Epoch 3/10\n",
            "650/650 [==============================] - 3s 5ms/step - loss: 8.9304 - acc: 0.3046\n",
            "Epoch 4/10\n",
            "650/650 [==============================] - 3s 5ms/step - loss: 8.8167 - acc: 0.3523\n",
            "Epoch 5/10\n",
            "650/650 [==============================] - 3s 5ms/step - loss: 8.9521 - acc: 0.3631\n",
            "Epoch 6/10\n",
            "650/650 [==============================] - 3s 5ms/step - loss: 9.5934 - acc: 0.3000\n",
            "Epoch 7/10\n",
            "650/650 [==============================] - 3s 5ms/step - loss: 8.7367 - acc: 0.3600\n",
            "Epoch 8/10\n",
            "650/650 [==============================] - 3s 5ms/step - loss: 8.6804 - acc: 0.4154\n",
            "Epoch 9/10\n",
            "650/650 [==============================] - 3s 5ms/step - loss: 8.4483 - acc: 0.4292\n",
            "Epoch 10/10\n",
            "650/650 [==============================] - 3s 5ms/step - loss: 8.7127 - acc: 0.3923\n",
            "326/326 [==============================] - 2s 6ms/step\n",
            "650/650 [==============================] - 3s 4ms/step\n",
            "Epoch 1/10\n",
            "651/651 [==============================] - 4s 6ms/step - loss: 5.0894 - acc: 0.0876\n",
            "Epoch 2/10\n",
            "651/651 [==============================] - 3s 5ms/step - loss: 4.3074 - acc: 0.0876\n",
            "Epoch 3/10\n",
            "651/651 [==============================] - 3s 5ms/step - loss: 4.2470 - acc: 0.0829\n",
            "Epoch 4/10\n",
            "651/651 [==============================] - 3s 5ms/step - loss: 4.1948 - acc: 0.0829\n",
            "Epoch 5/10\n",
            "651/651 [==============================] - 3s 5ms/step - loss: 4.1072 - acc: 0.1290\n",
            "Epoch 6/10\n",
            "651/651 [==============================] - 3s 5ms/step - loss: 3.9587 - acc: 0.2519\n",
            "Epoch 7/10\n",
            "651/651 [==============================] - 3s 5ms/step - loss: 3.7408 - acc: 0.4040\n",
            "Epoch 8/10\n",
            "651/651 [==============================] - 3s 5ms/step - loss: 4.1731 - acc: 0.4731\n",
            "Epoch 9/10\n",
            "651/651 [==============================] - 3s 5ms/step - loss: 4.2136 - acc: 0.4823\n",
            "Epoch 10/10\n",
            "651/651 [==============================] - 3s 5ms/step - loss: 4.4662 - acc: 0.5576\n",
            "325/325 [==============================] - 2s 6ms/step\n",
            "651/651 [==============================] - 3s 4ms/step\n",
            "Epoch 1/10\n",
            "651/651 [==============================] - 4s 7ms/step - loss: 7.1570 - acc: 0.1152\n",
            "Epoch 2/10\n",
            "651/651 [==============================] - 3s 5ms/step - loss: 5.9387 - acc: 0.0998\n",
            "Epoch 3/10\n",
            "651/651 [==============================] - 3s 5ms/step - loss: 5.8694 - acc: 0.1260\n",
            "Epoch 4/10\n",
            "651/651 [==============================] - 3s 5ms/step - loss: 5.7766 - acc: 0.2427\n",
            "Epoch 5/10\n",
            "651/651 [==============================] - 3s 5ms/step - loss: 5.6160 - acc: 0.3318\n",
            "Epoch 6/10\n",
            "651/651 [==============================] - 3s 5ms/step - loss: 5.6837 - acc: 0.4685\n",
            "Epoch 7/10\n",
            "651/651 [==============================] - 3s 5ms/step - loss: 6.4217 - acc: 0.4439\n",
            "Epoch 8/10\n",
            "651/651 [==============================] - 3s 5ms/step - loss: 5.3348 - acc: 0.4808\n",
            "Epoch 9/10\n",
            "651/651 [==============================] - 3s 5ms/step - loss: 5.3708 - acc: 0.3825\n",
            "Epoch 10/10\n",
            "651/651 [==============================] - 3s 5ms/step - loss: 5.6743 - acc: 0.1751\n",
            "325/325 [==============================] - 2s 6ms/step\n",
            "651/651 [==============================] - 3s 4ms/step\n",
            "Epoch 1/10\n",
            "650/650 [==============================] - 4s 7ms/step - loss: 6.7357 - acc: 0.0323\n",
            "Epoch 2/10\n",
            "650/650 [==============================] - 3s 5ms/step - loss: 5.4300 - acc: 0.1554\n",
            "Epoch 3/10\n",
            "650/650 [==============================] - 3s 5ms/step - loss: 5.3257 - acc: 0.2385\n",
            "Epoch 4/10\n",
            "650/650 [==============================] - 3s 5ms/step - loss: 5.2184 - acc: 0.3323\n",
            "Epoch 5/10\n",
            "650/650 [==============================] - 3s 5ms/step - loss: 5.0383 - acc: 0.3862\n",
            "Epoch 6/10\n",
            "650/650 [==============================] - 3s 5ms/step - loss: 4.8100 - acc: 0.5092\n",
            "Epoch 7/10\n",
            "650/650 [==============================] - 3s 5ms/step - loss: 5.4129 - acc: 0.5477\n",
            "Epoch 8/10\n",
            "650/650 [==============================] - 3s 5ms/step - loss: 5.6250 - acc: 0.4877\n",
            "Epoch 9/10\n",
            "650/650 [==============================] - 3s 5ms/step - loss: 5.0145 - acc: 0.5892\n",
            "Epoch 10/10\n",
            "650/650 [==============================] - 3s 5ms/step - loss: 5.7725 - acc: 0.5631\n",
            "326/326 [==============================] - 2s 6ms/step\n",
            "650/650 [==============================] - 3s 4ms/step\n",
            "Epoch 1/10\n",
            "651/651 [==============================] - 4s 7ms/step - loss: 9.2347 - acc: 0.0691\n",
            "Epoch 2/10\n",
            "651/651 [==============================] - 3s 5ms/step - loss: 6.7096 - acc: 0.0845\n",
            "Epoch 3/10\n",
            "651/651 [==============================] - 3s 5ms/step - loss: 6.4699 - acc: 0.0845\n",
            "Epoch 4/10\n",
            "651/651 [==============================] - 3s 5ms/step - loss: 6.4291 - acc: 0.0937\n",
            "Epoch 5/10\n",
            "651/651 [==============================] - 3s 5ms/step - loss: 6.4062 - acc: 0.1306\n",
            "Epoch 6/10\n",
            "651/651 [==============================] - 3s 5ms/step - loss: 6.3842 - acc: 0.1659\n",
            "Epoch 7/10\n",
            "651/651 [==============================] - 3s 5ms/step - loss: 6.3586 - acc: 0.2304\n",
            "Epoch 8/10\n",
            "651/651 [==============================] - 3s 5ms/step - loss: 6.3302 - acc: 0.2934\n",
            "Epoch 9/10\n",
            "651/651 [==============================] - 3s 5ms/step - loss: 6.2973 - acc: 0.3287\n",
            "Epoch 10/10\n",
            "651/651 [==============================] - 3s 5ms/step - loss: 6.2591 - acc: 0.3579\n",
            "325/325 [==============================] - 2s 6ms/step\n",
            "651/651 [==============================] - 3s 4ms/step\n",
            "Epoch 1/10\n",
            "651/651 [==============================] - 4s 7ms/step - loss: 8.2738 - acc: 0.0983\n",
            "Epoch 2/10\n",
            "651/651 [==============================] - 3s 5ms/step - loss: 6.7660 - acc: 0.0876\n",
            "Epoch 3/10\n",
            "651/651 [==============================] - 3s 5ms/step - loss: 5.9148 - acc: 0.0876\n",
            "Epoch 4/10\n",
            "651/651 [==============================] - 3s 5ms/step - loss: 5.8351 - acc: 0.0876\n",
            "Epoch 5/10\n",
            "651/651 [==============================] - 3s 5ms/step - loss: 5.7841 - acc: 0.0891\n",
            "Epoch 6/10\n",
            "651/651 [==============================] - 3s 5ms/step - loss: 5.7497 - acc: 0.0983\n",
            "Epoch 7/10\n",
            "651/651 [==============================] - 3s 5ms/step - loss: 5.7075 - acc: 0.1198\n",
            "Epoch 8/10\n",
            "651/651 [==============================] - 3s 5ms/step - loss: 5.6587 - acc: 0.1782\n",
            "Epoch 9/10\n",
            "651/651 [==============================] - 3s 5ms/step - loss: 5.6011 - acc: 0.2488\n",
            "Epoch 10/10\n",
            "651/651 [==============================] - 3s 5ms/step - loss: 5.5331 - acc: 0.3257\n",
            "325/325 [==============================] - 2s 6ms/step\n",
            "651/651 [==============================] - 3s 4ms/step\n",
            "Epoch 1/10\n",
            "650/650 [==============================] - 18s 28ms/step - loss: 7.8168 - acc: 0.0969\n",
            "Epoch 2/10\n",
            "650/650 [==============================] - 3s 5ms/step - loss: 6.6010 - acc: 0.1215\n",
            "Epoch 3/10\n",
            "650/650 [==============================] - 3s 5ms/step - loss: 6.3918 - acc: 0.1354\n",
            "Epoch 4/10\n",
            "650/650 [==============================] - 3s 5ms/step - loss: 6.3224 - acc: 0.1108\n",
            "Epoch 5/10\n",
            "650/650 [==============================] - 3s 5ms/step - loss: 6.2642 - acc: 0.1015\n",
            "Epoch 6/10\n",
            "650/650 [==============================] - 3s 5ms/step - loss: 6.2311 - acc: 0.1000\n",
            "Epoch 7/10\n",
            "650/650 [==============================] - 3s 5ms/step - loss: 6.1964 - acc: 0.1092\n",
            "Epoch 8/10\n",
            "650/650 [==============================] - 3s 5ms/step - loss: 6.1577 - acc: 0.1292\n",
            "Epoch 9/10\n",
            "650/650 [==============================] - 3s 5ms/step - loss: 6.1102 - acc: 0.1754\n",
            "Epoch 10/10\n",
            "650/650 [==============================] - 3s 5ms/step - loss: 6.0494 - acc: 0.2846\n",
            "326/326 [==============================] - 2s 6ms/step\n",
            "650/650 [==============================] - 3s 4ms/step\n",
            "Epoch 1/10\n",
            "651/651 [==============================] - 10s 15ms/step - loss: 7.8255 - acc: 0.0952\n",
            "Epoch 2/10\n",
            "651/651 [==============================] - 3s 5ms/step - loss: 7.6612 - acc: 0.1106\n",
            "Epoch 3/10\n",
            "651/651 [==============================] - 3s 5ms/step - loss: 7.6093 - acc: 0.1736\n",
            "Epoch 4/10\n",
            "651/651 [==============================] - 3s 5ms/step - loss: 7.5554 - acc: 0.2028\n",
            "Epoch 5/10\n",
            "651/651 [==============================] - 3s 5ms/step - loss: 7.4860 - acc: 0.2258\n",
            "Epoch 6/10\n",
            "651/651 [==============================] - 3s 5ms/step - loss: 7.4620 - acc: 0.2688\n",
            "Epoch 7/10\n",
            "651/651 [==============================] - 3s 5ms/step - loss: 7.3672 - acc: 0.3472\n",
            "Epoch 8/10\n",
            "651/651 [==============================] - 3s 4ms/step - loss: 7.3115 - acc: 0.3717\n",
            "Epoch 9/10\n",
            "651/651 [==============================] - 3s 5ms/step - loss: 7.0429 - acc: 0.3917\n",
            "Epoch 10/10\n",
            "651/651 [==============================] - 3s 5ms/step - loss: 6.5956 - acc: 0.3671\n",
            "325/325 [==============================] - 2s 7ms/step\n",
            "651/651 [==============================] - 3s 4ms/step\n",
            "Epoch 1/10\n",
            "651/651 [==============================] - 5s 7ms/step - loss: 8.9671 - acc: 0.0676\n",
            "Epoch 2/10\n",
            "651/651 [==============================] - 3s 5ms/step - loss: 8.4481 - acc: 0.0891\n",
            "Epoch 3/10\n",
            "651/651 [==============================] - 3s 5ms/step - loss: 8.3645 - acc: 0.1306\n",
            "Epoch 4/10\n",
            "651/651 [==============================] - 3s 5ms/step - loss: 8.2435 - acc: 0.1782\n",
            "Epoch 5/10\n",
            "651/651 [==============================] - 3s 5ms/step - loss: 7.1632 - acc: 0.1290\n",
            "Epoch 6/10\n",
            "651/651 [==============================] - 3s 5ms/step - loss: 7.0063 - acc: 0.1075\n",
            "Epoch 7/10\n",
            "651/651 [==============================] - 3s 5ms/step - loss: 6.9770 - acc: 0.1045\n",
            "Epoch 8/10\n",
            "651/651 [==============================] - 3s 5ms/step - loss: 6.9567 - acc: 0.1121\n",
            "Epoch 9/10\n",
            "651/651 [==============================] - 3s 5ms/step - loss: 6.9304 - acc: 0.1490\n",
            "Epoch 10/10\n",
            "651/651 [==============================] - 3s 5ms/step - loss: 6.8955 - acc: 0.2212\n",
            "325/325 [==============================] - 2s 7ms/step\n",
            "651/651 [==============================] - 3s 4ms/step\n",
            "Epoch 1/10\n",
            "650/650 [==============================] - 5s 7ms/step - loss: 8.6921 - acc: 0.0446\n",
            "Epoch 2/10\n",
            "650/650 [==============================] - 3s 5ms/step - loss: 7.9806 - acc: 0.1015\n",
            "Epoch 3/10\n",
            "650/650 [==============================] - 3s 5ms/step - loss: 7.9010 - acc: 0.1723\n",
            "Epoch 4/10\n",
            "650/650 [==============================] - 3s 5ms/step - loss: 7.8526 - acc: 0.2031\n",
            "Epoch 5/10\n",
            "650/650 [==============================] - 3s 5ms/step - loss: 7.8314 - acc: 0.2631\n",
            "Epoch 6/10\n",
            "650/650 [==============================] - 3s 5ms/step - loss: 7.8118 - acc: 0.3015\n",
            "Epoch 7/10\n",
            "650/650 [==============================] - 3s 5ms/step - loss: 7.7891 - acc: 0.3246\n",
            "Epoch 8/10\n",
            "650/650 [==============================] - 3s 5ms/step - loss: 7.7566 - acc: 0.3262\n",
            "Epoch 9/10\n",
            "650/650 [==============================] - 3s 5ms/step - loss: 7.7116 - acc: 0.3477\n",
            "Epoch 10/10\n",
            "650/650 [==============================] - 3s 5ms/step - loss: 7.6459 - acc: 0.3769\n",
            "326/326 [==============================] - 2s 7ms/step\n",
            "650/650 [==============================] - 3s 4ms/step\n",
            "Epoch 1/10\n",
            "651/651 [==============================] - 5s 7ms/step - loss: 7.1540 - acc: 0.0461\n",
            "Epoch 2/10\n",
            "651/651 [==============================] - 3s 5ms/step - loss: 5.4121 - acc: 0.0860\n",
            "Epoch 3/10\n",
            "651/651 [==============================] - 3s 5ms/step - loss: 5.3190 - acc: 0.1183\n",
            "Epoch 4/10\n",
            "651/651 [==============================] - 3s 5ms/step - loss: 5.2756 - acc: 0.1935\n",
            "Epoch 5/10\n",
            "651/651 [==============================] - 3s 5ms/step - loss: 5.2304 - acc: 0.2611\n",
            "Epoch 6/10\n",
            "651/651 [==============================] - 3s 5ms/step - loss: 5.1739 - acc: 0.3379\n",
            "Epoch 7/10\n",
            "651/651 [==============================] - 3s 5ms/step - loss: 5.0879 - acc: 0.3902\n",
            "Epoch 8/10\n",
            "651/651 [==============================] - 3s 5ms/step - loss: 5.0031 - acc: 0.4455\n",
            "Epoch 9/10\n",
            "651/651 [==============================] - 3s 5ms/step - loss: 4.8607 - acc: 0.4117\n",
            "Epoch 10/10\n",
            "651/651 [==============================] - 3s 5ms/step - loss: 5.0313 - acc: 0.4700\n",
            "325/325 [==============================] - 2s 7ms/step\n",
            "651/651 [==============================] - 3s 4ms/step\n",
            "Epoch 1/10\n",
            "651/651 [==============================] - 5s 8ms/step - loss: 8.1067 - acc: 0.0952\n",
            "Epoch 2/10\n",
            "651/651 [==============================] - 3s 5ms/step - loss: 6.3308 - acc: 0.0937\n",
            "Epoch 3/10\n",
            "651/651 [==============================] - 3s 5ms/step - loss: 6.1228 - acc: 0.1167\n",
            "Epoch 4/10\n",
            "651/651 [==============================] - 3s 5ms/step - loss: 6.1049 - acc: 0.2012\n",
            "Epoch 5/10\n",
            "651/651 [==============================] - 3s 5ms/step - loss: 6.0886 - acc: 0.2304\n",
            "Epoch 6/10\n",
            "651/651 [==============================] - 3s 5ms/step - loss: 6.0687 - acc: 0.2396\n",
            "Epoch 7/10\n",
            "651/651 [==============================] - 3s 5ms/step - loss: 6.0456 - acc: 0.2873\n",
            "Epoch 8/10\n",
            "651/651 [==============================] - 3s 5ms/step - loss: 6.0171 - acc: 0.3318\n",
            "Epoch 9/10\n",
            "651/651 [==============================] - 3s 5ms/step - loss: 5.9813 - acc: 0.3917\n",
            "Epoch 10/10\n",
            "651/651 [==============================] - 3s 5ms/step - loss: 5.9325 - acc: 0.4147\n",
            "325/325 [==============================] - 2s 7ms/step\n",
            "651/651 [==============================] - 3s 4ms/step\n",
            "Epoch 1/10\n",
            "650/650 [==============================] - 5s 8ms/step - loss: 7.6663 - acc: 0.0969\n",
            "Epoch 2/10\n",
            "650/650 [==============================] - 3s 5ms/step - loss: 5.9541 - acc: 0.1585\n",
            "Epoch 3/10\n",
            "650/650 [==============================] - 3s 5ms/step - loss: 5.7522 - acc: 0.1969\n",
            "Epoch 4/10\n",
            "650/650 [==============================] - 3s 5ms/step - loss: 5.7265 - acc: 0.2046\n",
            "Epoch 5/10\n",
            "650/650 [==============================] - 3s 5ms/step - loss: 5.6963 - acc: 0.2246\n",
            "Epoch 6/10\n",
            "650/650 [==============================] - 3s 5ms/step - loss: 5.6577 - acc: 0.2477\n",
            "Epoch 7/10\n",
            "650/650 [==============================] - 3s 5ms/step - loss: 5.6093 - acc: 0.2769\n",
            "Epoch 8/10\n",
            "650/650 [==============================] - 3s 5ms/step - loss: 5.5486 - acc: 0.3015\n",
            "Epoch 9/10\n",
            "650/650 [==============================] - 3s 5ms/step - loss: 5.4702 - acc: 0.3338\n",
            "Epoch 10/10\n",
            "650/650 [==============================] - 3s 5ms/step - loss: 5.3679 - acc: 0.3692\n",
            "326/326 [==============================] - 2s 7ms/step\n",
            "650/650 [==============================] - 3s 4ms/step\n",
            "Epoch 1/10\n",
            "651/651 [==============================] - 5s 8ms/step - loss: 10.6044 - acc: 0.0215\n",
            "Epoch 2/10\n",
            "651/651 [==============================] - 3s 5ms/step - loss: 10.3444 - acc: 0.1889\n",
            "Epoch 3/10\n",
            "651/651 [==============================] - 3s 5ms/step - loss: 10.2445 - acc: 0.2320\n",
            "Epoch 4/10\n",
            "651/651 [==============================] - 3s 5ms/step - loss: 10.0312 - acc: 0.2550\n",
            "Epoch 5/10\n",
            "651/651 [==============================] - 3s 5ms/step - loss: 8.9234 - acc: 0.2627\n",
            "Epoch 6/10\n",
            "651/651 [==============================] - 3s 5ms/step - loss: 8.6611 - acc: 0.2949\n",
            "Epoch 7/10\n",
            "651/651 [==============================] - 3s 5ms/step - loss: 7.8028 - acc: 0.1398\n",
            "Epoch 8/10\n",
            "651/651 [==============================] - 3s 5ms/step - loss: 7.7924 - acc: 0.1029\n",
            "Epoch 9/10\n",
            "651/651 [==============================] - 3s 5ms/step - loss: 7.7872 - acc: 0.1091\n",
            "Epoch 10/10\n",
            "651/651 [==============================] - 3s 5ms/step - loss: 7.7693 - acc: 0.1352\n",
            "325/325 [==============================] - 2s 7ms/step\n",
            "651/651 [==============================] - 3s 4ms/step\n",
            "Epoch 1/10\n",
            "651/651 [==============================] - 5s 8ms/step - loss: 8.2560 - acc: 0.0000e+00\n",
            "Epoch 2/10\n",
            "651/651 [==============================] - 3s 5ms/step - loss: 6.4344 - acc: 0.0369\n",
            "Epoch 3/10\n",
            "651/651 [==============================] - 3s 5ms/step - loss: 6.2867 - acc: 0.1229\n",
            "Epoch 4/10\n",
            "651/651 [==============================] - 3s 5ms/step - loss: 6.2150 - acc: 0.1475\n",
            "Epoch 5/10\n",
            "651/651 [==============================] - 3s 5ms/step - loss: 6.1623 - acc: 0.1674\n",
            "Epoch 6/10\n",
            "651/651 [==============================] - 3s 5ms/step - loss: 6.1237 - acc: 0.1797\n",
            "Epoch 7/10\n",
            "651/651 [==============================] - 3s 5ms/step - loss: 6.0977 - acc: 0.2012\n",
            "Epoch 8/10\n",
            "651/651 [==============================] - 3s 5ms/step - loss: 6.0820 - acc: 0.2366\n",
            "Epoch 9/10\n",
            "651/651 [==============================] - 3s 5ms/step - loss: 6.0696 - acc: 0.2780\n",
            "Epoch 10/10\n",
            "651/651 [==============================] - 3s 5ms/step - loss: 6.0576 - acc: 0.3180\n",
            "325/325 [==============================] - 2s 7ms/step\n",
            "651/651 [==============================] - 3s 4ms/step\n",
            "Epoch 1/10\n",
            "976/976 [==============================] - 7s 7ms/step - loss: 10.5003 - acc: 0.0717\n",
            "Epoch 2/10\n",
            "976/976 [==============================] - 4s 5ms/step - loss: 10.2429 - acc: 0.1148\n",
            "Epoch 3/10\n",
            "976/976 [==============================] - 4s 5ms/step - loss: 10.1300 - acc: 0.1793\n",
            "Epoch 4/10\n",
            "976/976 [==============================] - 4s 5ms/step - loss: 10.0393 - acc: 0.2623\n",
            "Epoch 5/10\n",
            "976/976 [==============================] - 4s 5ms/step - loss: 10.2616 - acc: 0.1824\n",
            "Epoch 6/10\n",
            "976/976 [==============================] - 4s 4ms/step - loss: 10.0238 - acc: 0.2316\n",
            "Epoch 7/10\n",
            "976/976 [==============================] - 4s 5ms/step - loss: 9.9168 - acc: 0.2592\n",
            "Epoch 8/10\n",
            "976/976 [==============================] - 4s 5ms/step - loss: 9.8888 - acc: 0.3053\n",
            "Epoch 9/10\n",
            "976/976 [==============================] - 4s 4ms/step - loss: 8.6765 - acc: 0.3432\n",
            "Epoch 10/10\n",
            "976/976 [==============================] - 4s 4ms/step - loss: 9.4740 - acc: 0.2848\n"
          ],
          "name": "stdout"
        }
      ]
    },
    {
      "metadata": {
        "id": "HrM39V_-BsSa",
        "colab_type": "code",
        "outputId": "e959769b-ca69-443c-c936-155c48d7da97",
        "colab": {
          "base_uri": "https://localhost:8080/",
          "height": 35
        }
      },
      "cell_type": "code",
      "source": [
        "grid_result.best_params_"
      ],
      "execution_count": 0,
      "outputs": [
        {
          "output_type": "execute_result",
          "data": {
            "text/plain": [
              "{'activation': 'relu', 'batch_size': 128, 'epochs': 10, 'layers': [128, 256]}"
            ]
          },
          "metadata": {
            "tags": []
          },
          "execution_count": 59
        }
      ]
    },
    {
      "metadata": {
        "id": "fBuLnDvrx3iK",
        "colab_type": "text"
      },
      "cell_type": "markdown",
      "source": [
        "Usinf best parameter design model"
      ]
    },
    {
      "metadata": {
        "id": "Be_BBsCsZM8t",
        "colab_type": "code",
        "colab": {}
      },
      "cell_type": "code",
      "source": [
        "def latest_model():\n",
        "  l_model=Sequential()\n",
        "  l_model.add(base_model)\n",
        "  l_model.add(Dense(128,activation='relu'))\n",
        "  l_model.add(Dense(256,activation='relu'))\n",
        "  l_model.add(Dense(17,activation='softmax'))\n",
        "  return l_model"
      ],
      "execution_count": 0,
      "outputs": []
    },
    {
      "metadata": {
        "id": "9esUwlx2cNpN",
        "colab_type": "code",
        "colab": {}
      },
      "cell_type": "code",
      "source": [
        "datagen = ImageDataGenerator(\n",
        "        featurewise_center=False,  # set input mean to 0 over the dataset\n",
        "        samplewise_center=False,  # set each sample mean to 0\n",
        "        featurewise_std_normalization=False,  # divide inputs by std of the dataset\n",
        "        samplewise_std_normalization=False,  # divide each input by its std\n",
        "        zca_whitening=False,  # apply ZCA whitening\n",
        "        rotation_range=10,  # randomly rotate images in the range (degrees, 0 to 180)\n",
        "        zoom_range = 0.1, # Randomly zoom image \n",
        "        width_shift_range=0.2,  # randomly shift images horizontally (fraction of total width)\n",
        "        height_shift_range=0.2,  # randomly shift images vertically (fraction of total height)\n",
        "        horizontal_flip=True,  # randomly flip images\n",
        "        vertical_flip=False)  # randomly flip images\n",
        "\n",
        "datagen.fit(X)"
      ],
      "execution_count": 0,
      "outputs": []
    },
    {
      "metadata": {
        "id": "mO5PbrCWx8dM",
        "colab_type": "text"
      },
      "cell_type": "markdown",
      "source": [
        "fine tuning"
      ]
    },
    {
      "metadata": {
        "id": "sGl-8_r9amj-",
        "colab_type": "code",
        "outputId": "6b78d36e-386d-4175-e6c6-9fd62607eb54",
        "colab": {
          "base_uri": "https://localhost:8080/",
          "height": 381
        }
      },
      "cell_type": "code",
      "source": [
        "for i in range (len(base_model.layers)):\n",
        "    print (i,base_model.layers[i])\n",
        "  \n",
        "for layer in base_model.layers[15:]:\n",
        "    layer.trainable=True\n",
        "for layer in base_model.layers[0:15]:\n",
        "    layer.trainable=False\n"
      ],
      "execution_count": 0,
      "outputs": [
        {
          "output_type": "stream",
          "text": [
            "0 <keras.engine.input_layer.InputLayer object at 0x7f5e61e51240>\n",
            "1 <keras.layers.convolutional.Conv2D object at 0x7f5e5fad8390>\n",
            "2 <keras.layers.convolutional.Conv2D object at 0x7f5e5fad8e80>\n",
            "3 <keras.layers.pooling.MaxPooling2D object at 0x7f5e5fc04b70>\n",
            "4 <keras.layers.convolutional.Conv2D object at 0x7f5e5faed940>\n",
            "5 <keras.layers.convolutional.Conv2D object at 0x7f5e5fb15ef0>\n",
            "6 <keras.layers.pooling.MaxPooling2D object at 0x7f5e5d9e9f28>\n",
            "7 <keras.layers.convolutional.Conv2D object at 0x7f5e5d9e9be0>\n",
            "8 <keras.layers.convolutional.Conv2D object at 0x7f5e5da0ea58>\n",
            "9 <keras.layers.convolutional.Conv2D object at 0x7f5e5d9b5208>\n",
            "10 <keras.layers.pooling.MaxPooling2D object at 0x7f5e5d9cab00>\n",
            "11 <keras.layers.convolutional.Conv2D object at 0x7f5e5d9ca630>\n",
            "12 <keras.layers.convolutional.Conv2D object at 0x7f5e5d973358>\n",
            "13 <keras.layers.convolutional.Conv2D object at 0x7f5e5d98ad68>\n",
            "14 <keras.layers.pooling.MaxPooling2D object at 0x7f5e5d931668>\n",
            "15 <keras.layers.convolutional.Conv2D object at 0x7f5e5d931518>\n",
            "16 <keras.layers.convolutional.Conv2D object at 0x7f5e5d8da358>\n",
            "17 <keras.layers.convolutional.Conv2D object at 0x7f5e5d8f09b0>\n",
            "18 <keras.layers.pooling.MaxPooling2D object at 0x7f5e5d90afd0>\n",
            "19 <keras.layers.pooling.GlobalAveragePooling2D object at 0x7f5e5d90a9e8>\n"
          ],
          "name": "stdout"
        }
      ]
    },
    {
      "metadata": {
        "id": "-XoKe2_1JRZo",
        "colab_type": "code",
        "outputId": "250a4cea-4592-45ec-8bce-babaa32dfa5f",
        "colab": {
          "base_uri": "https://localhost:8080/",
          "height": 1835
        }
      },
      "cell_type": "code",
      "source": [
        "\n",
        "l_model=latest_model()\n",
        "\n",
        "l_model.compile(optimizer=Adam(lr=1e-4),loss='categorical_crossentropy',metrics=['accuracy'])\n",
        "batch_size=128\n",
        "History = l_model.fit_generator(datagen.flow(X,Y, batch_size=batch_size),\n",
        "                              epochs = 50, validation_data = (val_X,val_Y),\n",
        "                              verbose = 1, steps_per_epoch=X.shape[0] // batch_size)"
      ],
      "execution_count": 0,
      "outputs": [
        {
          "output_type": "stream",
          "text": [
            "Epoch 1/50\n",
            "7/7 [==============================] - 12s 2s/step - loss: 2.8734 - acc: 0.0748 - val_loss: 2.8512 - val_acc: 0.0990\n",
            "Epoch 2/50\n",
            "7/7 [==============================] - 4s 640ms/step - loss: 2.8327 - acc: 0.0687 - val_loss: 2.8142 - val_acc: 0.1042\n",
            "Epoch 3/50\n",
            "7/7 [==============================] - 5s 702ms/step - loss: 2.7917 - acc: 0.0861 - val_loss: 2.7830 - val_acc: 0.1198\n",
            "Epoch 4/50\n",
            "7/7 [==============================] - 6s 857ms/step - loss: 2.7660 - acc: 0.1109 - val_loss: 2.7583 - val_acc: 0.1406\n",
            "Epoch 5/50\n",
            "7/7 [==============================] - 6s 860ms/step - loss: 2.7389 - acc: 0.1710 - val_loss: 2.7366 - val_acc: 0.1927\n",
            "Epoch 6/50\n",
            "7/7 [==============================] - 6s 853ms/step - loss: 2.7243 - acc: 0.1943 - val_loss: 2.7136 - val_acc: 0.2240\n",
            "Epoch 7/50\n",
            "7/7 [==============================] - 6s 849ms/step - loss: 2.6970 - acc: 0.2711 - val_loss: 2.6904 - val_acc: 0.2448\n",
            "Epoch 8/50\n",
            "7/7 [==============================] - 8s 1s/step - loss: 2.6736 - acc: 0.2945 - val_loss: 2.6656 - val_acc: 0.2917\n",
            "Epoch 9/50\n",
            "7/7 [==============================] - 5s 771ms/step - loss: 2.6528 - acc: 0.3114 - val_loss: 2.6389 - val_acc: 0.3281\n",
            "Epoch 10/50\n",
            "7/7 [==============================] - 6s 865ms/step - loss: 2.6220 - acc: 0.3688 - val_loss: 2.6101 - val_acc: 0.3385\n",
            "Epoch 11/50\n",
            "7/7 [==============================] - 6s 866ms/step - loss: 2.6025 - acc: 0.3822 - val_loss: 2.5791 - val_acc: 0.3750\n",
            "Epoch 12/50\n",
            "7/7 [==============================] - 6s 853ms/step - loss: 2.5668 - acc: 0.4402 - val_loss: 2.5482 - val_acc: 0.3958\n",
            "Epoch 13/50\n",
            "7/7 [==============================] - 6s 856ms/step - loss: 2.5410 - acc: 0.4313 - val_loss: 2.5148 - val_acc: 0.4010\n",
            "Epoch 14/50\n",
            "7/7 [==============================] - 6s 858ms/step - loss: 2.5022 - acc: 0.4482 - val_loss: 2.4783 - val_acc: 0.4167\n",
            "Epoch 15/50\n",
            "7/7 [==============================] - 6s 863ms/step - loss: 2.4544 - acc: 0.4990 - val_loss: 2.4396 - val_acc: 0.4375\n",
            "Epoch 16/50\n",
            "7/7 [==============================] - 6s 850ms/step - loss: 2.4291 - acc: 0.4830 - val_loss: 2.3976 - val_acc: 0.4427\n",
            "Epoch 17/50\n",
            "7/7 [==============================] - 6s 924ms/step - loss: 2.3962 - acc: 0.4877 - val_loss: 2.3560 - val_acc: 0.4427\n",
            "Epoch 18/50\n",
            "7/7 [==============================] - 6s 862ms/step - loss: 2.3448 - acc: 0.5157 - val_loss: 2.3104 - val_acc: 0.4531\n",
            "Epoch 19/50\n",
            "7/7 [==============================] - 6s 844ms/step - loss: 2.3201 - acc: 0.5122 - val_loss: 2.2637 - val_acc: 0.4896\n",
            "Epoch 20/50\n",
            "7/7 [==============================] - 6s 861ms/step - loss: 2.2741 - acc: 0.5236 - val_loss: 2.2183 - val_acc: 0.5156\n",
            "Epoch 21/50\n",
            "7/7 [==============================] - 6s 861ms/step - loss: 2.2360 - acc: 0.5377 - val_loss: 2.1739 - val_acc: 0.5208\n",
            "Epoch 22/50\n",
            "7/7 [==============================] - 6s 863ms/step - loss: 2.1943 - acc: 0.5710 - val_loss: 2.1313 - val_acc: 0.5208\n",
            "Epoch 23/50\n",
            "7/7 [==============================] - 6s 863ms/step - loss: 2.1364 - acc: 0.5980 - val_loss: 2.0904 - val_acc: 0.5312\n",
            "Epoch 24/50\n",
            "7/7 [==============================] - 6s 859ms/step - loss: 2.1000 - acc: 0.5933 - val_loss: 2.0472 - val_acc: 0.5260\n",
            "Epoch 25/50\n",
            "7/7 [==============================] - 6s 910ms/step - loss: 2.0533 - acc: 0.5826 - val_loss: 2.0059 - val_acc: 0.5417\n",
            "Epoch 26/50\n",
            "7/7 [==============================] - 6s 865ms/step - loss: 2.0265 - acc: 0.6023 - val_loss: 1.9587 - val_acc: 0.5781\n",
            "Epoch 27/50\n",
            "7/7 [==============================] - 6s 861ms/step - loss: 1.9696 - acc: 0.6250 - val_loss: 1.9158 - val_acc: 0.5885\n",
            "Epoch 28/50\n",
            "7/7 [==============================] - 6s 865ms/step - loss: 1.9485 - acc: 0.6030 - val_loss: 1.8727 - val_acc: 0.5990\n",
            "Epoch 29/50\n",
            "7/7 [==============================] - 6s 872ms/step - loss: 1.8782 - acc: 0.6250 - val_loss: 1.8317 - val_acc: 0.6094\n",
            "Epoch 30/50\n",
            "7/7 [==============================] - 6s 858ms/step - loss: 1.8736 - acc: 0.6351 - val_loss: 1.7927 - val_acc: 0.6198\n",
            "Epoch 31/50\n",
            "7/7 [==============================] - 6s 866ms/step - loss: 1.8168 - acc: 0.6436 - val_loss: 1.7575 - val_acc: 0.6042\n",
            "Epoch 32/50\n",
            "7/7 [==============================] - 6s 858ms/step - loss: 1.7800 - acc: 0.6582 - val_loss: 1.7229 - val_acc: 0.6198\n",
            "Epoch 33/50\n",
            "7/7 [==============================] - 6s 915ms/step - loss: 1.7428 - acc: 0.6518 - val_loss: 1.6805 - val_acc: 0.6302\n",
            "Epoch 34/50\n",
            "7/7 [==============================] - 6s 849ms/step - loss: 1.7266 - acc: 0.6537 - val_loss: 1.6443 - val_acc: 0.6458\n",
            "Epoch 35/50\n",
            "7/7 [==============================] - 6s 864ms/step - loss: 1.6730 - acc: 0.6887 - val_loss: 1.6158 - val_acc: 0.6406\n",
            "Epoch 36/50\n",
            "7/7 [==============================] - 6s 861ms/step - loss: 1.6363 - acc: 0.6817 - val_loss: 1.5856 - val_acc: 0.6458\n",
            "Epoch 37/50\n",
            "7/7 [==============================] - 6s 866ms/step - loss: 1.6037 - acc: 0.6859 - val_loss: 1.5491 - val_acc: 0.6458\n",
            "Epoch 38/50\n",
            "7/7 [==============================] - 6s 866ms/step - loss: 1.5713 - acc: 0.6707 - val_loss: 1.5191 - val_acc: 0.6615\n",
            "Epoch 39/50\n",
            "7/7 [==============================] - 6s 861ms/step - loss: 1.5389 - acc: 0.6960 - val_loss: 1.4967 - val_acc: 0.6719\n",
            "Epoch 40/50\n",
            "7/7 [==============================] - 6s 851ms/step - loss: 1.5268 - acc: 0.6864 - val_loss: 1.4705 - val_acc: 0.6771\n",
            "Epoch 41/50\n",
            "7/7 [==============================] - 6s 911ms/step - loss: 1.4919 - acc: 0.6908 - val_loss: 1.4378 - val_acc: 0.6823\n",
            "Epoch 42/50\n",
            "7/7 [==============================] - 6s 851ms/step - loss: 1.4658 - acc: 0.6842 - val_loss: 1.4145 - val_acc: 0.6823\n",
            "Epoch 43/50\n",
            "7/7 [==============================] - 6s 871ms/step - loss: 1.4373 - acc: 0.7219 - val_loss: 1.3917 - val_acc: 0.6719\n",
            "Epoch 44/50\n",
            "7/7 [==============================] - 6s 861ms/step - loss: 1.4148 - acc: 0.7004 - val_loss: 1.3667 - val_acc: 0.6875\n",
            "Epoch 45/50\n",
            "7/7 [==============================] - 6s 858ms/step - loss: 1.3496 - acc: 0.7421 - val_loss: 1.3417 - val_acc: 0.6927\n",
            "Epoch 46/50\n",
            "7/7 [==============================] - 6s 868ms/step - loss: 1.3660 - acc: 0.6869 - val_loss: 1.3208 - val_acc: 0.6875\n",
            "Epoch 47/50\n",
            "7/7 [==============================] - 6s 864ms/step - loss: 1.3689 - acc: 0.7036 - val_loss: 1.3046 - val_acc: 0.6979\n",
            "Epoch 48/50\n",
            "7/7 [==============================] - 6s 842ms/step - loss: 1.3108 - acc: 0.7134 - val_loss: 1.2817 - val_acc: 0.6979\n",
            "Epoch 49/50\n",
            "7/7 [==============================] - 6s 918ms/step - loss: 1.2922 - acc: 0.7321 - val_loss: 1.2598 - val_acc: 0.7031\n",
            "Epoch 50/50\n",
            "7/7 [==============================] - 6s 859ms/step - loss: 1.2906 - acc: 0.7370 - val_loss: 1.2404 - val_acc: 0.7292\n"
          ],
          "name": "stdout"
        }
      ]
    },
    {
      "metadata": {
        "id": "KMDbBgQ0dS23",
        "colab_type": "code",
        "colab": {}
      },
      "cell_type": "code",
      "source": [
        "le=LabelEncoder()\n",
        "test_Y=le.fit_transform(test_Z)\n",
        "test_Y=to_categorical(test_Y,17)\n",
        "test_X=np.array(test_X)\n",
        "test_X=test_X/255\n",
        "\n",
        "\n"
      ],
      "execution_count": 0,
      "outputs": []
    },
    {
      "metadata": {
        "id": "J2iip0QmyAkG",
        "colab_type": "text"
      },
      "cell_type": "markdown",
      "source": [
        "FInding testing accuracy"
      ]
    },
    {
      "metadata": {
        "id": "W3o6QmCzd1Ab",
        "colab_type": "code",
        "outputId": "4c742565-ca0d-486d-d01c-387782b2ba47",
        "colab": {
          "base_uri": "https://localhost:8080/",
          "height": 472
        }
      },
      "cell_type": "code",
      "source": [
        "\n",
        "pred=l_model.predict(test_X)\n",
        "pred_digits=np.argmax(pred,axis=1)\n",
        "act_digits = np.argmax(test_Y,axis=1)\n",
        "print(pred_digits)\n",
        "print(act_digits)\n",
        "print(test_Y)\n",
        "\n",
        "\n",
        "# calculate accuracy\n",
        "from sklearn import metrics\n",
        "\n",
        "print('Accuracy=')\n",
        "print(metrics.accuracy_score(act_digits,pred_digits)*100)"
      ],
      "execution_count": 0,
      "outputs": [
        {
          "output_type": "stream",
          "text": [
            "[ 0  0  0  9  0  0  0  0  5  9  9  9  9  0 12 12  9 14 15 11  9 10 10 10\n",
            " 10 10 10 10 11 10 16 13  9 13  7  8 11 11 11 11  9 11 11 11  8 16 12  8\n",
            "  5 12  9 13 13 13 13 13 13 13 12 13 14 14 14 14 14 14 14 14 14  8  0  0\n",
            "  0 15  9  9 15 15  5 11 15 16 16 16 16 16 16 15 16 16 16 16  1  1  1  1\n",
            "  1  1  1  1  1  1  2  2  2  2  2 12  2  2  3  4  3  4  4  4  4  4  4  4\n",
            "  3  3  4  3  3 12 12  6  4  3  3  4  4  4  4  4  3  4  5 15  5 14  5  5\n",
            " 13  5  5  5  5  5  5  5  5  3  5  5  7  7  7  7  7  7 13 12 12  5  7  8\n",
            "  8  8  8  8  8  8  8  0 14  7 13]\n",
            "[ 0  0  0  0  0  0  0  0  0  8  8  8  8  8  8  8  8  8  8  8  8  9  9  9\n",
            "  9  9  9  9 10 10 10 10 10 10 10 10 10 10 10 10 10 10 10 10 10 11 11 11\n",
            " 11 11 11 12 12 12 12 12 12 12 12 12 13 13 13 13 13 13 13 13 13 13 14 14\n",
            " 14 14 14 14 14 14 14 14 14 15 15 15 15 15 15 15 15 15 15 15  1  1  1  1\n",
            "  1  1  1  1  1  1  2  2  2  2  2  2  2  2  3  3  3  3  3  3  3  3  3  3\n",
            "  3  3  3  3  3  3  3  3  3  3  3  4  4  4  4  4  4  4  4  5  5  5  5  5\n",
            "  5  5  5  5  5  5  5  5  5  5  5  5  6  6  6  6  6  6  6  6  6  6  6  7\n",
            "  7  7  7  7  7  7  7  7  7  7  7]\n",
            "[[1. 0. 0. ... 0. 0. 0.]\n",
            " [1. 0. 0. ... 0. 0. 0.]\n",
            " [1. 0. 0. ... 0. 0. 0.]\n",
            " ...\n",
            " [0. 0. 0. ... 0. 0. 0.]\n",
            " [0. 0. 0. ... 0. 0. 0.]\n",
            " [0. 0. 0. ... 0. 0. 0.]]\n",
            "Accuracy=\n",
            "30.726256983240223\n"
          ],
          "name": "stdout"
        }
      ]
    },
    {
      "metadata": {
        "id": "lpE2Ku3fkTff",
        "colab_type": "code",
        "colab": {}
      },
      "cell_type": "code",
      "source": [
        ""
      ],
      "execution_count": 0,
      "outputs": []
    },
    {
      "metadata": {
        "id": "z8kkIWPlkcvL",
        "colab_type": "code",
        "colab": {}
      },
      "cell_type": "code",
      "source": [
        ""
      ],
      "execution_count": 0,
      "outputs": []
    },
    {
      "metadata": {
        "id": "s9pRH7qjkmCa",
        "colab_type": "code",
        "colab": {}
      },
      "cell_type": "code",
      "source": [
        ""
      ],
      "execution_count": 0,
      "outputs": []
    },
    {
      "metadata": {
        "id": "3mHjanFjtOj3",
        "colab_type": "code",
        "colab": {}
      },
      "cell_type": "code",
      "source": [
        ""
      ],
      "execution_count": 0,
      "outputs": []
    }
  ]
}